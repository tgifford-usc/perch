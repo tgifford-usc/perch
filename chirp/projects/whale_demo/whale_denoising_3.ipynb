{
  "cells": [
    {
      "cell_type": "code",
      "execution_count": 1,
      "id": "06d4c580",
      "metadata": {
        "colab": {
          "base_uri": "https://localhost:8080/",
          "height": 1000
        },
        "id": "06d4c580",
        "outputId": "35b14262-67e1-40af-8f3c-fde4edeca559",
        "collapsed": true
      },
      "outputs": [
        {
          "output_type": "stream",
          "name": "stdout",
          "text": [
            "Collecting git+https://github.com/google-research/perch.git\n",
            "  Cloning https://github.com/google-research/perch.git to /tmp/pip-req-build-7zn8ih6c\n",
            "  Running command git clone --filter=blob:none --quiet https://github.com/google-research/perch.git /tmp/pip-req-build-7zn8ih6c\n",
            "  Resolved https://github.com/google-research/perch.git to commit 5701b76a80b9e37975dc42c90cd97d8138d906e6\n",
            "  Installing build dependencies ... \u001b[?25l\u001b[?25hdone\n",
            "  Getting requirements to build wheel ... \u001b[?25l\u001b[?25hdone\n",
            "  Preparing metadata (pyproject.toml) ... \u001b[?25l\u001b[?25hdone\n",
            "Collecting perch_hoplite@ git+https://github.com/google-research/perch-hoplite.git (from chirp==0.1.0)\n",
            "  Cloning https://github.com/google-research/perch-hoplite.git to /tmp/pip-install-m0gmazhw/perch-hoplite_f5df5a3e7d364ab4881613d9f5e536db\n",
            "  Running command git clone --filter=blob:none --quiet https://github.com/google-research/perch-hoplite.git /tmp/pip-install-m0gmazhw/perch-hoplite_f5df5a3e7d364ab4881613d9f5e536db\n",
            "  Resolved https://github.com/google-research/perch-hoplite.git to commit 89510073db5052959ffd3589d2e773d9e7c3e5c8\n",
            "  Installing build dependencies ... \u001b[?25l\u001b[?25hdone\n",
            "  Getting requirements to build wheel ... \u001b[?25l\u001b[?25hdone\n",
            "  Preparing metadata (pyproject.toml) ... \u001b[?25l\u001b[?25hdone\n",
            "Collecting SPARQLWrapper<3.0.0,>=2.0.0 (from chirp==0.1.0)\n",
            "  Downloading SPARQLWrapper-2.0.0-py3-none-any.whl.metadata (2.0 kB)\n",
            "Collecting apache-beam<3.0.0,>=2.50.0 (from apache-beam[gcp]<3.0.0,>=2.50.0->chirp==0.1.0)\n",
            "  Downloading apache_beam-2.66.0-cp311-cp311-manylinux_2_17_x86_64.manylinux2014_x86_64.whl.metadata (19 kB)\n",
            "Requirement already satisfied: chex<0.2.0,>=0.1.7 in /usr/local/lib/python3.11/dist-packages (from chirp==0.1.0) (0.1.90)\n",
            "Collecting clu<0.0.13,>=0.0.12 (from chirp==0.1.0)\n",
            "  Downloading clu-0.0.12-py3-none-any.whl.metadata (1.9 kB)\n",
            "Requirement already satisfied: flax<0.11,>=0.10 in /usr/local/lib/python3.11/dist-packages (from chirp==0.1.0) (0.10.6)\n",
            "Requirement already satisfied: imageio<3.0.0,>=2.5.0 in /usr/local/lib/python3.11/dist-packages (from chirp==0.1.0) (2.37.0)\n",
            "Collecting ipywidgets<9.0,>=8.1 (from chirp==0.1.0)\n",
            "  Downloading ipywidgets-8.1.7-py3-none-any.whl.metadata (2.4 kB)\n",
            "Collecting jax<0.7,>=0.6 (from chirp==0.1.0)\n",
            "  Downloading jax-0.6.2-py3-none-any.whl.metadata (13 kB)\n",
            "Requirement already satisfied: matplotlib<4.0.0,>=3.6.1 in /usr/local/lib/python3.11/dist-packages (from chirp==0.1.0) (3.10.0)\n",
            "Collecting notebook<8.0.0,>=7.0.4 (from chirp==0.1.0)\n",
            "  Downloading notebook-7.4.5-py3-none-any.whl.metadata (10 kB)\n",
            "Collecting numpy<2.0,>=1.24 (from chirp==0.1.0)\n",
            "  Downloading numpy-1.26.4-cp311-cp311-manylinux_2_17_x86_64.manylinux2014_x86_64.whl.metadata (61 kB)\n",
            "\u001b[2K     \u001b[90m━━━━━━━━━━━━━━━━━━━━━━━━━━━━━━━━━━━━━━━━\u001b[0m \u001b[32m61.0/61.0 kB\u001b[0m \u001b[31m5.6 MB/s\u001b[0m eta \u001b[36m0:00:00\u001b[0m\n",
            "\u001b[?25hRequirement already satisfied: optax>=0.2.3 in /usr/local/lib/python3.11/dist-packages (from chirp==0.1.0) (0.2.5)\n",
            "Requirement already satisfied: pandas<3.0.0,>=2.1.1 in /usr/local/lib/python3.11/dist-packages (from pandas[gcp]<3.0.0,>=2.1.1->chirp==0.1.0) (2.2.2)\n",
            "Requirement already satisfied: tensorflow<3.0,>=2.19 in /usr/local/lib/python3.11/dist-packages (from chirp==0.1.0) (2.19.0)\n",
            "Requirement already satisfied: tensorflow-hub<0.17,>=0.16 in /usr/local/lib/python3.11/dist-packages (from chirp==0.1.0) (0.16.1)\n",
            "Requirement already satisfied: tf-keras<3.0,>=2.19 in /usr/local/lib/python3.11/dist-packages (from chirp==0.1.0) (2.19.0)\n",
            "Requirement already satisfied: tqdm<5.0,>=4.6 in /usr/local/lib/python3.11/dist-packages (from chirp==0.1.0) (4.67.1)\n",
            "Collecting crcmod<2.0,>=1.7 (from apache-beam<3.0.0,>=2.50.0->apache-beam[gcp]<3.0.0,>=2.50.0->chirp==0.1.0)\n",
            "  Downloading crcmod-1.7.tar.gz (89 kB)\n",
            "\u001b[2K     \u001b[90m━━━━━━━━━━━━━━━━━━━━━━━━━━━━━━━━━━━━━━━━\u001b[0m \u001b[32m89.7/89.7 kB\u001b[0m \u001b[31m9.7 MB/s\u001b[0m eta \u001b[36m0:00:00\u001b[0m\n",
            "\u001b[?25h  Preparing metadata (setup.py) ... \u001b[?25l\u001b[?25hdone\n",
            "Requirement already satisfied: orjson<4,>=3.9.7 in /usr/local/lib/python3.11/dist-packages (from apache-beam<3.0.0,>=2.50.0->apache-beam[gcp]<3.0.0,>=2.50.0->chirp==0.1.0) (3.11.1)\n",
            "Collecting dill<0.3.2,>=0.3.1.1 (from apache-beam<3.0.0,>=2.50.0->apache-beam[gcp]<3.0.0,>=2.50.0->chirp==0.1.0)\n",
            "  Downloading dill-0.3.1.1.tar.gz (151 kB)\n",
            "\u001b[2K     \u001b[90m━━━━━━━━━━━━━━━━━━━━━━━━━━━━━━━━━━━━━━\u001b[0m \u001b[32m152.0/152.0 kB\u001b[0m \u001b[31m15.5 MB/s\u001b[0m eta \u001b[36m0:00:00\u001b[0m\n",
            "\u001b[?25h  Preparing metadata (setup.py) ... \u001b[?25l\u001b[?25hdone\n",
            "Collecting fastavro<2,>=0.23.6 (from apache-beam<3.0.0,>=2.50.0->apache-beam[gcp]<3.0.0,>=2.50.0->chirp==0.1.0)\n",
            "  Downloading fastavro-1.12.0-cp311-cp311-manylinux2014_x86_64.manylinux_2_17_x86_64.manylinux_2_28_x86_64.whl.metadata (5.7 kB)\n",
            "Collecting fasteners<1.0,>=0.3 (from apache-beam<3.0.0,>=2.50.0->apache-beam[gcp]<3.0.0,>=2.50.0->chirp==0.1.0)\n",
            "  Downloading fasteners-0.19-py3-none-any.whl.metadata (4.9 kB)\n",
            "Collecting grpcio!=1.48.0,!=1.59.*,!=1.60.*,!=1.61.*,!=1.62.0,!=1.62.1,<1.66.0,<2,>=1.33.1 (from apache-beam<3.0.0,>=2.50.0->apache-beam[gcp]<3.0.0,>=2.50.0->chirp==0.1.0)\n",
            "  Downloading grpcio-1.65.5-cp311-cp311-manylinux_2_17_x86_64.manylinux2014_x86_64.whl.metadata (3.3 kB)\n",
            "Collecting hdfs<3.0.0,>=2.1.0 (from apache-beam<3.0.0,>=2.50.0->apache-beam[gcp]<3.0.0,>=2.50.0->chirp==0.1.0)\n",
            "  Downloading hdfs-2.7.3.tar.gz (43 kB)\n",
            "\u001b[2K     \u001b[90m━━━━━━━━━━━━━━━━━━━━━━━━━━━━━━━━━━━━━━━━\u001b[0m \u001b[32m43.5/43.5 kB\u001b[0m \u001b[31m4.0 MB/s\u001b[0m eta \u001b[36m0:00:00\u001b[0m\n",
            "\u001b[?25h  Preparing metadata (setup.py) ... \u001b[?25l\u001b[?25hdone\n",
            "Requirement already satisfied: httplib2<0.23.0,>=0.8 in /usr/local/lib/python3.11/dist-packages (from apache-beam<3.0.0,>=2.50.0->apache-beam[gcp]<3.0.0,>=2.50.0->chirp==0.1.0) (0.22.0)\n",
            "Requirement already satisfied: jsonschema<5.0.0,>=4.0.0 in /usr/local/lib/python3.11/dist-packages (from apache-beam<3.0.0,>=2.50.0->apache-beam[gcp]<3.0.0,>=2.50.0->chirp==0.1.0) (4.25.0)\n",
            "Collecting jsonpickle<4.0.0,>=3.0.0 (from apache-beam<3.0.0,>=2.50.0->apache-beam[gcp]<3.0.0,>=2.50.0->chirp==0.1.0)\n",
            "  Downloading jsonpickle-3.4.2-py3-none-any.whl.metadata (8.1 kB)\n",
            "Collecting objsize<0.8.0,>=0.6.1 (from apache-beam<3.0.0,>=2.50.0->apache-beam[gcp]<3.0.0,>=2.50.0->chirp==0.1.0)\n",
            "  Downloading objsize-0.7.1-py3-none-any.whl.metadata (12 kB)\n",
            "Requirement already satisfied: packaging>=22.0 in /usr/local/lib/python3.11/dist-packages (from apache-beam<3.0.0,>=2.50.0->apache-beam[gcp]<3.0.0,>=2.50.0->chirp==0.1.0) (25.0)\n",
            "Collecting pymongo<5.0.0,>=3.8.0 (from apache-beam<3.0.0,>=2.50.0->apache-beam[gcp]<3.0.0,>=2.50.0->chirp==0.1.0)\n",
            "  Downloading pymongo-4.14.0-cp311-cp311-manylinux_2_17_x86_64.manylinux2014_x86_64.whl.metadata (22 kB)\n",
            "Requirement already satisfied: proto-plus<2,>=1.7.1 in /usr/local/lib/python3.11/dist-packages (from apache-beam<3.0.0,>=2.50.0->apache-beam[gcp]<3.0.0,>=2.50.0->chirp==0.1.0) (1.26.1)\n",
            "Requirement already satisfied: protobuf!=4.0.*,!=4.21.*,!=4.22.0,!=4.23.*,!=4.24.*,<6.0.0.dev0,>=3.20.3 in /usr/local/lib/python3.11/dist-packages (from apache-beam<3.0.0,>=2.50.0->apache-beam[gcp]<3.0.0,>=2.50.0->chirp==0.1.0) (5.29.5)\n",
            "Collecting pydot<2,>=1.2.0 (from apache-beam<3.0.0,>=2.50.0->apache-beam[gcp]<3.0.0,>=2.50.0->chirp==0.1.0)\n",
            "  Downloading pydot-1.4.2-py2.py3-none-any.whl.metadata (8.0 kB)\n",
            "Requirement already satisfied: python-dateutil<3,>=2.8.0 in /usr/local/lib/python3.11/dist-packages (from apache-beam<3.0.0,>=2.50.0->apache-beam[gcp]<3.0.0,>=2.50.0->chirp==0.1.0) (2.9.0.post0)\n",
            "Requirement already satisfied: pytz>=2018.3 in /usr/local/lib/python3.11/dist-packages (from apache-beam<3.0.0,>=2.50.0->apache-beam[gcp]<3.0.0,>=2.50.0->chirp==0.1.0) (2025.2)\n",
            "Collecting redis<6,>=5.0.0 (from apache-beam<3.0.0,>=2.50.0->apache-beam[gcp]<3.0.0,>=2.50.0->chirp==0.1.0)\n",
            "  Downloading redis-5.3.1-py3-none-any.whl.metadata (9.2 kB)\n",
            "Requirement already satisfied: regex>=2020.6.8 in /usr/local/lib/python3.11/dist-packages (from apache-beam<3.0.0,>=2.50.0->apache-beam[gcp]<3.0.0,>=2.50.0->chirp==0.1.0) (2024.11.6)\n",
            "Requirement already satisfied: requests<3.0.0,>=2.24.0 in /usr/local/lib/python3.11/dist-packages (from apache-beam<3.0.0,>=2.50.0->apache-beam[gcp]<3.0.0,>=2.50.0->chirp==0.1.0) (2.32.3)\n",
            "Requirement already satisfied: sortedcontainers>=2.4.0 in /usr/local/lib/python3.11/dist-packages (from apache-beam<3.0.0,>=2.50.0->apache-beam[gcp]<3.0.0,>=2.50.0->chirp==0.1.0) (2.4.0)\n",
            "Requirement already satisfied: typing-extensions>=3.7.0 in /usr/local/lib/python3.11/dist-packages (from apache-beam<3.0.0,>=2.50.0->apache-beam[gcp]<3.0.0,>=2.50.0->chirp==0.1.0) (4.14.1)\n",
            "Requirement already satisfied: zstandard<1,>=0.18.0 in /usr/local/lib/python3.11/dist-packages (from apache-beam<3.0.0,>=2.50.0->apache-beam[gcp]<3.0.0,>=2.50.0->chirp==0.1.0) (0.23.0)\n",
            "Requirement already satisfied: pyyaml<7.0.0,>=3.12 in /usr/local/lib/python3.11/dist-packages (from apache-beam<3.0.0,>=2.50.0->apache-beam[gcp]<3.0.0,>=2.50.0->chirp==0.1.0) (6.0.2)\n",
            "Requirement already satisfied: pyarrow<19.0.0,>=3.0.0 in /usr/local/lib/python3.11/dist-packages (from apache-beam<3.0.0,>=2.50.0->apache-beam[gcp]<3.0.0,>=2.50.0->chirp==0.1.0) (18.1.0)\n",
            "Collecting pyarrow-hotfix<1 (from apache-beam<3.0.0,>=2.50.0->apache-beam[gcp]<3.0.0,>=2.50.0->chirp==0.1.0)\n",
            "  Downloading pyarrow_hotfix-0.7-py3-none-any.whl.metadata (3.6 kB)\n",
            "Requirement already satisfied: cachetools<6,>=3.1.0 in /usr/local/lib/python3.11/dist-packages (from apache-beam[gcp]<3.0.0,>=2.50.0->chirp==0.1.0) (5.5.2)\n",
            "Requirement already satisfied: google-api-core<3,>=2.0.0 in /usr/local/lib/python3.11/dist-packages (from apache-beam[gcp]<3.0.0,>=2.50.0->chirp==0.1.0) (2.25.1)\n",
            "Collecting google-apitools<0.5.32,>=0.5.31 (from apache-beam[gcp]<3.0.0,>=2.50.0->chirp==0.1.0)\n",
            "  Downloading google-apitools-0.5.31.tar.gz (173 kB)\n",
            "\u001b[2K     \u001b[90m━━━━━━━━━━━━━━━━━━━━━━━━━━━━━━━━━━━━━━\u001b[0m \u001b[32m173.5/173.5 kB\u001b[0m \u001b[31m18.1 MB/s\u001b[0m eta \u001b[36m0:00:00\u001b[0m\n",
            "\u001b[?25h  Preparing metadata (setup.py) ... \u001b[?25l\u001b[?25hdone\n",
            "Requirement already satisfied: google-auth<3,>=1.18.0 in /usr/local/lib/python3.11/dist-packages (from apache-beam[gcp]<3.0.0,>=2.50.0->chirp==0.1.0) (2.38.0)\n",
            "Requirement already satisfied: google-auth-httplib2<0.3.0,>=0.1.0 in /usr/local/lib/python3.11/dist-packages (from apache-beam[gcp]<3.0.0,>=2.50.0->chirp==0.1.0) (0.2.0)\n",
            "Requirement already satisfied: google-cloud-datastore<3,>=2.0.0 in /usr/local/lib/python3.11/dist-packages (from apache-beam[gcp]<3.0.0,>=2.50.0->chirp==0.1.0) (2.21.0)\n",
            "Collecting google-cloud-pubsub<3,>=2.1.0 (from apache-beam[gcp]<3.0.0,>=2.50.0->chirp==0.1.0)\n",
            "  Downloading google_cloud_pubsub-2.31.1-py3-none-any.whl.metadata (10 kB)\n",
            "Collecting google-cloud-pubsublite<2,>=1.2.0 (from apache-beam[gcp]<3.0.0,>=2.50.0->chirp==0.1.0)\n",
            "  Downloading google_cloud_pubsublite-1.12.0-py2.py3-none-any.whl.metadata (5.8 kB)\n",
            "Requirement already satisfied: google-cloud-storage<3,>=2.18.2 in /usr/local/lib/python3.11/dist-packages (from apache-beam[gcp]<3.0.0,>=2.50.0->chirp==0.1.0) (2.19.0)\n",
            "Requirement already satisfied: google-cloud-bigquery<4,>=2.0.0 in /usr/local/lib/python3.11/dist-packages (from apache-beam[gcp]<3.0.0,>=2.50.0->chirp==0.1.0) (3.35.1)\n",
            "Requirement already satisfied: google-cloud-bigquery-storage<3,>=2.6.3 in /usr/local/lib/python3.11/dist-packages (from apache-beam[gcp]<3.0.0,>=2.50.0->chirp==0.1.0) (2.32.0)\n",
            "Requirement already satisfied: google-cloud-core<3,>=2.0.0 in /usr/local/lib/python3.11/dist-packages (from apache-beam[gcp]<3.0.0,>=2.50.0->chirp==0.1.0) (2.4.3)\n",
            "Collecting google-cloud-bigtable<3,>=2.19.0 (from apache-beam[gcp]<3.0.0,>=2.50.0->chirp==0.1.0)\n",
            "  Downloading google_cloud_bigtable-2.32.0-py3-none-any.whl.metadata (5.7 kB)\n",
            "Requirement already satisfied: google-cloud-spanner<4,>=3.0.0 in /usr/local/lib/python3.11/dist-packages (from apache-beam[gcp]<3.0.0,>=2.50.0->chirp==0.1.0) (3.56.0)\n",
            "Collecting google-cloud-dlp<4,>=3.0.0 (from apache-beam[gcp]<3.0.0,>=2.50.0->chirp==0.1.0)\n",
            "  Downloading google_cloud_dlp-3.31.0-py3-none-any.whl.metadata (9.7 kB)\n",
            "Requirement already satisfied: google-cloud-language<3,>=2.0 in /usr/local/lib/python3.11/dist-packages (from apache-beam[gcp]<3.0.0,>=2.50.0->chirp==0.1.0) (2.17.2)\n",
            "Collecting google-cloud-videointelligence<3,>=2.0 (from apache-beam[gcp]<3.0.0,>=2.50.0->chirp==0.1.0)\n",
            "  Downloading google_cloud_videointelligence-2.16.2-py3-none-any.whl.metadata (10 kB)\n",
            "Collecting google-cloud-vision<4,>=2 (from apache-beam[gcp]<3.0.0,>=2.50.0->chirp==0.1.0)\n",
            "  Downloading google_cloud_vision-3.10.2-py3-none-any.whl.metadata (9.6 kB)\n",
            "Collecting google-cloud-recommendations-ai<0.11.0,>=0.1.0 (from apache-beam[gcp]<3.0.0,>=2.50.0->chirp==0.1.0)\n",
            "  Downloading google_cloud_recommendations_ai-0.10.18-py3-none-any.whl.metadata (9.7 kB)\n",
            "Requirement already satisfied: google-cloud-aiplatform<2.0,>=1.26.0 in /usr/local/lib/python3.11/dist-packages (from apache-beam[gcp]<3.0.0,>=2.50.0->chirp==0.1.0) (1.106.0)\n",
            "Requirement already satisfied: keyrings.google-artifactregistry-auth in /usr/local/lib/python3.11/dist-packages (from apache-beam[gcp]<3.0.0,>=2.50.0->chirp==0.1.0) (1.1.2)\n",
            "Requirement already satisfied: absl-py>=0.9.0 in /usr/local/lib/python3.11/dist-packages (from chex<0.2.0,>=0.1.7->chirp==0.1.0) (1.4.0)\n",
            "Requirement already satisfied: jaxlib>=0.4.27 in /usr/local/lib/python3.11/dist-packages (from chex<0.2.0,>=0.1.7->chirp==0.1.0) (0.5.3)\n",
            "Requirement already satisfied: toolz>=0.9.0 in /usr/local/lib/python3.11/dist-packages (from chex<0.2.0,>=0.1.7->chirp==0.1.0) (0.12.1)\n",
            "Requirement already satisfied: etils[epath] in /usr/local/lib/python3.11/dist-packages (from clu<0.0.13,>=0.0.12->chirp==0.1.0) (1.13.0)\n",
            "Collecting ml-collections (from clu<0.0.13,>=0.0.12->chirp==0.1.0)\n",
            "  Downloading ml_collections-1.1.0-py3-none-any.whl.metadata (22 kB)\n",
            "Requirement already satisfied: wrapt in /usr/local/lib/python3.11/dist-packages (from clu<0.0.13,>=0.0.12->chirp==0.1.0) (1.17.2)\n",
            "Requirement already satisfied: msgpack in /usr/local/lib/python3.11/dist-packages (from flax<0.11,>=0.10->chirp==0.1.0) (1.1.1)\n",
            "Requirement already satisfied: orbax-checkpoint in /usr/local/lib/python3.11/dist-packages (from flax<0.11,>=0.10->chirp==0.1.0) (0.11.20)\n",
            "Requirement already satisfied: tensorstore in /usr/local/lib/python3.11/dist-packages (from flax<0.11,>=0.10->chirp==0.1.0) (0.1.76)\n",
            "Requirement already satisfied: rich>=11.1 in /usr/local/lib/python3.11/dist-packages (from flax<0.11,>=0.10->chirp==0.1.0) (13.9.4)\n",
            "Requirement already satisfied: treescope>=0.1.7 in /usr/local/lib/python3.11/dist-packages (from flax<0.11,>=0.10->chirp==0.1.0) (0.1.9)\n",
            "Requirement already satisfied: pillow>=8.3.2 in /usr/local/lib/python3.11/dist-packages (from imageio<3.0.0,>=2.5.0->chirp==0.1.0) (11.3.0)\n",
            "Collecting comm>=0.1.3 (from ipywidgets<9.0,>=8.1->chirp==0.1.0)\n",
            "  Downloading comm-0.2.3-py3-none-any.whl.metadata (3.7 kB)\n",
            "Requirement already satisfied: ipython>=6.1.0 in /usr/local/lib/python3.11/dist-packages (from ipywidgets<9.0,>=8.1->chirp==0.1.0) (7.34.0)\n",
            "Requirement already satisfied: traitlets>=4.3.1 in /usr/local/lib/python3.11/dist-packages (from ipywidgets<9.0,>=8.1->chirp==0.1.0) (5.7.1)\n",
            "Collecting widgetsnbextension~=4.0.14 (from ipywidgets<9.0,>=8.1->chirp==0.1.0)\n",
            "  Downloading widgetsnbextension-4.0.14-py3-none-any.whl.metadata (1.6 kB)\n",
            "Requirement already satisfied: jupyterlab_widgets~=3.0.15 in /usr/local/lib/python3.11/dist-packages (from ipywidgets<9.0,>=8.1->chirp==0.1.0) (3.0.15)\n",
            "Collecting jaxlib>=0.4.27 (from chex<0.2.0,>=0.1.7->chirp==0.1.0)\n",
            "  Downloading jaxlib-0.6.2-cp311-cp311-manylinux2014_x86_64.whl.metadata (1.3 kB)\n",
            "Requirement already satisfied: ml_dtypes>=0.5.0 in /usr/local/lib/python3.11/dist-packages (from jax<0.7,>=0.6->chirp==0.1.0) (0.5.3)\n",
            "Requirement already satisfied: opt_einsum in /usr/local/lib/python3.11/dist-packages (from jax<0.7,>=0.6->chirp==0.1.0) (3.4.0)\n",
            "Requirement already satisfied: scipy>=1.12 in /usr/local/lib/python3.11/dist-packages (from jax<0.7,>=0.6->chirp==0.1.0) (1.16.1)\n",
            "Requirement already satisfied: contourpy>=1.0.1 in /usr/local/lib/python3.11/dist-packages (from matplotlib<4.0.0,>=3.6.1->chirp==0.1.0) (1.3.3)\n",
            "Requirement already satisfied: cycler>=0.10 in /usr/local/lib/python3.11/dist-packages (from matplotlib<4.0.0,>=3.6.1->chirp==0.1.0) (0.12.1)\n",
            "Requirement already satisfied: fonttools>=4.22.0 in /usr/local/lib/python3.11/dist-packages (from matplotlib<4.0.0,>=3.6.1->chirp==0.1.0) (4.59.0)\n",
            "Requirement already satisfied: kiwisolver>=1.3.1 in /usr/local/lib/python3.11/dist-packages (from matplotlib<4.0.0,>=3.6.1->chirp==0.1.0) (1.4.8)\n",
            "Requirement already satisfied: pyparsing>=2.3.1 in /usr/local/lib/python3.11/dist-packages (from matplotlib<4.0.0,>=3.6.1->chirp==0.1.0) (3.2.3)\n",
            "Collecting jupyter-server<3,>=2.4.0 (from notebook<8.0.0,>=7.0.4->chirp==0.1.0)\n",
            "  Downloading jupyter_server-2.16.0-py3-none-any.whl.metadata (8.5 kB)\n",
            "Collecting jupyterlab-server<3,>=2.27.1 (from notebook<8.0.0,>=7.0.4->chirp==0.1.0)\n",
            "  Downloading jupyterlab_server-2.27.3-py3-none-any.whl.metadata (5.9 kB)\n",
            "Collecting jupyterlab<4.5,>=4.4.5 (from notebook<8.0.0,>=7.0.4->chirp==0.1.0)\n",
            "  Downloading jupyterlab-4.4.5-py3-none-any.whl.metadata (16 kB)\n",
            "Requirement already satisfied: notebook-shim<0.3,>=0.2 in /usr/local/lib/python3.11/dist-packages (from notebook<8.0.0,>=7.0.4->chirp==0.1.0) (0.2.4)\n",
            "Requirement already satisfied: tornado>=6.2.0 in /usr/local/lib/python3.11/dist-packages (from notebook<8.0.0,>=7.0.4->chirp==0.1.0) (6.4.2)\n",
            "Requirement already satisfied: tzdata>=2022.7 in /usr/local/lib/python3.11/dist-packages (from pandas<3.0.0,>=2.1.1->pandas[gcp]<3.0.0,>=2.1.1->chirp==0.1.0) (2025.2)\n",
            "Requirement already satisfied: gcsfs>=2022.11.0 in /usr/local/lib/python3.11/dist-packages (from pandas[gcp]<3.0.0,>=2.1.1->chirp==0.1.0) (2025.3.0)\n",
            "Requirement already satisfied: pandas-gbq>=0.19.0 in /usr/local/lib/python3.11/dist-packages (from pandas[gcp]<3.0.0,>=2.1.1->chirp==0.1.0) (0.29.2)\n",
            "Collecting rdflib>=6.1.1 (from SPARQLWrapper<3.0.0,>=2.0.0->chirp==0.1.0)\n",
            "  Downloading rdflib-7.1.4-py3-none-any.whl.metadata (11 kB)\n",
            "Requirement already satisfied: astunparse>=1.6.0 in /usr/local/lib/python3.11/dist-packages (from tensorflow<3.0,>=2.19->chirp==0.1.0) (1.6.3)\n",
            "Requirement already satisfied: flatbuffers>=24.3.25 in /usr/local/lib/python3.11/dist-packages (from tensorflow<3.0,>=2.19->chirp==0.1.0) (25.2.10)\n",
            "Requirement already satisfied: gast!=0.5.0,!=0.5.1,!=0.5.2,>=0.2.1 in /usr/local/lib/python3.11/dist-packages (from tensorflow<3.0,>=2.19->chirp==0.1.0) (0.6.0)\n",
            "Requirement already satisfied: google-pasta>=0.1.1 in /usr/local/lib/python3.11/dist-packages (from tensorflow<3.0,>=2.19->chirp==0.1.0) (0.2.0)\n",
            "Requirement already satisfied: libclang>=13.0.0 in /usr/local/lib/python3.11/dist-packages (from tensorflow<3.0,>=2.19->chirp==0.1.0) (18.1.1)\n",
            "Requirement already satisfied: setuptools in /usr/local/lib/python3.11/dist-packages (from tensorflow<3.0,>=2.19->chirp==0.1.0) (75.2.0)\n",
            "Requirement already satisfied: six>=1.12.0 in /usr/local/lib/python3.11/dist-packages (from tensorflow<3.0,>=2.19->chirp==0.1.0) (1.17.0)\n",
            "Requirement already satisfied: termcolor>=1.1.0 in /usr/local/lib/python3.11/dist-packages (from tensorflow<3.0,>=2.19->chirp==0.1.0) (3.1.0)\n",
            "Requirement already satisfied: tensorboard~=2.19.0 in /usr/local/lib/python3.11/dist-packages (from tensorflow<3.0,>=2.19->chirp==0.1.0) (2.19.0)\n",
            "Requirement already satisfied: keras>=3.5.0 in /usr/local/lib/python3.11/dist-packages (from tensorflow<3.0,>=2.19->chirp==0.1.0) (3.10.0)\n",
            "Requirement already satisfied: h5py>=3.11.0 in /usr/local/lib/python3.11/dist-packages (from tensorflow<3.0,>=2.19->chirp==0.1.0) (3.14.0)\n",
            "Requirement already satisfied: tensorflow-io-gcs-filesystem>=0.23.1 in /usr/local/lib/python3.11/dist-packages (from tensorflow<3.0,>=2.19->chirp==0.1.0) (0.37.1)\n",
            "Requirement already satisfied: librosa<0.12,>=0.11 in /usr/local/lib/python3.11/dist-packages (from perch_hoplite@ git+https://github.com/google-research/perch-hoplite.git->chirp==0.1.0) (0.11.0)\n",
            "Collecting ml-collections (from clu<0.0.13,>=0.0.12->chirp==0.1.0)\n",
            "  Downloading ml_collections-0.1.1.tar.gz (77 kB)\n",
            "\u001b[2K     \u001b[90m━━━━━━━━━━━━━━━━━━━━━━━━━━━━━━━━━━━━━━━━\u001b[0m \u001b[32m77.9/77.9 kB\u001b[0m \u001b[31m7.4 MB/s\u001b[0m eta \u001b[36m0:00:00\u001b[0m\n",
            "\u001b[?25h  Preparing metadata (setup.py) ... \u001b[?25l\u001b[?25hdone\n",
            "Collecting usearch<3.0,>=2.17 (from perch_hoplite@ git+https://github.com/google-research/perch-hoplite.git->chirp==0.1.0)\n",
            "  Downloading usearch-2.19.1-cp311-cp311-manylinux_2_27_x86_64.manylinux_2_28_x86_64.whl.metadata (33 kB)\n",
            "Requirement already satisfied: wheel<1.0,>=0.23.0 in /usr/local/lib/python3.11/dist-packages (from astunparse>=1.6.0->tensorflow<3.0,>=2.19->chirp==0.1.0) (0.45.1)\n",
            "Requirement already satisfied: fsspec in /usr/local/lib/python3.11/dist-packages (from etils[epath]->clu<0.0.13,>=0.0.12->chirp==0.1.0) (2025.3.0)\n",
            "Requirement already satisfied: importlib_resources in /usr/local/lib/python3.11/dist-packages (from etils[epath]->clu<0.0.13,>=0.0.12->chirp==0.1.0) (6.5.2)\n",
            "Requirement already satisfied: zipp in /usr/local/lib/python3.11/dist-packages (from etils[epath]->clu<0.0.13,>=0.0.12->chirp==0.1.0) (3.23.0)\n",
            "Requirement already satisfied: aiohttp!=4.0.0a0,!=4.0.0a1 in /usr/local/lib/python3.11/dist-packages (from gcsfs>=2022.11.0->pandas[gcp]<3.0.0,>=2.1.1->chirp==0.1.0) (3.12.15)\n",
            "Requirement already satisfied: decorator>4.1.2 in /usr/local/lib/python3.11/dist-packages (from gcsfs>=2022.11.0->pandas[gcp]<3.0.0,>=2.1.1->chirp==0.1.0) (4.4.2)\n",
            "Requirement already satisfied: google-auth-oauthlib in /usr/local/lib/python3.11/dist-packages (from gcsfs>=2022.11.0->pandas[gcp]<3.0.0,>=2.1.1->chirp==0.1.0) (1.2.2)\n",
            "Requirement already satisfied: googleapis-common-protos<2.0.0,>=1.56.2 in /usr/local/lib/python3.11/dist-packages (from google-api-core<3,>=2.0.0->apache-beam[gcp]<3.0.0,>=2.50.0->chirp==0.1.0) (1.70.0)\n",
            "Requirement already satisfied: oauth2client>=1.4.12 in /usr/local/lib/python3.11/dist-packages (from google-apitools<0.5.32,>=0.5.31->apache-beam[gcp]<3.0.0,>=2.50.0->chirp==0.1.0) (4.1.3)\n",
            "Requirement already satisfied: pyasn1-modules>=0.2.1 in /usr/local/lib/python3.11/dist-packages (from google-auth<3,>=1.18.0->apache-beam[gcp]<3.0.0,>=2.50.0->chirp==0.1.0) (0.4.2)\n",
            "Requirement already satisfied: rsa<5,>=3.1.4 in /usr/local/lib/python3.11/dist-packages (from google-auth<3,>=1.18.0->apache-beam[gcp]<3.0.0,>=2.50.0->chirp==0.1.0) (4.9.1)\n",
            "Requirement already satisfied: google-cloud-resource-manager<3.0.0,>=1.3.3 in /usr/local/lib/python3.11/dist-packages (from google-cloud-aiplatform<2.0,>=1.26.0->apache-beam[gcp]<3.0.0,>=2.50.0->chirp==0.1.0) (1.14.2)\n",
            "Requirement already satisfied: shapely<3.0.0 in /usr/local/lib/python3.11/dist-packages (from google-cloud-aiplatform<2.0,>=1.26.0->apache-beam[gcp]<3.0.0,>=2.50.0->chirp==0.1.0) (2.1.1)\n",
            "Requirement already satisfied: google-genai<2.0.0,>=1.0.0 in /usr/local/lib/python3.11/dist-packages (from google-cloud-aiplatform<2.0,>=1.26.0->apache-beam[gcp]<3.0.0,>=2.50.0->chirp==0.1.0) (1.28.0)\n",
            "Requirement already satisfied: pydantic<3 in /usr/local/lib/python3.11/dist-packages (from google-cloud-aiplatform<2.0,>=1.26.0->apache-beam[gcp]<3.0.0,>=2.50.0->chirp==0.1.0) (2.11.7)\n",
            "Requirement already satisfied: docstring_parser<1 in /usr/local/lib/python3.11/dist-packages (from google-cloud-aiplatform<2.0,>=1.26.0->apache-beam[gcp]<3.0.0,>=2.50.0->chirp==0.1.0) (0.17.0)\n",
            "Requirement already satisfied: google-resumable-media<3.0.0,>=2.0.0 in /usr/local/lib/python3.11/dist-packages (from google-cloud-bigquery<4,>=2.0.0->apache-beam[gcp]<3.0.0,>=2.50.0->chirp==0.1.0) (2.7.2)\n",
            "Requirement already satisfied: grpc-google-iam-v1<1.0.0,>=0.12.4 in /usr/local/lib/python3.11/dist-packages (from google-cloud-bigtable<3,>=2.19.0->apache-beam[gcp]<3.0.0,>=2.50.0->chirp==0.1.0) (0.14.2)\n",
            "Requirement already satisfied: google-crc32c<2.0.0dev,>=1.5.0 in /usr/local/lib/python3.11/dist-packages (from google-cloud-bigtable<3,>=2.19.0->apache-beam[gcp]<3.0.0,>=2.50.0->chirp==0.1.0) (1.7.1)\n",
            "Requirement already satisfied: grpcio-status>=1.33.2 in /usr/local/lib/python3.11/dist-packages (from google-cloud-pubsub<3,>=2.1.0->apache-beam[gcp]<3.0.0,>=2.50.0->chirp==0.1.0) (1.71.2)\n",
            "Collecting opentelemetry-api>=1.27.0 (from google-cloud-pubsub<3,>=2.1.0->apache-beam[gcp]<3.0.0,>=2.50.0->chirp==0.1.0)\n",
            "  Downloading opentelemetry_api-1.36.0-py3-none-any.whl.metadata (1.5 kB)\n",
            "Collecting opentelemetry-sdk>=1.27.0 (from google-cloud-pubsub<3,>=2.1.0->apache-beam[gcp]<3.0.0,>=2.50.0->chirp==0.1.0)\n",
            "  Downloading opentelemetry_sdk-1.36.0-py3-none-any.whl.metadata (1.5 kB)\n",
            "Collecting overrides<8.0.0,>=6.0.1 (from google-cloud-pubsublite<2,>=1.2.0->apache-beam[gcp]<3.0.0,>=2.50.0->chirp==0.1.0)\n",
            "  Downloading overrides-7.7.0-py3-none-any.whl.metadata (5.8 kB)\n",
            "Requirement already satisfied: sqlparse>=0.4.4 in /usr/local/lib/python3.11/dist-packages (from google-cloud-spanner<4,>=3.0.0->apache-beam[gcp]<3.0.0,>=2.50.0->chirp==0.1.0) (0.5.3)\n",
            "Requirement already satisfied: grpc-interceptor>=0.15.4 in /usr/local/lib/python3.11/dist-packages (from google-cloud-spanner<4,>=3.0.0->apache-beam[gcp]<3.0.0,>=2.50.0->chirp==0.1.0) (0.15.4)\n",
            "Collecting docopt (from hdfs<3.0.0,>=2.1.0->apache-beam<3.0.0,>=2.50.0->apache-beam[gcp]<3.0.0,>=2.50.0->chirp==0.1.0)\n",
            "  Downloading docopt-0.6.2.tar.gz (25 kB)\n",
            "  Preparing metadata (setup.py) ... \u001b[?25l\u001b[?25hdone\n",
            "Collecting jedi>=0.16 (from ipython>=6.1.0->ipywidgets<9.0,>=8.1->chirp==0.1.0)\n",
            "  Downloading jedi-0.19.2-py2.py3-none-any.whl.metadata (22 kB)\n",
            "Requirement already satisfied: pickleshare in /usr/local/lib/python3.11/dist-packages (from ipython>=6.1.0->ipywidgets<9.0,>=8.1->chirp==0.1.0) (0.7.5)\n",
            "Requirement already satisfied: prompt-toolkit!=3.0.0,!=3.0.1,<3.1.0,>=2.0.0 in /usr/local/lib/python3.11/dist-packages (from ipython>=6.1.0->ipywidgets<9.0,>=8.1->chirp==0.1.0) (3.0.51)\n",
            "Requirement already satisfied: pygments in /usr/local/lib/python3.11/dist-packages (from ipython>=6.1.0->ipywidgets<9.0,>=8.1->chirp==0.1.0) (2.19.2)\n",
            "Requirement already satisfied: backcall in /usr/local/lib/python3.11/dist-packages (from ipython>=6.1.0->ipywidgets<9.0,>=8.1->chirp==0.1.0) (0.2.0)\n",
            "Requirement already satisfied: matplotlib-inline in /usr/local/lib/python3.11/dist-packages (from ipython>=6.1.0->ipywidgets<9.0,>=8.1->chirp==0.1.0) (0.1.7)\n",
            "Requirement already satisfied: pexpect>4.3 in /usr/local/lib/python3.11/dist-packages (from ipython>=6.1.0->ipywidgets<9.0,>=8.1->chirp==0.1.0) (4.9.0)\n",
            "Requirement already satisfied: attrs>=22.2.0 in /usr/local/lib/python3.11/dist-packages (from jsonschema<5.0.0,>=4.0.0->apache-beam<3.0.0,>=2.50.0->apache-beam[gcp]<3.0.0,>=2.50.0->chirp==0.1.0) (25.3.0)\n",
            "Requirement already satisfied: jsonschema-specifications>=2023.03.6 in /usr/local/lib/python3.11/dist-packages (from jsonschema<5.0.0,>=4.0.0->apache-beam<3.0.0,>=2.50.0->apache-beam[gcp]<3.0.0,>=2.50.0->chirp==0.1.0) (2025.4.1)\n",
            "Requirement already satisfied: referencing>=0.28.4 in /usr/local/lib/python3.11/dist-packages (from jsonschema<5.0.0,>=4.0.0->apache-beam<3.0.0,>=2.50.0->apache-beam[gcp]<3.0.0,>=2.50.0->chirp==0.1.0) (0.36.2)\n",
            "Requirement already satisfied: rpds-py>=0.7.1 in /usr/local/lib/python3.11/dist-packages (from jsonschema<5.0.0,>=4.0.0->apache-beam<3.0.0,>=2.50.0->apache-beam[gcp]<3.0.0,>=2.50.0->chirp==0.1.0) (0.26.0)\n",
            "Requirement already satisfied: anyio>=3.1.0 in /usr/local/lib/python3.11/dist-packages (from jupyter-server<3,>=2.4.0->notebook<8.0.0,>=7.0.4->chirp==0.1.0) (4.9.0)\n",
            "Requirement already satisfied: argon2-cffi>=21.1 in /usr/local/lib/python3.11/dist-packages (from jupyter-server<3,>=2.4.0->notebook<8.0.0,>=7.0.4->chirp==0.1.0) (25.1.0)\n",
            "Requirement already satisfied: jinja2>=3.0.3 in /usr/local/lib/python3.11/dist-packages (from jupyter-server<3,>=2.4.0->notebook<8.0.0,>=7.0.4->chirp==0.1.0) (3.1.6)\n",
            "Collecting jupyter-client>=7.4.4 (from jupyter-server<3,>=2.4.0->notebook<8.0.0,>=7.0.4->chirp==0.1.0)\n",
            "  Downloading jupyter_client-8.6.3-py3-none-any.whl.metadata (8.3 kB)\n",
            "Requirement already satisfied: jupyter-core!=5.0.*,>=4.12 in /usr/local/lib/python3.11/dist-packages (from jupyter-server<3,>=2.4.0->notebook<8.0.0,>=7.0.4->chirp==0.1.0) (5.8.1)\n",
            "Collecting jupyter-events>=0.11.0 (from jupyter-server<3,>=2.4.0->notebook<8.0.0,>=7.0.4->chirp==0.1.0)\n",
            "  Downloading jupyter_events-0.12.0-py3-none-any.whl.metadata (5.8 kB)\n",
            "Collecting jupyter-server-terminals>=0.4.4 (from jupyter-server<3,>=2.4.0->notebook<8.0.0,>=7.0.4->chirp==0.1.0)\n",
            "  Downloading jupyter_server_terminals-0.5.3-py3-none-any.whl.metadata (5.6 kB)\n",
            "Requirement already satisfied: nbconvert>=6.4.4 in /usr/local/lib/python3.11/dist-packages (from jupyter-server<3,>=2.4.0->notebook<8.0.0,>=7.0.4->chirp==0.1.0) (7.16.6)\n",
            "Requirement already satisfied: nbformat>=5.3.0 in /usr/local/lib/python3.11/dist-packages (from jupyter-server<3,>=2.4.0->notebook<8.0.0,>=7.0.4->chirp==0.1.0) (5.10.4)\n",
            "Requirement already satisfied: prometheus-client>=0.9 in /usr/local/lib/python3.11/dist-packages (from jupyter-server<3,>=2.4.0->notebook<8.0.0,>=7.0.4->chirp==0.1.0) (0.22.1)\n",
            "Requirement already satisfied: pyzmq>=24 in /usr/local/lib/python3.11/dist-packages (from jupyter-server<3,>=2.4.0->notebook<8.0.0,>=7.0.4->chirp==0.1.0) (26.2.1)\n",
            "Requirement already satisfied: send2trash>=1.8.2 in /usr/local/lib/python3.11/dist-packages (from jupyter-server<3,>=2.4.0->notebook<8.0.0,>=7.0.4->chirp==0.1.0) (1.8.3)\n",
            "Requirement already satisfied: terminado>=0.8.3 in /usr/local/lib/python3.11/dist-packages (from jupyter-server<3,>=2.4.0->notebook<8.0.0,>=7.0.4->chirp==0.1.0) (0.18.1)\n",
            "Requirement already satisfied: websocket-client>=1.7 in /usr/local/lib/python3.11/dist-packages (from jupyter-server<3,>=2.4.0->notebook<8.0.0,>=7.0.4->chirp==0.1.0) (1.8.0)\n",
            "Collecting async-lru>=1.0.0 (from jupyterlab<4.5,>=4.4.5->notebook<8.0.0,>=7.0.4->chirp==0.1.0)\n",
            "  Downloading async_lru-2.0.5-py3-none-any.whl.metadata (4.5 kB)\n",
            "Requirement already satisfied: httpx>=0.25.0 in /usr/local/lib/python3.11/dist-packages (from jupyterlab<4.5,>=4.4.5->notebook<8.0.0,>=7.0.4->chirp==0.1.0) (0.28.1)\n",
            "Requirement already satisfied: ipykernel>=6.5.0 in /usr/local/lib/python3.11/dist-packages (from jupyterlab<4.5,>=4.4.5->notebook<8.0.0,>=7.0.4->chirp==0.1.0) (6.17.1)\n",
            "Collecting jupyter-lsp>=2.0.0 (from jupyterlab<4.5,>=4.4.5->notebook<8.0.0,>=7.0.4->chirp==0.1.0)\n",
            "  Downloading jupyter_lsp-2.2.6-py3-none-any.whl.metadata (1.8 kB)\n",
            "Requirement already satisfied: babel>=2.10 in /usr/local/lib/python3.11/dist-packages (from jupyterlab-server<3,>=2.27.1->notebook<8.0.0,>=7.0.4->chirp==0.1.0) (2.17.0)\n",
            "Collecting json5>=0.9.0 (from jupyterlab-server<3,>=2.27.1->notebook<8.0.0,>=7.0.4->chirp==0.1.0)\n",
            "  Downloading json5-0.12.0-py3-none-any.whl.metadata (36 kB)\n",
            "Requirement already satisfied: namex in /usr/local/lib/python3.11/dist-packages (from keras>=3.5.0->tensorflow<3.0,>=2.19->chirp==0.1.0) (0.1.0)\n",
            "Requirement already satisfied: optree in /usr/local/lib/python3.11/dist-packages (from keras>=3.5.0->tensorflow<3.0,>=2.19->chirp==0.1.0) (0.17.0)\n",
            "Requirement already satisfied: audioread>=2.1.9 in /usr/local/lib/python3.11/dist-packages (from librosa<0.12,>=0.11->perch_hoplite@ git+https://github.com/google-research/perch-hoplite.git->chirp==0.1.0) (3.0.1)\n",
            "Requirement already satisfied: numba>=0.51.0 in /usr/local/lib/python3.11/dist-packages (from librosa<0.12,>=0.11->perch_hoplite@ git+https://github.com/google-research/perch-hoplite.git->chirp==0.1.0) (0.60.0)\n",
            "Requirement already satisfied: scikit-learn>=1.1.0 in /usr/local/lib/python3.11/dist-packages (from librosa<0.12,>=0.11->perch_hoplite@ git+https://github.com/google-research/perch-hoplite.git->chirp==0.1.0) (1.6.1)\n",
            "Requirement already satisfied: joblib>=1.0 in /usr/local/lib/python3.11/dist-packages (from librosa<0.12,>=0.11->perch_hoplite@ git+https://github.com/google-research/perch-hoplite.git->chirp==0.1.0) (1.5.1)\n",
            "Requirement already satisfied: soundfile>=0.12.1 in /usr/local/lib/python3.11/dist-packages (from librosa<0.12,>=0.11->perch_hoplite@ git+https://github.com/google-research/perch-hoplite.git->chirp==0.1.0) (0.13.1)\n",
            "Requirement already satisfied: pooch>=1.1 in /usr/local/lib/python3.11/dist-packages (from librosa<0.12,>=0.11->perch_hoplite@ git+https://github.com/google-research/perch-hoplite.git->chirp==0.1.0) (1.8.2)\n",
            "Requirement already satisfied: soxr>=0.3.2 in /usr/local/lib/python3.11/dist-packages (from librosa<0.12,>=0.11->perch_hoplite@ git+https://github.com/google-research/perch-hoplite.git->chirp==0.1.0) (0.5.0.post1)\n",
            "Requirement already satisfied: lazy_loader>=0.1 in /usr/local/lib/python3.11/dist-packages (from librosa<0.12,>=0.11->perch_hoplite@ git+https://github.com/google-research/perch-hoplite.git->chirp==0.1.0) (0.4)\n",
            "Collecting contextlib2 (from ml-collections->clu<0.0.13,>=0.0.12->chirp==0.1.0)\n",
            "  Downloading contextlib2-21.6.0-py2.py3-none-any.whl.metadata (4.1 kB)\n",
            "Requirement already satisfied: db-dtypes<2.0.0,>=1.0.4 in /usr/local/lib/python3.11/dist-packages (from pandas-gbq>=0.19.0->pandas[gcp]<3.0.0,>=2.1.1->chirp==0.1.0) (1.4.3)\n",
            "Requirement already satisfied: pydata-google-auth>=1.5.0 in /usr/local/lib/python3.11/dist-packages (from pandas-gbq>=0.19.0->pandas[gcp]<3.0.0,>=2.1.1->chirp==0.1.0) (1.9.1)\n",
            "Collecting dnspython<3.0.0,>=1.16.0 (from pymongo<5.0.0,>=3.8.0->apache-beam<3.0.0,>=2.50.0->apache-beam[gcp]<3.0.0,>=2.50.0->chirp==0.1.0)\n",
            "  Downloading dnspython-2.7.0-py3-none-any.whl.metadata (5.8 kB)\n",
            "Requirement already satisfied: PyJWT>=2.9.0 in /usr/local/lib/python3.11/dist-packages (from redis<6,>=5.0.0->apache-beam<3.0.0,>=2.50.0->apache-beam[gcp]<3.0.0,>=2.50.0->chirp==0.1.0) (2.10.1)\n",
            "Requirement already satisfied: charset-normalizer<4,>=2 in /usr/local/lib/python3.11/dist-packages (from requests<3.0.0,>=2.24.0->apache-beam<3.0.0,>=2.50.0->apache-beam[gcp]<3.0.0,>=2.50.0->chirp==0.1.0) (3.4.2)\n",
            "Requirement already satisfied: idna<4,>=2.5 in /usr/local/lib/python3.11/dist-packages (from requests<3.0.0,>=2.24.0->apache-beam<3.0.0,>=2.50.0->apache-beam[gcp]<3.0.0,>=2.50.0->chirp==0.1.0) (3.10)\n",
            "Requirement already satisfied: urllib3<3,>=1.21.1 in /usr/local/lib/python3.11/dist-packages (from requests<3.0.0,>=2.24.0->apache-beam<3.0.0,>=2.50.0->apache-beam[gcp]<3.0.0,>=2.50.0->chirp==0.1.0) (2.5.0)\n",
            "Requirement already satisfied: certifi>=2017.4.17 in /usr/local/lib/python3.11/dist-packages (from requests<3.0.0,>=2.24.0->apache-beam<3.0.0,>=2.50.0->apache-beam[gcp]<3.0.0,>=2.50.0->chirp==0.1.0) (2025.7.14)\n",
            "Requirement already satisfied: markdown-it-py>=2.2.0 in /usr/local/lib/python3.11/dist-packages (from rich>=11.1->flax<0.11,>=0.10->chirp==0.1.0) (3.0.0)\n",
            "Requirement already satisfied: markdown>=2.6.8 in /usr/local/lib/python3.11/dist-packages (from tensorboard~=2.19.0->tensorflow<3.0,>=2.19->chirp==0.1.0) (3.8.2)\n",
            "Requirement already satisfied: tensorboard-data-server<0.8.0,>=0.7.0 in /usr/local/lib/python3.11/dist-packages (from tensorboard~=2.19.0->tensorflow<3.0,>=2.19->chirp==0.1.0) (0.7.2)\n",
            "Requirement already satisfied: werkzeug>=1.0.1 in /usr/local/lib/python3.11/dist-packages (from tensorboard~=2.19.0->tensorflow<3.0,>=2.19->chirp==0.1.0) (3.1.3)\n",
            "Requirement already satisfied: simsimd<7.0.0,>=6.0.5 in /usr/local/lib/python3.11/dist-packages (from usearch<3.0,>=2.17->perch_hoplite@ git+https://github.com/google-research/perch-hoplite.git->chirp==0.1.0) (6.5.0)\n",
            "Requirement already satisfied: keyring in /usr/local/lib/python3.11/dist-packages (from keyrings.google-artifactregistry-auth->apache-beam[gcp]<3.0.0,>=2.50.0->chirp==0.1.0) (25.6.0)\n",
            "Requirement already satisfied: pluggy in /usr/local/lib/python3.11/dist-packages (from keyrings.google-artifactregistry-auth->apache-beam[gcp]<3.0.0,>=2.50.0->chirp==0.1.0) (1.6.0)\n",
            "Requirement already satisfied: nest_asyncio in /usr/local/lib/python3.11/dist-packages (from orbax-checkpoint->flax<0.11,>=0.10->chirp==0.1.0) (1.6.0)\n",
            "Requirement already satisfied: aiofiles in /usr/local/lib/python3.11/dist-packages (from orbax-checkpoint->flax<0.11,>=0.10->chirp==0.1.0) (24.1.0)\n",
            "Requirement already satisfied: humanize in /usr/local/lib/python3.11/dist-packages (from orbax-checkpoint->flax<0.11,>=0.10->chirp==0.1.0) (4.12.3)\n",
            "Requirement already satisfied: simplejson>=3.16.0 in /usr/local/lib/python3.11/dist-packages (from orbax-checkpoint->flax<0.11,>=0.10->chirp==0.1.0) (3.20.1)\n",
            "Requirement already satisfied: aiohappyeyeballs>=2.5.0 in /usr/local/lib/python3.11/dist-packages (from aiohttp!=4.0.0a0,!=4.0.0a1->gcsfs>=2022.11.0->pandas[gcp]<3.0.0,>=2.1.1->chirp==0.1.0) (2.6.1)\n",
            "Requirement already satisfied: aiosignal>=1.4.0 in /usr/local/lib/python3.11/dist-packages (from aiohttp!=4.0.0a0,!=4.0.0a1->gcsfs>=2022.11.0->pandas[gcp]<3.0.0,>=2.1.1->chirp==0.1.0) (1.4.0)\n",
            "Requirement already satisfied: frozenlist>=1.1.1 in /usr/local/lib/python3.11/dist-packages (from aiohttp!=4.0.0a0,!=4.0.0a1->gcsfs>=2022.11.0->pandas[gcp]<3.0.0,>=2.1.1->chirp==0.1.0) (1.7.0)\n",
            "Requirement already satisfied: multidict<7.0,>=4.5 in /usr/local/lib/python3.11/dist-packages (from aiohttp!=4.0.0a0,!=4.0.0a1->gcsfs>=2022.11.0->pandas[gcp]<3.0.0,>=2.1.1->chirp==0.1.0) (6.6.3)\n",
            "Requirement already satisfied: propcache>=0.2.0 in /usr/local/lib/python3.11/dist-packages (from aiohttp!=4.0.0a0,!=4.0.0a1->gcsfs>=2022.11.0->pandas[gcp]<3.0.0,>=2.1.1->chirp==0.1.0) (0.3.2)\n",
            "Requirement already satisfied: yarl<2.0,>=1.17.0 in /usr/local/lib/python3.11/dist-packages (from aiohttp!=4.0.0a0,!=4.0.0a1->gcsfs>=2022.11.0->pandas[gcp]<3.0.0,>=2.1.1->chirp==0.1.0) (1.20.1)\n",
            "Requirement already satisfied: sniffio>=1.1 in /usr/local/lib/python3.11/dist-packages (from anyio>=3.1.0->jupyter-server<3,>=2.4.0->notebook<8.0.0,>=7.0.4->chirp==0.1.0) (1.3.1)\n",
            "Requirement already satisfied: argon2-cffi-bindings in /usr/local/lib/python3.11/dist-packages (from argon2-cffi>=21.1->jupyter-server<3,>=2.4.0->notebook<8.0.0,>=7.0.4->chirp==0.1.0) (25.1.0)\n",
            "Requirement already satisfied: requests-oauthlib>=0.7.0 in /usr/local/lib/python3.11/dist-packages (from google-auth-oauthlib->gcsfs>=2022.11.0->pandas[gcp]<3.0.0,>=2.1.1->chirp==0.1.0) (2.0.0)\n",
            "Requirement already satisfied: tenacity<9.0.0,>=8.2.3 in /usr/local/lib/python3.11/dist-packages (from google-genai<2.0.0,>=1.0.0->google-cloud-aiplatform<2.0,>=1.26.0->apache-beam[gcp]<3.0.0,>=2.50.0->chirp==0.1.0) (8.5.0)\n",
            "Requirement already satisfied: websockets<15.1.0,>=13.0.0 in /usr/local/lib/python3.11/dist-packages (from google-genai<2.0.0,>=1.0.0->google-cloud-aiplatform<2.0,>=1.26.0->apache-beam[gcp]<3.0.0,>=2.50.0->chirp==0.1.0) (15.0.1)\n",
            "INFO: pip is looking at multiple versions of grpcio-status to determine which version is compatible with other requirements. This could take a while.\n",
            "Collecting grpcio-status>=1.33.2 (from google-cloud-pubsub<3,>=2.1.0->apache-beam[gcp]<3.0.0,>=2.50.0->chirp==0.1.0)\n",
            "  Downloading grpcio_status-1.74.0-py3-none-any.whl.metadata (1.1 kB)\n",
            "  Downloading grpcio_status-1.73.1-py3-none-any.whl.metadata (1.1 kB)\n",
            "  Downloading grpcio_status-1.73.0-py3-none-any.whl.metadata (1.1 kB)\n",
            "  Downloading grpcio_status-1.72.2-py3-none-any.whl.metadata (1.1 kB)\n",
            "  Downloading grpcio_status-1.72.1-py3-none-any.whl.metadata (1.1 kB)\n",
            "  Downloading grpcio_status-1.71.0-py3-none-any.whl.metadata (1.1 kB)\n",
            "  Downloading grpcio_status-1.70.0-py3-none-any.whl.metadata (1.1 kB)\n",
            "INFO: pip is still looking at multiple versions of grpcio-status to determine which version is compatible with other requirements. This could take a while.\n",
            "  Downloading grpcio_status-1.69.0-py3-none-any.whl.metadata (1.1 kB)\n",
            "  Downloading grpcio_status-1.68.1-py3-none-any.whl.metadata (1.1 kB)\n",
            "  Downloading grpcio_status-1.68.0-py3-none-any.whl.metadata (1.1 kB)\n",
            "  Downloading grpcio_status-1.67.1-py3-none-any.whl.metadata (1.1 kB)\n",
            "  Downloading grpcio_status-1.67.0-py3-none-any.whl.metadata (1.1 kB)\n",
            "INFO: This is taking longer than usual. You might need to provide the dependency resolver with stricter constraints to reduce runtime. See https://pip.pypa.io/warnings/backtracking for guidance. If you want to abort this run, press Ctrl + C.\n",
            "  Downloading grpcio_status-1.66.2-py3-none-any.whl.metadata (1.1 kB)\n",
            "  Downloading grpcio_status-1.66.1-py3-none-any.whl.metadata (1.1 kB)\n",
            "  Downloading grpcio_status-1.66.0-py3-none-any.whl.metadata (1.1 kB)\n",
            "  Downloading grpcio_status-1.65.5-py3-none-any.whl.metadata (1.1 kB)\n",
            "Requirement already satisfied: httpcore==1.* in /usr/local/lib/python3.11/dist-packages (from httpx>=0.25.0->jupyterlab<4.5,>=4.4.5->notebook<8.0.0,>=7.0.4->chirp==0.1.0) (1.0.9)\n",
            "Requirement already satisfied: h11>=0.16 in /usr/local/lib/python3.11/dist-packages (from httpcore==1.*->httpx>=0.25.0->jupyterlab<4.5,>=4.4.5->notebook<8.0.0,>=7.0.4->chirp==0.1.0) (0.16.0)\n",
            "Requirement already satisfied: debugpy>=1.0 in /usr/local/lib/python3.11/dist-packages (from ipykernel>=6.5.0->jupyterlab<4.5,>=4.4.5->notebook<8.0.0,>=7.0.4->chirp==0.1.0) (1.8.15)\n",
            "Requirement already satisfied: psutil in /usr/local/lib/python3.11/dist-packages (from ipykernel>=6.5.0->jupyterlab<4.5,>=4.4.5->notebook<8.0.0,>=7.0.4->chirp==0.1.0) (5.9.5)\n",
            "Requirement already satisfied: parso<0.9.0,>=0.8.4 in /usr/local/lib/python3.11/dist-packages (from jedi>=0.16->ipython>=6.1.0->ipywidgets<9.0,>=8.1->chirp==0.1.0) (0.8.4)\n",
            "Requirement already satisfied: MarkupSafe>=2.0 in /usr/local/lib/python3.11/dist-packages (from jinja2>=3.0.3->jupyter-server<3,>=2.4.0->notebook<8.0.0,>=7.0.4->chirp==0.1.0) (3.0.2)\n",
            "Requirement already satisfied: platformdirs>=2.5 in /usr/local/lib/python3.11/dist-packages (from jupyter-core!=5.0.*,>=4.12->jupyter-server<3,>=2.4.0->notebook<8.0.0,>=7.0.4->chirp==0.1.0) (4.3.8)\n",
            "Collecting python-json-logger>=2.0.4 (from jupyter-events>=0.11.0->jupyter-server<3,>=2.4.0->notebook<8.0.0,>=7.0.4->chirp==0.1.0)\n",
            "  Downloading python_json_logger-3.3.0-py3-none-any.whl.metadata (4.0 kB)\n",
            "Collecting rfc3339-validator (from jupyter-events>=0.11.0->jupyter-server<3,>=2.4.0->notebook<8.0.0,>=7.0.4->chirp==0.1.0)\n",
            "  Downloading rfc3339_validator-0.1.4-py2.py3-none-any.whl.metadata (1.5 kB)\n",
            "Collecting rfc3986-validator>=0.1.1 (from jupyter-events>=0.11.0->jupyter-server<3,>=2.4.0->notebook<8.0.0,>=7.0.4->chirp==0.1.0)\n",
            "  Downloading rfc3986_validator-0.1.1-py2.py3-none-any.whl.metadata (1.7 kB)\n",
            "Requirement already satisfied: mdurl~=0.1 in /usr/local/lib/python3.11/dist-packages (from markdown-it-py>=2.2.0->rich>=11.1->flax<0.11,>=0.10->chirp==0.1.0) (0.1.2)\n",
            "Requirement already satisfied: beautifulsoup4 in /usr/local/lib/python3.11/dist-packages (from nbconvert>=6.4.4->jupyter-server<3,>=2.4.0->notebook<8.0.0,>=7.0.4->chirp==0.1.0) (4.13.4)\n",
            "Requirement already satisfied: bleach!=5.0.0 in /usr/local/lib/python3.11/dist-packages (from bleach[css]!=5.0.0->nbconvert>=6.4.4->jupyter-server<3,>=2.4.0->notebook<8.0.0,>=7.0.4->chirp==0.1.0) (6.2.0)\n",
            "Requirement already satisfied: defusedxml in /usr/local/lib/python3.11/dist-packages (from nbconvert>=6.4.4->jupyter-server<3,>=2.4.0->notebook<8.0.0,>=7.0.4->chirp==0.1.0) (0.7.1)\n",
            "Requirement already satisfied: jupyterlab-pygments in /usr/local/lib/python3.11/dist-packages (from nbconvert>=6.4.4->jupyter-server<3,>=2.4.0->notebook<8.0.0,>=7.0.4->chirp==0.1.0) (0.3.0)\n",
            "Requirement already satisfied: mistune<4,>=2.0.3 in /usr/local/lib/python3.11/dist-packages (from nbconvert>=6.4.4->jupyter-server<3,>=2.4.0->notebook<8.0.0,>=7.0.4->chirp==0.1.0) (3.1.3)\n",
            "Requirement already satisfied: nbclient>=0.5.0 in /usr/local/lib/python3.11/dist-packages (from nbconvert>=6.4.4->jupyter-server<3,>=2.4.0->notebook<8.0.0,>=7.0.4->chirp==0.1.0) (0.10.2)\n",
            "Requirement already satisfied: pandocfilters>=1.4.1 in /usr/local/lib/python3.11/dist-packages (from nbconvert>=6.4.4->jupyter-server<3,>=2.4.0->notebook<8.0.0,>=7.0.4->chirp==0.1.0) (1.5.1)\n",
            "Requirement already satisfied: fastjsonschema>=2.15 in /usr/local/lib/python3.11/dist-packages (from nbformat>=5.3.0->jupyter-server<3,>=2.4.0->notebook<8.0.0,>=7.0.4->chirp==0.1.0) (2.21.1)\n",
            "Requirement already satisfied: llvmlite<0.44,>=0.43.0dev0 in /usr/local/lib/python3.11/dist-packages (from numba>=0.51.0->librosa<0.12,>=0.11->perch_hoplite@ git+https://github.com/google-research/perch-hoplite.git->chirp==0.1.0) (0.43.0)\n",
            "Requirement already satisfied: pyasn1>=0.1.7 in /usr/local/lib/python3.11/dist-packages (from oauth2client>=1.4.12->google-apitools<0.5.32,>=0.5.31->apache-beam[gcp]<3.0.0,>=2.50.0->chirp==0.1.0) (0.6.1)\n",
            "Requirement already satisfied: importlib-metadata<8.8.0,>=6.0 in /usr/local/lib/python3.11/dist-packages (from opentelemetry-api>=1.27.0->google-cloud-pubsub<3,>=2.1.0->apache-beam[gcp]<3.0.0,>=2.50.0->chirp==0.1.0) (8.7.0)\n",
            "Collecting opentelemetry-semantic-conventions==0.57b0 (from opentelemetry-sdk>=1.27.0->google-cloud-pubsub<3,>=2.1.0->apache-beam[gcp]<3.0.0,>=2.50.0->chirp==0.1.0)\n",
            "  Downloading opentelemetry_semantic_conventions-0.57b0-py3-none-any.whl.metadata (2.4 kB)\n",
            "Requirement already satisfied: ptyprocess>=0.5 in /usr/local/lib/python3.11/dist-packages (from pexpect>4.3->ipython>=6.1.0->ipywidgets<9.0,>=8.1->chirp==0.1.0) (0.7.0)\n",
            "Requirement already satisfied: wcwidth in /usr/local/lib/python3.11/dist-packages (from prompt-toolkit!=3.0.0,!=3.0.1,<3.1.0,>=2.0.0->ipython>=6.1.0->ipywidgets<9.0,>=8.1->chirp==0.1.0) (0.2.13)\n",
            "Requirement already satisfied: annotated-types>=0.6.0 in /usr/local/lib/python3.11/dist-packages (from pydantic<3->google-cloud-aiplatform<2.0,>=1.26.0->apache-beam[gcp]<3.0.0,>=2.50.0->chirp==0.1.0) (0.7.0)\n",
            "Requirement already satisfied: pydantic-core==2.33.2 in /usr/local/lib/python3.11/dist-packages (from pydantic<3->google-cloud-aiplatform<2.0,>=1.26.0->apache-beam[gcp]<3.0.0,>=2.50.0->chirp==0.1.0) (2.33.2)\n",
            "Requirement already satisfied: typing-inspection>=0.4.0 in /usr/local/lib/python3.11/dist-packages (from pydantic<3->google-cloud-aiplatform<2.0,>=1.26.0->apache-beam[gcp]<3.0.0,>=2.50.0->chirp==0.1.0) (0.4.1)\n",
            "Requirement already satisfied: threadpoolctl>=3.1.0 in /usr/local/lib/python3.11/dist-packages (from scikit-learn>=1.1.0->librosa<0.12,>=0.11->perch_hoplite@ git+https://github.com/google-research/perch-hoplite.git->chirp==0.1.0) (3.6.0)\n",
            "Requirement already satisfied: cffi>=1.0 in /usr/local/lib/python3.11/dist-packages (from soundfile>=0.12.1->librosa<0.12,>=0.11->perch_hoplite@ git+https://github.com/google-research/perch-hoplite.git->chirp==0.1.0) (1.17.1)\n",
            "Requirement already satisfied: SecretStorage>=3.2 in /usr/local/lib/python3.11/dist-packages (from keyring->keyrings.google-artifactregistry-auth->apache-beam[gcp]<3.0.0,>=2.50.0->chirp==0.1.0) (3.3.3)\n",
            "Requirement already satisfied: jeepney>=0.4.2 in /usr/local/lib/python3.11/dist-packages (from keyring->keyrings.google-artifactregistry-auth->apache-beam[gcp]<3.0.0,>=2.50.0->chirp==0.1.0) (0.9.0)\n",
            "Requirement already satisfied: jaraco.classes in /usr/local/lib/python3.11/dist-packages (from keyring->keyrings.google-artifactregistry-auth->apache-beam[gcp]<3.0.0,>=2.50.0->chirp==0.1.0) (3.4.0)\n",
            "Requirement already satisfied: jaraco.functools in /usr/local/lib/python3.11/dist-packages (from keyring->keyrings.google-artifactregistry-auth->apache-beam[gcp]<3.0.0,>=2.50.0->chirp==0.1.0) (4.2.1)\n",
            "Requirement already satisfied: jaraco.context in /usr/local/lib/python3.11/dist-packages (from keyring->keyrings.google-artifactregistry-auth->apache-beam[gcp]<3.0.0,>=2.50.0->chirp==0.1.0) (6.0.1)\n",
            "Requirement already satisfied: webencodings in /usr/local/lib/python3.11/dist-packages (from bleach!=5.0.0->bleach[css]!=5.0.0->nbconvert>=6.4.4->jupyter-server<3,>=2.4.0->notebook<8.0.0,>=7.0.4->chirp==0.1.0) (0.5.1)\n",
            "Requirement already satisfied: tinycss2<1.5,>=1.1.0 in /usr/local/lib/python3.11/dist-packages (from bleach[css]!=5.0.0->nbconvert>=6.4.4->jupyter-server<3,>=2.4.0->notebook<8.0.0,>=7.0.4->chirp==0.1.0) (1.4.0)\n",
            "Requirement already satisfied: pycparser in /usr/local/lib/python3.11/dist-packages (from cffi>=1.0->soundfile>=0.12.1->librosa<0.12,>=0.11->perch_hoplite@ git+https://github.com/google-research/perch-hoplite.git->chirp==0.1.0) (2.22)\n",
            "Collecting fqdn (from jsonschema[format-nongpl]>=4.18.0->jupyter-events>=0.11.0->jupyter-server<3,>=2.4.0->notebook<8.0.0,>=7.0.4->chirp==0.1.0)\n",
            "  Downloading fqdn-1.5.1-py3-none-any.whl.metadata (1.4 kB)\n",
            "Collecting isoduration (from jsonschema[format-nongpl]>=4.18.0->jupyter-events>=0.11.0->jupyter-server<3,>=2.4.0->notebook<8.0.0,>=7.0.4->chirp==0.1.0)\n",
            "  Downloading isoduration-20.11.0-py3-none-any.whl.metadata (5.7 kB)\n",
            "Requirement already satisfied: jsonpointer>1.13 in /usr/local/lib/python3.11/dist-packages (from jsonschema[format-nongpl]>=4.18.0->jupyter-events>=0.11.0->jupyter-server<3,>=2.4.0->notebook<8.0.0,>=7.0.4->chirp==0.1.0) (3.0.0)\n",
            "Collecting rfc3987-syntax>=1.1.0 (from jsonschema[format-nongpl]>=4.18.0->jupyter-events>=0.11.0->jupyter-server<3,>=2.4.0->notebook<8.0.0,>=7.0.4->chirp==0.1.0)\n",
            "  Downloading rfc3987_syntax-1.1.0-py3-none-any.whl.metadata (7.7 kB)\n",
            "Collecting uri-template (from jsonschema[format-nongpl]>=4.18.0->jupyter-events>=0.11.0->jupyter-server<3,>=2.4.0->notebook<8.0.0,>=7.0.4->chirp==0.1.0)\n",
            "  Downloading uri_template-1.3.0-py3-none-any.whl.metadata (8.8 kB)\n",
            "Requirement already satisfied: webcolors>=24.6.0 in /usr/local/lib/python3.11/dist-packages (from jsonschema[format-nongpl]>=4.18.0->jupyter-events>=0.11.0->jupyter-server<3,>=2.4.0->notebook<8.0.0,>=7.0.4->chirp==0.1.0) (24.11.1)\n",
            "Requirement already satisfied: oauthlib>=3.0.0 in /usr/local/lib/python3.11/dist-packages (from requests-oauthlib>=0.7.0->google-auth-oauthlib->gcsfs>=2022.11.0->pandas[gcp]<3.0.0,>=2.1.1->chirp==0.1.0) (3.3.1)\n",
            "Requirement already satisfied: cryptography>=2.0 in /usr/local/lib/python3.11/dist-packages (from SecretStorage>=3.2->keyring->keyrings.google-artifactregistry-auth->apache-beam[gcp]<3.0.0,>=2.50.0->chirp==0.1.0) (43.0.3)\n",
            "Requirement already satisfied: soupsieve>1.2 in /usr/local/lib/python3.11/dist-packages (from beautifulsoup4->nbconvert>=6.4.4->jupyter-server<3,>=2.4.0->notebook<8.0.0,>=7.0.4->chirp==0.1.0) (2.7)\n",
            "Requirement already satisfied: more-itertools in /usr/local/lib/python3.11/dist-packages (from jaraco.classes->keyring->keyrings.google-artifactregistry-auth->apache-beam[gcp]<3.0.0,>=2.50.0->chirp==0.1.0) (10.7.0)\n",
            "Requirement already satisfied: backports.tarfile in /usr/local/lib/python3.11/dist-packages (from jaraco.context->keyring->keyrings.google-artifactregistry-auth->apache-beam[gcp]<3.0.0,>=2.50.0->chirp==0.1.0) (1.2.0)\n",
            "Collecting lark>=1.2.2 (from rfc3987-syntax>=1.1.0->jsonschema[format-nongpl]>=4.18.0->jupyter-events>=0.11.0->jupyter-server<3,>=2.4.0->notebook<8.0.0,>=7.0.4->chirp==0.1.0)\n",
            "  Downloading lark-1.2.2-py3-none-any.whl.metadata (1.8 kB)\n",
            "Collecting arrow>=0.15.0 (from isoduration->jsonschema[format-nongpl]>=4.18.0->jupyter-events>=0.11.0->jupyter-server<3,>=2.4.0->notebook<8.0.0,>=7.0.4->chirp==0.1.0)\n",
            "  Downloading arrow-1.3.0-py3-none-any.whl.metadata (7.5 kB)\n",
            "Collecting types-python-dateutil>=2.8.10 (from arrow>=0.15.0->isoduration->jsonschema[format-nongpl]>=4.18.0->jupyter-events>=0.11.0->jupyter-server<3,>=2.4.0->notebook<8.0.0,>=7.0.4->chirp==0.1.0)\n",
            "  Downloading types_python_dateutil-2.9.0.20250708-py3-none-any.whl.metadata (1.9 kB)\n",
            "Downloading apache_beam-2.66.0-cp311-cp311-manylinux_2_17_x86_64.manylinux2014_x86_64.whl (17.4 MB)\n",
            "\u001b[2K   \u001b[90m━━━━━━━━━━━━━━━━━━━━━━━━━━━━━━━━━━━━━━━━\u001b[0m \u001b[32m17.4/17.4 MB\u001b[0m \u001b[31m58.1 MB/s\u001b[0m eta \u001b[36m0:00:00\u001b[0m\n",
            "\u001b[?25hDownloading clu-0.0.12-py3-none-any.whl (101 kB)\n",
            "\u001b[2K   \u001b[90m━━━━━━━━━━━━━━━━━━━━━━━━━━━━━━━━━━━━━━━━\u001b[0m \u001b[32m101.8/101.8 kB\u001b[0m \u001b[31m10.9 MB/s\u001b[0m eta \u001b[36m0:00:00\u001b[0m\n",
            "\u001b[?25hDownloading ipywidgets-8.1.7-py3-none-any.whl (139 kB)\n",
            "\u001b[2K   \u001b[90m━━━━━━━━━━━━━━━━━━━━━━━━━━━━━━━━━━━━━━━━\u001b[0m \u001b[32m139.8/139.8 kB\u001b[0m \u001b[31m15.2 MB/s\u001b[0m eta \u001b[36m0:00:00\u001b[0m\n",
            "\u001b[?25hDownloading jax-0.6.2-py3-none-any.whl (2.7 MB)\n",
            "\u001b[2K   \u001b[90m━━━━━━━━━━━━━━━━━━━━━━━━━━━━━━━━━━━━━━━━\u001b[0m \u001b[32m2.7/2.7 MB\u001b[0m \u001b[31m51.9 MB/s\u001b[0m eta \u001b[36m0:00:00\u001b[0m\n",
            "\u001b[?25hDownloading notebook-7.4.5-py3-none-any.whl (14.3 MB)\n",
            "\u001b[2K   \u001b[90m━━━━━━━━━━━━━━━━━━━━━━━━━━━━━━━━━━━━━━━━\u001b[0m \u001b[32m14.3/14.3 MB\u001b[0m \u001b[31m66.0 MB/s\u001b[0m eta \u001b[36m0:00:00\u001b[0m\n",
            "\u001b[?25hDownloading numpy-1.26.4-cp311-cp311-manylinux_2_17_x86_64.manylinux2014_x86_64.whl (18.3 MB)\n",
            "\u001b[2K   \u001b[90m━━━━━━━━━━━━━━━━━━━━━━━━━━━━━━━━━━━━━━━━\u001b[0m \u001b[32m18.3/18.3 MB\u001b[0m \u001b[31m109.8 MB/s\u001b[0m eta \u001b[36m0:00:00\u001b[0m\n",
            "\u001b[?25hDownloading SPARQLWrapper-2.0.0-py3-none-any.whl (28 kB)\n",
            "Downloading comm-0.2.3-py3-none-any.whl (7.3 kB)\n",
            "Downloading fastavro-1.12.0-cp311-cp311-manylinux2014_x86_64.manylinux_2_17_x86_64.manylinux_2_28_x86_64.whl (3.4 MB)\n",
            "\u001b[2K   \u001b[90m━━━━━━━━━━━━━━━━━━━━━━━━━━━━━━━━━━━━━━━━\u001b[0m \u001b[32m3.4/3.4 MB\u001b[0m \u001b[31m113.2 MB/s\u001b[0m eta \u001b[36m0:00:00\u001b[0m\n",
            "\u001b[?25hDownloading fasteners-0.19-py3-none-any.whl (18 kB)\n",
            "Downloading google_cloud_bigtable-2.32.0-py3-none-any.whl (520 kB)\n",
            "\u001b[2K   \u001b[90m━━━━━━━━━━━━━━━━━━━━━━━━━━━━━━━━━━━━━━━━\u001b[0m \u001b[32m520.4/520.4 kB\u001b[0m \u001b[31m45.0 MB/s\u001b[0m eta \u001b[36m0:00:00\u001b[0m\n",
            "\u001b[?25hDownloading google_cloud_dlp-3.31.0-py3-none-any.whl (215 kB)\n",
            "\u001b[2K   \u001b[90m━━━━━━━━━━━━━━━━━━━━━━━━━━━━━━━━━━━━━━━━\u001b[0m \u001b[32m215.7/215.7 kB\u001b[0m \u001b[31m23.9 MB/s\u001b[0m eta \u001b[36m0:00:00\u001b[0m\n",
            "\u001b[?25hDownloading google_cloud_pubsub-2.31.1-py3-none-any.whl (319 kB)\n",
            "\u001b[2K   \u001b[90m━━━━━━━━━━━━━━━━━━━━━━━━━━━━━━━━━━━━━━━━\u001b[0m \u001b[32m319.2/319.2 kB\u001b[0m \u001b[31m32.0 MB/s\u001b[0m eta \u001b[36m0:00:00\u001b[0m\n",
            "\u001b[?25hDownloading google_cloud_pubsublite-1.12.0-py2.py3-none-any.whl (322 kB)\n",
            "\u001b[2K   \u001b[90m━━━━━━━━━━━━━━━━━━━━━━━━━━━━━━━━━━━━━━━━\u001b[0m \u001b[32m322.0/322.0 kB\u001b[0m \u001b[31m32.7 MB/s\u001b[0m eta \u001b[36m0:00:00\u001b[0m\n",
            "\u001b[?25hDownloading google_cloud_recommendations_ai-0.10.18-py3-none-any.whl (212 kB)\n",
            "\u001b[2K   \u001b[90m━━━━━━━━━━━━━━━━━━━━━━━━━━━━━━━━━━━━━━━━\u001b[0m \u001b[32m212.2/212.2 kB\u001b[0m \u001b[31m21.0 MB/s\u001b[0m eta \u001b[36m0:00:00\u001b[0m\n",
            "\u001b[?25hDownloading google_cloud_videointelligence-2.16.2-py3-none-any.whl (275 kB)\n",
            "\u001b[2K   \u001b[90m━━━━━━━━━━━━━━━━━━━━━━━━━━━━━━━━━━━━━━━━\u001b[0m \u001b[32m275.7/275.7 kB\u001b[0m \u001b[31m24.7 MB/s\u001b[0m eta \u001b[36m0:00:00\u001b[0m\n",
            "\u001b[?25hDownloading google_cloud_vision-3.10.2-py3-none-any.whl (527 kB)\n",
            "\u001b[2K   \u001b[90m━━━━━━━━━━━━━━━━━━━━━━━━━━━━━━━━━━━━━━━━\u001b[0m \u001b[32m527.9/527.9 kB\u001b[0m \u001b[31m42.7 MB/s\u001b[0m eta \u001b[36m0:00:00\u001b[0m\n",
            "\u001b[?25hDownloading grpcio-1.65.5-cp311-cp311-manylinux_2_17_x86_64.manylinux2014_x86_64.whl (5.7 MB)\n",
            "\u001b[2K   \u001b[90m━━━━━━━━━━━━━━━━━━━━━━━━━━━━━━━━━━━━━━━━\u001b[0m \u001b[32m5.7/5.7 MB\u001b[0m \u001b[31m85.0 MB/s\u001b[0m eta \u001b[36m0:00:00\u001b[0m\n",
            "\u001b[?25hDownloading jaxlib-0.6.2-cp311-cp311-manylinux2014_x86_64.whl (89.9 MB)\n",
            "\u001b[2K   \u001b[90m━━━━━━━━━━━━━━━━━━━━━━━━━━━━━━━━━━━━━━━━\u001b[0m \u001b[32m89.9/89.9 MB\u001b[0m \u001b[31m9.0 MB/s\u001b[0m eta \u001b[36m0:00:00\u001b[0m\n",
            "\u001b[?25hDownloading jsonpickle-3.4.2-py3-none-any.whl (46 kB)\n",
            "\u001b[2K   \u001b[90m━━━━━━━━━━━━━━━━━━━━━━━━━━━━━━━━━━━━━━━━\u001b[0m \u001b[32m46.3/46.3 kB\u001b[0m \u001b[31m3.9 MB/s\u001b[0m eta \u001b[36m0:00:00\u001b[0m\n",
            "\u001b[?25hDownloading jupyter_server-2.16.0-py3-none-any.whl (386 kB)\n",
            "\u001b[2K   \u001b[90m━━━━━━━━━━━━━━━━━━━━━━━━━━━━━━━━━━━━━━━━\u001b[0m \u001b[32m386.9/386.9 kB\u001b[0m \u001b[31m37.3 MB/s\u001b[0m eta \u001b[36m0:00:00\u001b[0m\n",
            "\u001b[?25hDownloading jupyterlab-4.4.5-py3-none-any.whl (12.3 MB)\n",
            "\u001b[2K   \u001b[90m━━━━━━━━━━━━━━━━━━━━━━━━━━━━━━━━━━━━━━━━\u001b[0m \u001b[32m12.3/12.3 MB\u001b[0m \u001b[31m131.2 MB/s\u001b[0m eta \u001b[36m0:00:00\u001b[0m\n",
            "\u001b[?25hDownloading jupyterlab_server-2.27.3-py3-none-any.whl (59 kB)\n",
            "\u001b[2K   \u001b[90m━━━━━━━━━━━━━━━━━━━━━━━━━━━━━━━━━━━━━━━━\u001b[0m \u001b[32m59.7/59.7 kB\u001b[0m \u001b[31m6.8 MB/s\u001b[0m eta \u001b[36m0:00:00\u001b[0m\n",
            "\u001b[?25hDownloading objsize-0.7.1-py3-none-any.whl (11 kB)\n",
            "Downloading pyarrow_hotfix-0.7-py3-none-any.whl (7.9 kB)\n",
            "Downloading pydot-1.4.2-py2.py3-none-any.whl (21 kB)\n",
            "Downloading pymongo-4.14.0-cp311-cp311-manylinux_2_17_x86_64.manylinux2014_x86_64.whl (1.4 MB)\n",
            "\u001b[2K   \u001b[90m━━━━━━━━━━━━━━━━━━━━━━━━━━━━━━━━━━━━━━━━\u001b[0m \u001b[32m1.4/1.4 MB\u001b[0m \u001b[31m84.7 MB/s\u001b[0m eta \u001b[36m0:00:00\u001b[0m\n",
            "\u001b[?25hDownloading rdflib-7.1.4-py3-none-any.whl (565 kB)\n",
            "\u001b[2K   \u001b[90m━━━━━━━━━━━━━━━━━━━━━━━━━━━━━━━━━━━━━━━━\u001b[0m \u001b[32m565.1/565.1 kB\u001b[0m \u001b[31m47.2 MB/s\u001b[0m eta \u001b[36m0:00:00\u001b[0m\n",
            "\u001b[?25hDownloading redis-5.3.1-py3-none-any.whl (272 kB)\n",
            "\u001b[2K   \u001b[90m━━━━━━━━━━━━━━━━━━━━━━━━━━━━━━━━━━━━━━━━\u001b[0m \u001b[32m272.8/272.8 kB\u001b[0m \u001b[31m27.9 MB/s\u001b[0m eta \u001b[36m0:00:00\u001b[0m\n",
            "\u001b[?25hDownloading usearch-2.19.1-cp311-cp311-manylinux_2_27_x86_64.manylinux_2_28_x86_64.whl (2.1 MB)\n",
            "\u001b[2K   \u001b[90m━━━━━━━━━━━━━━━━━━━━━━━━━━━━━━━━━━━━━━━━\u001b[0m \u001b[32m2.1/2.1 MB\u001b[0m \u001b[31m84.7 MB/s\u001b[0m eta \u001b[36m0:00:00\u001b[0m\n",
            "\u001b[?25hDownloading widgetsnbextension-4.0.14-py3-none-any.whl (2.2 MB)\n",
            "\u001b[2K   \u001b[90m━━━━━━━━━━━━━━━━━━━━━━━━━━━━━━━━━━━━━━━━\u001b[0m \u001b[32m2.2/2.2 MB\u001b[0m \u001b[31m98.9 MB/s\u001b[0m eta \u001b[36m0:00:00\u001b[0m\n",
            "\u001b[?25hDownloading async_lru-2.0.5-py3-none-any.whl (6.1 kB)\n",
            "Downloading dnspython-2.7.0-py3-none-any.whl (313 kB)\n",
            "\u001b[2K   \u001b[90m━━━━━━━━━━━━━━━━━━━━━━━━━━━━━━━━━━━━━━━━\u001b[0m \u001b[32m313.6/313.6 kB\u001b[0m \u001b[31m28.0 MB/s\u001b[0m eta \u001b[36m0:00:00\u001b[0m\n",
            "\u001b[?25hDownloading grpcio_status-1.65.5-py3-none-any.whl (14 kB)\n",
            "Downloading jedi-0.19.2-py2.py3-none-any.whl (1.6 MB)\n",
            "\u001b[2K   \u001b[90m━━━━━━━━━━━━━━━━━━━━━━━━━━━━━━━━━━━━━━━━\u001b[0m \u001b[32m1.6/1.6 MB\u001b[0m \u001b[31m85.3 MB/s\u001b[0m eta \u001b[36m0:00:00\u001b[0m\n",
            "\u001b[?25hDownloading json5-0.12.0-py3-none-any.whl (36 kB)\n",
            "Downloading jupyter_client-8.6.3-py3-none-any.whl (106 kB)\n",
            "\u001b[2K   \u001b[90m━━━━━━━━━━━━━━━━━━━━━━━━━━━━━━━━━━━━━━━━\u001b[0m \u001b[32m106.1/106.1 kB\u001b[0m \u001b[31m10.8 MB/s\u001b[0m eta \u001b[36m0:00:00\u001b[0m\n",
            "\u001b[?25hDownloading jupyter_events-0.12.0-py3-none-any.whl (19 kB)\n",
            "Downloading jupyter_lsp-2.2.6-py3-none-any.whl (69 kB)\n",
            "\u001b[2K   \u001b[90m━━━━━━━━━━━━━━━━━━━━━━━━━━━━━━━━━━━━━━━━\u001b[0m \u001b[32m69.4/69.4 kB\u001b[0m \u001b[31m7.9 MB/s\u001b[0m eta \u001b[36m0:00:00\u001b[0m\n",
            "\u001b[?25hDownloading jupyter_server_terminals-0.5.3-py3-none-any.whl (13 kB)\n",
            "Downloading opentelemetry_api-1.36.0-py3-none-any.whl (65 kB)\n",
            "\u001b[2K   \u001b[90m━━━━━━━━━━━━━━━━━━━━━━━━━━━━━━━━━━━━━━━━\u001b[0m \u001b[32m65.6/65.6 kB\u001b[0m \u001b[31m6.7 MB/s\u001b[0m eta \u001b[36m0:00:00\u001b[0m\n",
            "\u001b[?25hDownloading opentelemetry_sdk-1.36.0-py3-none-any.whl (119 kB)\n",
            "\u001b[2K   \u001b[90m━━━━━━━━━━━━━━━━━━━━━━━━━━━━━━━━━━━━━━━━\u001b[0m \u001b[32m120.0/120.0 kB\u001b[0m \u001b[31m13.0 MB/s\u001b[0m eta \u001b[36m0:00:00\u001b[0m\n",
            "\u001b[?25hDownloading opentelemetry_semantic_conventions-0.57b0-py3-none-any.whl (201 kB)\n",
            "\u001b[2K   \u001b[90m━━━━━━━━━━━━━━━━━━━━━━━━━━━━━━━━━━━━━━━━\u001b[0m \u001b[32m201.6/201.6 kB\u001b[0m \u001b[31m21.3 MB/s\u001b[0m eta \u001b[36m0:00:00\u001b[0m\n",
            "\u001b[?25hDownloading overrides-7.7.0-py3-none-any.whl (17 kB)\n",
            "Downloading contextlib2-21.6.0-py2.py3-none-any.whl (13 kB)\n",
            "Downloading python_json_logger-3.3.0-py3-none-any.whl (15 kB)\n",
            "Downloading rfc3986_validator-0.1.1-py2.py3-none-any.whl (4.2 kB)\n",
            "Downloading rfc3339_validator-0.1.4-py2.py3-none-any.whl (3.5 kB)\n",
            "Downloading rfc3987_syntax-1.1.0-py3-none-any.whl (8.0 kB)\n",
            "Downloading fqdn-1.5.1-py3-none-any.whl (9.1 kB)\n",
            "Downloading isoduration-20.11.0-py3-none-any.whl (11 kB)\n",
            "Downloading uri_template-1.3.0-py3-none-any.whl (11 kB)\n",
            "Downloading arrow-1.3.0-py3-none-any.whl (66 kB)\n",
            "\u001b[2K   \u001b[90m━━━━━━━━━━━━━━━━━━━━━━━━━━━━━━━━━━━━━━━━\u001b[0m \u001b[32m66.4/66.4 kB\u001b[0m \u001b[31m7.0 MB/s\u001b[0m eta \u001b[36m0:00:00\u001b[0m\n",
            "\u001b[?25hDownloading lark-1.2.2-py3-none-any.whl (111 kB)\n",
            "\u001b[2K   \u001b[90m━━━━━━━━━━━━━━━━━━━━━━━━━━━━━━━━━━━━━━━━\u001b[0m \u001b[32m111.0/111.0 kB\u001b[0m \u001b[31m12.7 MB/s\u001b[0m eta \u001b[36m0:00:00\u001b[0m\n",
            "\u001b[?25hDownloading types_python_dateutil-2.9.0.20250708-py3-none-any.whl (17 kB)\n",
            "Building wheels for collected packages: chirp, perch_hoplite, crcmod, dill, google-apitools, hdfs, ml-collections, docopt\n",
            "  Building wheel for chirp (pyproject.toml) ... \u001b[?25l\u001b[?25hdone\n",
            "  Created wheel for chirp: filename=chirp-0.1.0-py3-none-any.whl size=2886132 sha256=9774b24d8482cf3e472be678752a8ed67c5e769dd72de1c99ad8c584b48326ce\n",
            "  Stored in directory: /tmp/pip-ephem-wheel-cache-wc1vw7fe/wheels/c4/fe/ea/56ee4e5ccea80f7a6e93596d208088f02313eadd76ab6860fe\n",
            "  Building wheel for perch_hoplite (pyproject.toml) ... \u001b[?25l\u001b[?25hdone\n",
            "  Created wheel for perch_hoplite: filename=perch_hoplite-0.1.1-py3-none-any.whl size=3731218 sha256=d7735c3db10036328d166c01168b0b98c8a7f10fc43ef8a518426f95351e7bc1\n",
            "  Stored in directory: /tmp/pip-ephem-wheel-cache-wc1vw7fe/wheels/52/a7/d3/44c10bc098463eae06041472af05c025f7b902180dd7d072f1\n",
            "  Building wheel for crcmod (setup.py) ... \u001b[?25l\u001b[?25hdone\n",
            "  Created wheel for crcmod: filename=crcmod-1.7-cp311-cp311-linux_x86_64.whl size=31657 sha256=c94a97cff0849004e00a118410fc4230e8c46115aabe8aec675823425c729b30\n",
            "  Stored in directory: /root/.cache/pip/wheels/23/94/7a/8cb7d14597e6395ce969933f01aed9ea8fa5f5b4d4c8a61e99\n",
            "  Building wheel for dill (setup.py) ... \u001b[?25l\u001b[?25hdone\n",
            "  Created wheel for dill: filename=dill-0.3.1.1-py3-none-any.whl size=78544 sha256=ad43534321545237985be73dbec17cb4d7696865617da34a7e6da6c8aebe8399\n",
            "  Stored in directory: /root/.cache/pip/wheels/01/60/80/1622338bcecce31a5664ef01c203cc5a7b09f59588d9c07376\n",
            "  Building wheel for google-apitools (setup.py) ... \u001b[?25l\u001b[?25hdone\n",
            "  Created wheel for google-apitools: filename=google_apitools-0.5.31-py3-none-any.whl size=131014 sha256=b5c62a66440d405a39ec6c1cb073b4dcbb112c64d3f77fdb1b5d43bfd1a7ed5a\n",
            "  Stored in directory: /root/.cache/pip/wheels/b4/7b/c5/b3dc55a0d70c63727a2fd1332b3cc14193d6d12219aa1372c4\n",
            "  Building wheel for hdfs (setup.py) ... \u001b[?25l\u001b[?25hdone\n",
            "  Created wheel for hdfs: filename=hdfs-2.7.3-py3-none-any.whl size=34324 sha256=fefb8e0a586c79568a49e20f7f33b49ffd2dfd020ed5afc3ab5fc4db155f02a2\n",
            "  Stored in directory: /root/.cache/pip/wheels/b9/1d/dc/eb0833be25464c359903d356c4204721c6a672c26ff164cdc3\n",
            "  Building wheel for ml-collections (setup.py) ... \u001b[?25l\u001b[?25hdone\n",
            "  Created wheel for ml-collections: filename=ml_collections-0.1.1-py3-none-any.whl size=94507 sha256=c05b5faa782ee9d158f841536cee7b11c605a2d8bba2e40d11a8ddca7f2b1ac4\n",
            "  Stored in directory: /root/.cache/pip/wheels/28/82/ef/a6971b09a96519d55ce6efef66f0cbcdef2ae9cc1e6b41daf7\n",
            "  Building wheel for docopt (setup.py) ... \u001b[?25l\u001b[?25hdone\n",
            "  Created wheel for docopt: filename=docopt-0.6.2-py2.py3-none-any.whl size=13706 sha256=289f8989448fe82e4f72d8a87dc78160fe4ee0f125bd6b801dd7da37f1fd244d\n",
            "  Stored in directory: /root/.cache/pip/wheels/1a/b0/8c/4b75c4116c31f83c8f9f047231251e13cc74481cca4a78a9ce\n",
            "Successfully built chirp perch_hoplite crcmod dill google-apitools hdfs ml-collections docopt\n",
            "Installing collected packages: docopt, crcmod, widgetsnbextension, uri-template, types-python-dateutil, rfc3986-validator, rfc3339-validator, redis, rdflib, python-json-logger, pydot, pyarrow-hotfix, overrides, objsize, numpy, lark, jsonpickle, json5, jedi, grpcio, fqdn, fasteners, fastavro, dnspython, dill, contextlib2, comm, async-lru, usearch, SPARQLWrapper, rfc3987-syntax, pymongo, opentelemetry-api, ml-collections, jupyter-server-terminals, jupyter-client, hdfs, grpcio-status, arrow, opentelemetry-semantic-conventions, jaxlib, isoduration, ipywidgets, google-apitools, opentelemetry-sdk, jax, apache-beam, jupyter-events, google-cloud-vision, google-cloud-videointelligence, google-cloud-recommendations-ai, google-cloud-pubsub, google-cloud-dlp, google-cloud-bigtable, google-cloud-pubsublite, jupyter-server, jupyterlab-server, jupyter-lsp, clu, jupyterlab, notebook, perch_hoplite, chirp\n",
            "  Attempting uninstall: widgetsnbextension\n",
            "    Found existing installation: widgetsnbextension 3.6.10\n",
            "    Uninstalling widgetsnbextension-3.6.10:\n",
            "      Successfully uninstalled widgetsnbextension-3.6.10\n",
            "  Attempting uninstall: pydot\n",
            "    Found existing installation: pydot 3.0.4\n",
            "    Uninstalling pydot-3.0.4:\n",
            "      Successfully uninstalled pydot-3.0.4\n",
            "  Attempting uninstall: numpy\n",
            "    Found existing installation: numpy 2.0.2\n",
            "    Uninstalling numpy-2.0.2:\n",
            "      Successfully uninstalled numpy-2.0.2\n",
            "  Attempting uninstall: jsonpickle\n",
            "    Found existing installation: jsonpickle 4.1.1\n",
            "    Uninstalling jsonpickle-4.1.1:\n",
            "      Successfully uninstalled jsonpickle-4.1.1\n",
            "  Attempting uninstall: grpcio\n",
            "    Found existing installation: grpcio 1.74.0\n",
            "    Uninstalling grpcio-1.74.0:\n",
            "      Successfully uninstalled grpcio-1.74.0\n",
            "  Attempting uninstall: dill\n",
            "    Found existing installation: dill 0.3.8\n",
            "    Uninstalling dill-0.3.8:\n",
            "      Successfully uninstalled dill-0.3.8\n",
            "  Attempting uninstall: jupyter-client\n",
            "    Found existing installation: jupyter-client 6.1.12\n",
            "    Uninstalling jupyter-client-6.1.12:\n",
            "      Successfully uninstalled jupyter-client-6.1.12\n",
            "  Attempting uninstall: grpcio-status\n",
            "    Found existing installation: grpcio-status 1.71.2\n",
            "    Uninstalling grpcio-status-1.71.2:\n",
            "      Successfully uninstalled grpcio-status-1.71.2\n",
            "  Attempting uninstall: jaxlib\n",
            "    Found existing installation: jaxlib 0.5.3\n",
            "    Uninstalling jaxlib-0.5.3:\n",
            "      Successfully uninstalled jaxlib-0.5.3\n",
            "  Attempting uninstall: ipywidgets\n",
            "    Found existing installation: ipywidgets 7.7.1\n",
            "    Uninstalling ipywidgets-7.7.1:\n",
            "      Successfully uninstalled ipywidgets-7.7.1\n",
            "  Attempting uninstall: jax\n",
            "    Found existing installation: jax 0.5.3\n",
            "    Uninstalling jax-0.5.3:\n",
            "      Successfully uninstalled jax-0.5.3\n",
            "  Attempting uninstall: jupyter-server\n",
            "    Found existing installation: jupyter-server 1.16.0\n",
            "    Uninstalling jupyter-server-1.16.0:\n",
            "      Successfully uninstalled jupyter-server-1.16.0\n",
            "  Attempting uninstall: notebook\n",
            "    Found existing installation: notebook 6.5.7\n",
            "    Uninstalling notebook-6.5.7:\n",
            "      Successfully uninstalled notebook-6.5.7\n",
            "\u001b[31mERROR: pip's dependency resolver does not currently take into account all the packages that are installed. This behaviour is the source of the following dependency conflicts.\n",
            "google-colab 1.0.0 requires jupyter-server==1.16.0, but you have jupyter-server 2.16.0 which is incompatible.\n",
            "jupyter-kernel-gateway 2.5.2 requires jupyter-client<8.0,>=5.2.0, but you have jupyter-client 8.6.3 which is incompatible.\n",
            "jupyter-kernel-gateway 2.5.2 requires notebook<7.0,>=5.7.6, but you have notebook 7.4.5 which is incompatible.\n",
            "opencv-python 4.12.0.88 requires numpy<2.3.0,>=2; python_version >= \"3.9\", but you have numpy 1.26.4 which is incompatible.\n",
            "opencv-python-headless 4.12.0.88 requires numpy<2.3.0,>=2; python_version >= \"3.9\", but you have numpy 1.26.4 which is incompatible.\n",
            "opencv-contrib-python 4.12.0.88 requires numpy<2.3.0,>=2; python_version >= \"3.9\", but you have numpy 1.26.4 which is incompatible.\n",
            "multiprocess 0.70.16 requires dill>=0.3.8, but you have dill 0.3.1.1 which is incompatible.\n",
            "thinc 8.3.6 requires numpy<3.0.0,>=2.0.0, but you have numpy 1.26.4 which is incompatible.\u001b[0m\u001b[31m\n",
            "\u001b[0mSuccessfully installed SPARQLWrapper-2.0.0 apache-beam-2.66.0 arrow-1.3.0 async-lru-2.0.5 chirp-0.1.0 clu-0.0.12 comm-0.2.3 contextlib2-21.6.0 crcmod-1.7 dill-0.3.1.1 dnspython-2.7.0 docopt-0.6.2 fastavro-1.12.0 fasteners-0.19 fqdn-1.5.1 google-apitools-0.5.31 google-cloud-bigtable-2.32.0 google-cloud-dlp-3.31.0 google-cloud-pubsub-2.31.1 google-cloud-pubsublite-1.12.0 google-cloud-recommendations-ai-0.10.18 google-cloud-videointelligence-2.16.2 google-cloud-vision-3.10.2 grpcio-1.65.5 grpcio-status-1.65.5 hdfs-2.7.3 ipywidgets-8.1.7 isoduration-20.11.0 jax-0.6.2 jaxlib-0.6.2 jedi-0.19.2 json5-0.12.0 jsonpickle-3.4.2 jupyter-client-8.6.3 jupyter-events-0.12.0 jupyter-lsp-2.2.6 jupyter-server-2.16.0 jupyter-server-terminals-0.5.3 jupyterlab-4.4.5 jupyterlab-server-2.27.3 lark-1.2.2 ml-collections-0.1.1 notebook-7.4.5 numpy-1.26.4 objsize-0.7.1 opentelemetry-api-1.36.0 opentelemetry-sdk-1.36.0 opentelemetry-semantic-conventions-0.57b0 overrides-7.7.0 perch_hoplite-0.1.1 pyarrow-hotfix-0.7 pydot-1.4.2 pymongo-4.14.0 python-json-logger-3.3.0 rdflib-7.1.4 redis-5.3.1 rfc3339-validator-0.1.4 rfc3986-validator-0.1.1 rfc3987-syntax-1.1.0 types-python-dateutil-2.9.0.20250708 uri-template-1.3.0 usearch-2.19.1 widgetsnbextension-4.0.14\n"
          ]
        },
        {
          "output_type": "display_data",
          "data": {
            "application/vnd.colab-display-data+json": {
              "pip_warning": {
                "packages": [
                  "google",
                  "numpy"
                ]
              },
              "id": "2174ce2162714b1b9d5c5064f53ec391"
            }
          },
          "metadata": {}
        }
      ],
      "source": [
        "#@title Installation. { vertical-output: true }\n",
        "#@markdown Run this notebook in Google Colab by following [this link](https://colab.research.google.com/github/google-research/perch/blob/main/embed_audio.ipynb).\n",
        "#@markdown\n",
        "#@markdown Run this cell to install the project dependencies.\n",
        "%pip install git+https://github.com/google-research/perch.git"
      ]
    },
    {
      "cell_type": "code",
      "execution_count": 1,
      "id": "bd66319e",
      "metadata": {
        "colab": {
          "base_uri": "https://localhost:8080/"
        },
        "id": "bd66319e",
        "outputId": "4c11b335-71e3-4f1d-d570-afd077d115e2"
      },
      "outputs": [
        {
          "output_type": "stream",
          "name": "stderr",
          "text": [
            "/usr/local/lib/python3.11/dist-packages/jaxlib/plugin_support.py:71: RuntimeWarning: JAX plugin jax_cuda12_plugin version 0.5.3 is installed, but it is not compatible with the installed jaxlib version 0.6.2, so it will not be used.\n",
            "  warnings.warn(\n"
          ]
        }
      ],
      "source": [
        "#@title Imports. { vertical-output: true }\n",
        "\n",
        "from etils import epath\n",
        "from ml_collections import config_dict\n",
        "import numpy as np\n",
        "import tensorflow as tf\n",
        "import tqdm\n",
        "from chirp.inference import colab_utils\n",
        "colab_utils.initialize(use_tf_gpu=True, disable_warnings=True)\n",
        "\n",
        "from chirp import audio_utils\n",
        "from chirp.inference import embed_lib\n",
        "from chirp.inference import tf_examples\n",
        "from perch_hoplite.zoo import model_configs"
      ]
    },
    {
      "cell_type": "code",
      "execution_count": 2,
      "id": "235bdc34",
      "metadata": {
        "id": "235bdc34"
      },
      "outputs": [],
      "source": [
        "#@title Basic Configuration. { vertical-output: true }\n",
        "\n",
        "#@markdown Define the model: perch or birdnet are most common for birds.\n",
        "model_choice = 'humpback'  #@param['perch_8', 'humpback', 'multispecies_whale', 'surfperch', 'birdnet_V2.3']\n",
        "#@markdown Set the base directory for the project.\n",
        "working_dir = '/tmp/agile'  #@param\n",
        "\n",
        "# Set the embedding and labeled data directories.\n",
        "embeddings_path = epath.Path(working_dir) / 'embeddings'\n",
        "labeled_data_path = epath.Path(working_dir) / 'labeled'\n",
        "embeddings_glob = embeddings_path / 'embeddings-*'\n",
        "\n",
        "# OPTIONAL: Set up separation model.\n",
        "separation_model_key = 'separator_model_tf'  #@param\n",
        "separation_model_path = ''  #@param"
      ]
    },
    {
      "cell_type": "code",
      "source": [
        "from google.colab import drive\n",
        "drive.mount('/content/drive')"
      ],
      "metadata": {
        "colab": {
          "base_uri": "https://localhost:8080/"
        },
        "id": "09p0kQ6Tm6zp",
        "outputId": "d6af302c-08dc-4562-e9e6-970b0111b050"
      },
      "id": "09p0kQ6Tm6zp",
      "execution_count": 3,
      "outputs": [
        {
          "output_type": "stream",
          "name": "stdout",
          "text": [
            "Mounted at /content/drive\n"
          ]
        }
      ]
    },
    {
      "cell_type": "code",
      "source": [
        "import os\n",
        "#@title Create a new folder in Drive (if it doesn't already exist) within your Google drive.\n",
        "base_dir = '/content/drive/MyDrive/'\n",
        "#@ markdown Name of your new folder in Drive\n",
        "new_folder_name = 'whale_denoising' #@param\n",
        "\n",
        "drive_output_directory = base_dir + new_folder_name\n",
        "\n",
        "try:\n",
        "  if not os.path.exists(drive_output_directory):\n",
        "    os.makedirs(drive_output_directory, exist_ok=True)\n",
        "    print(f'Directory {drive_output_directory} created successfully.')\n",
        "  else:\n",
        "    print(f'Directory {drive_output_directory} already exists.')\n",
        "except OSError as e:\n",
        "    print(\"Error:\", e)"
      ],
      "metadata": {
        "colab": {
          "base_uri": "https://localhost:8080/"
        },
        "id": "g4u0VniAnVxW",
        "outputId": "1e2eace1-e4e7-4145-bef7-767b9ada01d0"
      },
      "id": "g4u0VniAnVxW",
      "execution_count": 4,
      "outputs": [
        {
          "output_type": "stream",
          "name": "stdout",
          "text": [
            "Directory /content/drive/MyDrive/whale_denoising already exists.\n"
          ]
        }
      ]
    },
    {
      "cell_type": "code",
      "execution_count": 5,
      "id": "49c5661a",
      "metadata": {
        "id": "49c5661a"
      },
      "outputs": [],
      "source": [
        "#@title Embedding Configuration. { vertical-output: true }\n",
        "\n",
        "config = config_dict.ConfigDict()\n",
        "config.embed_fn_config = config_dict.ConfigDict()\n",
        "config.embed_fn_config.model_config = config_dict.ConfigDict()\n",
        "\n",
        "#@markdown IMPORTANT: Select the target audio files.\n",
        "#@markdown source_file_patterns should contain a list of globs of audio files, like:\n",
        "#@markdown ['/home/me/*.wav', '/home/me/other/*.flac']\n",
        "#config.source_file_patterns = ['gs://chirp-public-bucket/soundscapes/powdermill/Recording*/*.wav']  #@param\n",
        "config.source_file_patterns = ['/content/drive/MyDrive/whale_denoising/noisy/*.wav', '/content/drive/MyDrive/whale_denoising/clean/*.wav']  #@param\n",
        "config.output_dir = embeddings_path.as_posix()\n",
        "\n",
        "preset_info = model_configs.get_preset_model_config(model_choice)\n",
        "config.embed_fn_config.model_key = preset_info.model_key\n",
        "config.embed_fn_config.model_config = preset_info.model_config\n",
        "\n",
        "# Only write embeddings to reduce size.\n",
        "config.embed_fn_config.write_embeddings = True\n",
        "config.embed_fn_config.write_logits = False\n",
        "config.embed_fn_config.write_separated_audio = False\n",
        "config.embed_fn_config.write_raw_audio = False\n",
        "\n",
        "#@markdown File sharding automatically splits audio files into one-minute chunks\n",
        "#@markdown for embedding. This limits both system and GPU memory usage,\n",
        "#@markdown especially useful when working with long files (>1 hour).\n",
        "use_file_sharding = False  #@param {type:'boolean'}\n",
        "if use_file_sharding:\n",
        "  config.shard_len_s = 60.0\n",
        "\n",
        "# Number of parent directories to include in the filename.\n",
        "config.embed_fn_config.file_id_depth = 1"
      ]
    },
    {
      "cell_type": "code",
      "execution_count": 6,
      "id": "c6117f07",
      "metadata": {
        "colab": {
          "base_uri": "https://localhost:8080/"
        },
        "id": "c6117f07",
        "outputId": "b8062b3b-b92d-4f8f-f6b4-8a9f0cf541bf"
      },
      "outputs": [
        {
          "output_type": "stream",
          "name": "stdout",
          "text": [
            "\n",
            "\n",
            "Loading model(s)...\n",
            "Found 1473 source infos.\n",
            "\n",
            "\n",
            "Test-run of model...\n",
            "Setup complete!\n"
          ]
        }
      ],
      "source": [
        "#@title Set up. { vertical-output: true }\n",
        "\n",
        "# Set up the embedding function, including loading models.\n",
        "embed_fn = embed_lib.EmbedFn(**config.embed_fn_config)\n",
        "print('\\n\\nLoading model(s)...')\n",
        "embed_fn.setup()\n",
        "\n",
        "# Create output directory and write the configuration.\n",
        "output_dir = epath.Path(config.output_dir)\n",
        "output_dir.mkdir(exist_ok=True, parents=True)\n",
        "embed_lib.maybe_write_config(config, output_dir)\n",
        "\n",
        "# Create SourceInfos.\n",
        "source_infos = embed_lib.create_source_infos(\n",
        "    config.source_file_patterns,\n",
        "    num_shards_per_file=config.get('num_shards_per_file', -1),\n",
        "    shard_len_s=config.get('shard_len_s', -1))\n",
        "print(f'Found {len(source_infos)} source infos.')\n",
        "\n",
        "print('\\n\\nTest-run of model...')\n",
        "window_size_s = config.embed_fn_config.model_config.window_size_s\n",
        "sr = config.embed_fn_config.model_config.sample_rate\n",
        "z = np.zeros([int(sr * window_size_s)], dtype=np.float32)\n",
        "embed_fn.embedding_model.embed(z)\n",
        "print('Setup complete!')"
      ]
    },
    {
      "cell_type": "markdown",
      "source": [
        "# Extract the model"
      ],
      "metadata": {
        "id": "ffa9x5CiyBFg"
      },
      "id": "ffa9x5CiyBFg"
    },
    {
      "cell_type": "code",
      "source": [
        "embedding_model = embed_fn.embedding_model"
      ],
      "metadata": {
        "id": "lgeEubIFq4eN"
      },
      "id": "lgeEubIFq4eN",
      "execution_count": 7,
      "outputs": []
    },
    {
      "cell_type": "code",
      "execution_count": null,
      "id": "61bc503a",
      "metadata": {
        "colab": {
          "base_uri": "https://localhost:8080/"
        },
        "id": "61bc503a",
        "outputId": "17955fec-3e97-4a12-92ec-df4c8ab9702f"
      },
      "outputs": [
        {
          "output_type": "stream",
          "name": "stdout",
          "text": [
            "Found 0 existing embedding ids. \n",
            "Processing 1473 new source infos. \n"
          ]
        },
        {
          "output_type": "stream",
          "name": "stderr",
          "text": [
            "100%|██████████| 1473/1473 [07:24<00:00,  3.32it/s]"
          ]
        },
        {
          "output_type": "stream",
          "name": "stdout",
          "text": [
            "\n",
            "\n",
            "Successfully processed 1473 source_infos, failed 0 times.\n",
            "b'noisy/whale_1_10k.wav'\n",
            "(1, 1, 2048)\n"
          ]
        },
        {
          "output_type": "stream",
          "name": "stderr",
          "text": [
            "\n"
          ]
        }
      ],
      "source": [
        "#@title Run embedding. { vertical-output: true }\n",
        "\n",
        "# Uses multiple threads to load audio before embedding.\n",
        "# This tends to be faster, but can fail if any audio files are corrupt.\n",
        "\n",
        "embed_fn.min_audio_s = 1.0\n",
        "record_file = (output_dir / 'embeddings.tfrecord').as_posix()\n",
        "succ, fail = 0, 0\n",
        "\n",
        "existing_embedding_ids = embed_lib.get_existing_source_ids(\n",
        "    output_dir, 'embeddings-*')\n",
        "\n",
        "new_source_infos = embed_lib.get_new_source_infos(\n",
        "    source_infos, existing_embedding_ids, config.embed_fn_config.file_id_depth)\n",
        "\n",
        "print(f'Found {len(existing_embedding_ids)} existing embedding ids. \\n'\n",
        "      f'Processing {len(new_source_infos)} new source infos. ')\n",
        "\n",
        "try:\n",
        "  audio_loader = lambda fp, offset: audio_utils.load_audio_window(\n",
        "      fp, offset, sample_rate=config.embed_fn_config.model_config.sample_rate,\n",
        "      window_size_s=config.get('shard_len_s', -1.0))\n",
        "  audio_iterator = audio_utils.multi_load_audio_window(\n",
        "      filepaths=[s.filepath for s in new_source_infos],\n",
        "      offsets=[s.shard_num * s.shard_len_s for s in new_source_infos],\n",
        "      audio_loader=audio_loader,\n",
        "  )\n",
        "  with tf_examples.EmbeddingsTFRecordMultiWriter(\n",
        "      output_dir=output_dir, num_files=config.get('tf_record_shards', 1)) as file_writer:\n",
        "    for source_info, audio in tqdm.tqdm(\n",
        "        zip(new_source_infos, audio_iterator), total=len(new_source_infos)):\n",
        "      if not embed_fn.validate_audio(source_info, audio):\n",
        "        continue\n",
        "      file_id = source_info.file_id(config.embed_fn_config.file_id_depth)\n",
        "      offset_s = source_info.shard_num * source_info.shard_len_s\n",
        "      example = embed_fn.audio_to_example(file_id, offset_s, audio)\n",
        "      if example is None:\n",
        "        fail += 1\n",
        "        continue\n",
        "      file_writer.write(example.SerializeToString())\n",
        "      succ += 1\n",
        "    file_writer.flush()\n",
        "finally:\n",
        "  del(audio_iterator)\n",
        "print(f'\\n\\nSuccessfully processed {succ} source_infos, failed {fail} times.')\n",
        "\n",
        "fns = [fn for fn in output_dir.glob('embeddings-*')]\n",
        "ds = tf.data.TFRecordDataset(fns)\n",
        "parser = tf_examples.get_example_parser()\n",
        "ds = ds.map(parser)\n",
        "for ex in ds.as_numpy_iterator():\n",
        "  print(ex['filename'])\n",
        "  print(ex['embedding'].shape, flush=True)\n",
        "  break"
      ]
    },
    {
      "cell_type": "markdown",
      "source": [
        "# This is wrong"
      ],
      "metadata": {
        "id": "hBezeYFVyJSA"
      },
      "id": "hBezeYFVyJSA"
    },
    {
      "cell_type": "code",
      "source": [
        "import json\n",
        "import torch\n",
        "from chirp.models import build_model\n",
        "from chirp.inference import embed_lib\n",
        "\n",
        "# Load config from JSON\n",
        "with open(\"/tmp/agile/embeddings/config.json\", \"r\") as f:\n",
        "    full_config = json.load(f)\n",
        "\n",
        "model_config_dict = full_config[\"embed_fn_config\"][\"model_config\"]\n",
        "\n",
        "# Build model\n",
        "embedding_model = build_model.build_model(model_config_dict)\n",
        "\n",
        "# Load weights from TensorFlow Hub\n",
        "model_url = model_config_dict[\"model_url\"]\n",
        "embedding_model = embed_lib.load_tfhub_model(model_url, embedding_model)\n",
        "embedding_model.eval()\n",
        "\n",
        "# Wrap in embed_fn\n",
        "embed_fn = embed_lib.EmbedFn(embedding_model, frontend=True)"
      ],
      "metadata": {
        "colab": {
          "base_uri": "https://localhost:8080/",
          "height": 401
        },
        "id": "zpCQJ8sYW4Zj",
        "outputId": "0bec43b2-6215-4486-dc14-74d42e2d82ea"
      },
      "id": "zpCQJ8sYW4Zj",
      "execution_count": 16,
      "outputs": [
        {
          "output_type": "error",
          "ename": "ImportError",
          "evalue": "cannot import name 'build_model' from 'chirp.models' (unknown location)",
          "traceback": [
            "\u001b[0;31m---------------------------------------------------------------------------\u001b[0m",
            "\u001b[0;31mImportError\u001b[0m                               Traceback (most recent call last)",
            "\u001b[0;32m/tmp/ipython-input-3976398063.py\u001b[0m in \u001b[0;36m<cell line: 0>\u001b[0;34m()\u001b[0m\n\u001b[1;32m      1\u001b[0m \u001b[0;32mimport\u001b[0m \u001b[0mjson\u001b[0m\u001b[0;34m\u001b[0m\u001b[0;34m\u001b[0m\u001b[0m\n\u001b[1;32m      2\u001b[0m \u001b[0;32mimport\u001b[0m \u001b[0mtorch\u001b[0m\u001b[0;34m\u001b[0m\u001b[0;34m\u001b[0m\u001b[0m\n\u001b[0;32m----> 3\u001b[0;31m \u001b[0;32mfrom\u001b[0m \u001b[0mchirp\u001b[0m\u001b[0;34m.\u001b[0m\u001b[0mmodels\u001b[0m \u001b[0;32mimport\u001b[0m \u001b[0mbuild_model\u001b[0m\u001b[0;34m\u001b[0m\u001b[0;34m\u001b[0m\u001b[0m\n\u001b[0m\u001b[1;32m      4\u001b[0m \u001b[0;32mfrom\u001b[0m \u001b[0mchirp\u001b[0m\u001b[0;34m.\u001b[0m\u001b[0minference\u001b[0m \u001b[0;32mimport\u001b[0m \u001b[0membed_lib\u001b[0m\u001b[0;34m\u001b[0m\u001b[0;34m\u001b[0m\u001b[0m\n\u001b[1;32m      5\u001b[0m \u001b[0;34m\u001b[0m\u001b[0m\n",
            "\u001b[0;31mImportError\u001b[0m: cannot import name 'build_model' from 'chirp.models' (unknown location)",
            "",
            "\u001b[0;31m---------------------------------------------------------------------------\u001b[0;32m\nNOTE: If your import is failing due to a missing package, you can\nmanually install dependencies using either !pip or !apt.\n\nTo view examples of installing some common dependencies, click the\n\"Open Examples\" button below.\n\u001b[0;31m---------------------------------------------------------------------------\u001b[0m\n"
          ],
          "errorDetails": {
            "actions": [
              {
                "action": "open_url",
                "actionText": "Open Examples",
                "url": "/notebooks/snippets/importing_libraries.ipynb"
              }
            ]
          }
        }
      ]
    },
    {
      "cell_type": "code",
      "source": [
        "print(type(embedding_model))\n",
        "print(dir(embedding_model))\n"
      ],
      "metadata": {
        "colab": {
          "base_uri": "https://localhost:8080/"
        },
        "id": "8M6BHINXcloY",
        "outputId": "7054cf2a-09a2-4de6-8c55-b86ef14d7530"
      },
      "id": "8M6BHINXcloY",
      "execution_count": 27,
      "outputs": [
        {
          "output_type": "stream",
          "name": "stdout",
          "text": [
            "<class 'perch_hoplite.zoo.models_tf.GoogleWhaleModel'>\n",
            "['__annotations__', '__class__', '__dataclass_fields__', '__dataclass_params__', '__delattr__', '__dict__', '__dir__', '__doc__', '__eq__', '__format__', '__ge__', '__getattribute__', '__getstate__', '__gt__', '__hash__', '__init__', '__init_subclass__', '__le__', '__lt__', '__match_args__', '__module__', '__ne__', '__new__', '__reduce__', '__reduce_ex__', '__repr__', '__setattr__', '__sizeof__', '__str__', '__subclasshook__', '__weakref__', 'batch_embed', 'class_list', 'embed', 'frame_audio', 'from_config', 'hop_size_s', 'load_humpback_model', 'model', 'model_url', 'normalize_audio', 'peak_norm', 'sample_rate', 'window_size_s']\n"
          ]
        }
      ]
    },
    {
      "cell_type": "markdown",
      "source": [
        "# Train Denoiser"
      ],
      "metadata": {
        "id": "-6d88KuDS32H"
      },
      "id": "-6d88KuDS32H"
    },
    {
      "cell_type": "code",
      "source": [
        "import torch\n",
        "import torch.nn as nn\n",
        "from tqdm import tqdm\n",
        "import numpy as np\n",
        "\n",
        "# Simple 1D convolutional denoiser\n",
        "class Denoiser1D(nn.Module):\n",
        "    def __init__(self):\n",
        "        super().__init__()\n",
        "        self.net = nn.Sequential(\n",
        "            nn.Conv1d(1, 32, kernel_size=15, padding=7),\n",
        "            nn.ReLU(),\n",
        "            nn.Conv1d(32, 64, kernel_size=15, padding=7),\n",
        "            nn.ReLU(),\n",
        "            nn.Conv1d(64, 32, kernel_size=15, padding=7),\n",
        "            nn.ReLU(),\n",
        "            nn.Conv1d(32, 1, kernel_size=15, padding=7)\n",
        "        )\n",
        "\n",
        "    def forward(self, x):\n",
        "        return self.net(x)\n",
        "\n",
        "denoiser = Denoiser1D().cuda()\n",
        "optimizer = torch.optim.Adam(denoiser.parameters(), lr=1e-3)\n",
        "mse_loss = nn.MSELoss()\n",
        "\n"
      ],
      "metadata": {
        "id": "Te-WRHQ5S651"
      },
      "id": "Te-WRHQ5S651",
      "execution_count": 11,
      "outputs": []
    },
    {
      "cell_type": "markdown",
      "source": [
        "Define data loader"
      ],
      "metadata": {
        "id": "EQJlW_PNTWbB"
      },
      "id": "EQJlW_PNTWbB"
    },
    {
      "cell_type": "code",
      "source": [
        "from torch.utils.data import Dataset, DataLoader\n",
        "import torchaudio\n",
        "import glob\n",
        "\n",
        "class NoisyWhaleDataset(Dataset):\n",
        "    def __init__(self, paths):\n",
        "        self.paths = paths\n",
        "\n",
        "    def __len__(self):\n",
        "        return len(self.paths)\n",
        "\n",
        "    def __getitem__(self, idx):\n",
        "        x, _ = torchaudio.load(self.paths[idx])\n",
        "        return x.squeeze(0)\n",
        "\n",
        "noisy_paths = sorted(glob.glob('/content/drive/MyDrive/whale_denoising/noisy/*.wav'))\n",
        "noisy_dataset = NoisyWhaleDataset(noisy_paths)\n",
        "train_loader = DataLoader(noisy_dataset, batch_size=16, shuffle=True)\n",
        "\n"
      ],
      "metadata": {
        "id": "TG6SsWYlTWCZ"
      },
      "id": "TG6SsWYlTWCZ",
      "execution_count": 9,
      "outputs": []
    },
    {
      "cell_type": "code",
      "source": [
        "clean_paths = sorted(glob.glob('/content/drive/MyDrive/whale_denoising/clean/*.wav'))"
      ],
      "metadata": {
        "id": "WhDWg6IQGthm"
      },
      "id": "WhDWg6IQGthm",
      "execution_count": 29,
      "outputs": []
    },
    {
      "cell_type": "code",
      "source": [
        "print(dir(embed_fn))"
      ],
      "metadata": {
        "colab": {
          "base_uri": "https://localhost:8080/"
        },
        "id": "BPwinjrYVmrT",
        "outputId": "ec7a8c14-84a7-48b0-856c-edc95ef6c642"
      },
      "id": "BPwinjrYVmrT",
      "execution_count": 14,
      "outputs": [
        {
          "output_type": "stream",
          "name": "stdout",
          "text": [
            "['BundleContextParam', 'BundleFinalizerParam', 'DoFnProcessParams', 'DynamicTimerTagParam', 'ElementParam', 'KeyParam', 'PaneInfoParam', 'RestrictionParam', 'SetupContextParam', 'SideInputParam', 'StateParam', 'TimerParam', 'TimestampParam', 'WatermarkEstimatorParam', 'WindowParam', 'WindowedValueParam', '__annotations__', '__class__', '__delattr__', '__dict__', '__dir__', '__doc__', '__eq__', '__format__', '__ge__', '__getattribute__', '__getstate__', '__gt__', '__hash__', '__init__', '__init_subclass__', '__le__', '__lt__', '__module__', '__ne__', '__new__', '__reduce__', '__reduce_ex__', '__repr__', '__setattr__', '__sizeof__', '__str__', '__subclasshook__', '__weakref__', '_can_yield_batches', '_get_display_data_namespace', '_get_element_type_from_return_annotation', '_get_input_batch_type_normalized', '_get_or_create_type_hints', '_get_output_batch_type_normalized', '_known_urns', '_log_exception', '_process_argspec_fn', '_process_batch_defined', '_process_batch_yields_elements', '_process_defined', '_process_yields_batches', '_set_type_hints', 'audio_to_example', 'crop_s', 'default_label', 'default_type_hints', 'display_data', 'embedding_model', 'file_id_depth', 'finish_bundle', 'from_callable', 'from_runner_api', 'get_function_arguments', 'get_input_batch_type', 'get_output_batch_type', 'get_type_hints', 'infer_output_type', 'load_audio', 'logits_head', 'logits_head_config', 'min_audio_s', 'process', 'process_batch', 'register_pickle_urn', 'register_urn', 'setup', 'start_bundle', 'target_sample_rate', 'teardown', 'tensor_dtype', 'to_runner_api', 'to_runner_api_parameter', 'unbounded_per_element', 'validate_audio', 'with_input_types', 'with_output_types', 'write_embeddings', 'write_frontend', 'write_logits', 'write_raw_audio', 'write_separated_audio', 'yields_batches', 'yields_elements']\n"
          ]
        }
      ]
    },
    {
      "cell_type": "markdown",
      "source": [
        "# Training Loop"
      ],
      "metadata": {
        "id": "u7QchKMlT4ni"
      },
      "id": "u7QchKMlT4ni"
    },
    {
      "cell_type": "code",
      "source": [
        "for epoch in range(50):  # You can adjust the number of epochs\n",
        "    denoiser.train()\n",
        "    total_loss = 0\n",
        "    total_score = 0\n",
        "    total_batches = 0\n",
        "\n",
        "    for noisy in tqdm(train_loader):\n",
        "        noisy = noisy.unsqueeze(1).cuda()  # shape: (B, 1, T)\n",
        "        denoised = denoiser(noisy)\n",
        "\n",
        "        # === 1. Reconstruction Loss (what we train with) ===\n",
        "        loss = mse_loss(denoised, noisy)\n",
        "\n",
        "        # === 2. Convert to numpy for frozen TF model (whale score logging) ===\n",
        "        def to_numpy_for_tf(x):\n",
        "            x = x.detach().squeeze(1).cpu().numpy()\n",
        "            x = x[..., np.newaxis].astype(np.float32)\n",
        "            target_len = 39124\n",
        "            return x[:, :target_len, :] if x.shape[1] > target_len else np.pad(\n",
        "                x, ((0, 0), (0, target_len - x.shape[1]), (0, 0))\n",
        "            )\n",
        "\n",
        "        denoised_np = to_numpy_for_tf(denoised)\n",
        "\n",
        "        # === 3. Whale score (frozen TF model) ===\n",
        "        whale_scores = embedding_model.model(denoised_np, False, None).numpy()\n",
        "        mean_score = whale_scores.mean()\n",
        "\n",
        "        # === 4. Train step ===\n",
        "        optimizer.zero_grad()\n",
        "        loss.backward()\n",
        "        optimizer.step()\n",
        "\n",
        "        # === 5. Logging ===\n",
        "        total_loss += loss.item()\n",
        "        total_score += mean_score\n",
        "        total_batches += 1\n",
        "\n",
        "    avg_loss = total_loss / total_batches\n",
        "    avg_score = total_score / total_batches\n",
        "    print(f\"Epoch {epoch + 1} | Recon Loss: {avg_loss:.4f} | Whale Score (mean): {avg_score:.4f}\")\n"
      ],
      "metadata": {
        "colab": {
          "base_uri": "https://localhost:8080/"
        },
        "id": "4xQTWhzAUDxl",
        "outputId": "ff7529a0-5380-4211-f865-d73ea461be7e"
      },
      "id": "4xQTWhzAUDxl",
      "execution_count": 44,
      "outputs": [
        {
          "output_type": "stream",
          "name": "stderr",
          "text": [
            "100%|██████████| 58/58 [00:19<00:00,  3.00it/s]\n"
          ]
        },
        {
          "output_type": "stream",
          "name": "stdout",
          "text": [
            "Epoch 1 | Recon Loss: 0.0000 | Whale Score (mean): -0.8555\n"
          ]
        },
        {
          "output_type": "stream",
          "name": "stderr",
          "text": [
            "100%|██████████| 58/58 [00:19<00:00,  3.03it/s]\n"
          ]
        },
        {
          "output_type": "stream",
          "name": "stdout",
          "text": [
            "Epoch 2 | Recon Loss: 0.0000 | Whale Score (mean): -0.8619\n"
          ]
        },
        {
          "output_type": "stream",
          "name": "stderr",
          "text": [
            "100%|██████████| 58/58 [00:18<00:00,  3.14it/s]\n"
          ]
        },
        {
          "output_type": "stream",
          "name": "stdout",
          "text": [
            "Epoch 3 | Recon Loss: 0.0000 | Whale Score (mean): -0.8630\n"
          ]
        },
        {
          "output_type": "stream",
          "name": "stderr",
          "text": [
            "100%|██████████| 58/58 [00:18<00:00,  3.07it/s]\n"
          ]
        },
        {
          "output_type": "stream",
          "name": "stdout",
          "text": [
            "Epoch 4 | Recon Loss: 0.0000 | Whale Score (mean): -0.8616\n"
          ]
        },
        {
          "output_type": "stream",
          "name": "stderr",
          "text": [
            "100%|██████████| 58/58 [00:18<00:00,  3.14it/s]\n"
          ]
        },
        {
          "output_type": "stream",
          "name": "stdout",
          "text": [
            "Epoch 5 | Recon Loss: 0.0000 | Whale Score (mean): -0.8616\n"
          ]
        },
        {
          "output_type": "stream",
          "name": "stderr",
          "text": [
            "100%|██████████| 58/58 [00:18<00:00,  3.15it/s]\n"
          ]
        },
        {
          "output_type": "stream",
          "name": "stdout",
          "text": [
            "Epoch 6 | Recon Loss: 0.0000 | Whale Score (mean): -0.8575\n"
          ]
        },
        {
          "output_type": "stream",
          "name": "stderr",
          "text": [
            "100%|██████████| 58/58 [00:19<00:00,  3.04it/s]\n"
          ]
        },
        {
          "output_type": "stream",
          "name": "stdout",
          "text": [
            "Epoch 7 | Recon Loss: 0.0000 | Whale Score (mean): -0.8687\n"
          ]
        },
        {
          "output_type": "stream",
          "name": "stderr",
          "text": [
            "100%|██████████| 58/58 [00:18<00:00,  3.17it/s]\n"
          ]
        },
        {
          "output_type": "stream",
          "name": "stdout",
          "text": [
            "Epoch 8 | Recon Loss: 0.0000 | Whale Score (mean): -0.8619\n"
          ]
        },
        {
          "output_type": "stream",
          "name": "stderr",
          "text": [
            "100%|██████████| 58/58 [00:18<00:00,  3.07it/s]\n"
          ]
        },
        {
          "output_type": "stream",
          "name": "stdout",
          "text": [
            "Epoch 9 | Recon Loss: 0.0000 | Whale Score (mean): -0.8727\n"
          ]
        },
        {
          "output_type": "stream",
          "name": "stderr",
          "text": [
            "100%|██████████| 58/58 [00:18<00:00,  3.19it/s]\n"
          ]
        },
        {
          "output_type": "stream",
          "name": "stdout",
          "text": [
            "Epoch 10 | Recon Loss: 0.0000 | Whale Score (mean): -0.8616\n"
          ]
        },
        {
          "output_type": "stream",
          "name": "stderr",
          "text": [
            "100%|██████████| 58/58 [00:18<00:00,  3.16it/s]\n"
          ]
        },
        {
          "output_type": "stream",
          "name": "stdout",
          "text": [
            "Epoch 11 | Recon Loss: 0.0000 | Whale Score (mean): -0.8597\n"
          ]
        },
        {
          "output_type": "stream",
          "name": "stderr",
          "text": [
            "100%|██████████| 58/58 [00:18<00:00,  3.09it/s]\n"
          ]
        },
        {
          "output_type": "stream",
          "name": "stdout",
          "text": [
            "Epoch 12 | Recon Loss: 0.0000 | Whale Score (mean): -0.8644\n"
          ]
        },
        {
          "output_type": "stream",
          "name": "stderr",
          "text": [
            "100%|██████████| 58/58 [00:19<00:00,  3.04it/s]\n"
          ]
        },
        {
          "output_type": "stream",
          "name": "stdout",
          "text": [
            "Epoch 13 | Recon Loss: 0.0000 | Whale Score (mean): -0.8619\n"
          ]
        },
        {
          "output_type": "stream",
          "name": "stderr",
          "text": [
            "100%|██████████| 58/58 [00:19<00:00,  3.04it/s]\n"
          ]
        },
        {
          "output_type": "stream",
          "name": "stdout",
          "text": [
            "Epoch 14 | Recon Loss: 0.0000 | Whale Score (mean): -0.8532\n"
          ]
        },
        {
          "output_type": "stream",
          "name": "stderr",
          "text": [
            "100%|██████████| 58/58 [00:18<00:00,  3.11it/s]\n"
          ]
        },
        {
          "output_type": "stream",
          "name": "stdout",
          "text": [
            "Epoch 15 | Recon Loss: 0.0000 | Whale Score (mean): -0.8661\n"
          ]
        },
        {
          "output_type": "stream",
          "name": "stderr",
          "text": [
            "100%|██████████| 58/58 [00:19<00:00,  3.05it/s]\n"
          ]
        },
        {
          "output_type": "stream",
          "name": "stdout",
          "text": [
            "Epoch 16 | Recon Loss: 0.0000 | Whale Score (mean): -0.8692\n"
          ]
        },
        {
          "output_type": "stream",
          "name": "stderr",
          "text": [
            "100%|██████████| 58/58 [00:18<00:00,  3.13it/s]\n"
          ]
        },
        {
          "output_type": "stream",
          "name": "stdout",
          "text": [
            "Epoch 17 | Recon Loss: 0.0000 | Whale Score (mean): -0.8567\n"
          ]
        },
        {
          "output_type": "stream",
          "name": "stderr",
          "text": [
            "100%|██████████| 58/58 [00:18<00:00,  3.17it/s]\n"
          ]
        },
        {
          "output_type": "stream",
          "name": "stdout",
          "text": [
            "Epoch 18 | Recon Loss: 0.0000 | Whale Score (mean): -0.8595\n"
          ]
        },
        {
          "output_type": "stream",
          "name": "stderr",
          "text": [
            "100%|██████████| 58/58 [00:18<00:00,  3.06it/s]\n"
          ]
        },
        {
          "output_type": "stream",
          "name": "stdout",
          "text": [
            "Epoch 19 | Recon Loss: 0.0000 | Whale Score (mean): -0.8644\n"
          ]
        },
        {
          "output_type": "stream",
          "name": "stderr",
          "text": [
            "100%|██████████| 58/58 [00:18<00:00,  3.19it/s]\n"
          ]
        },
        {
          "output_type": "stream",
          "name": "stdout",
          "text": [
            "Epoch 20 | Recon Loss: 0.0000 | Whale Score (mean): -0.8740\n"
          ]
        },
        {
          "output_type": "stream",
          "name": "stderr",
          "text": [
            "100%|██████████| 58/58 [00:18<00:00,  3.07it/s]\n"
          ]
        },
        {
          "output_type": "stream",
          "name": "stdout",
          "text": [
            "Epoch 21 | Recon Loss: 0.0000 | Whale Score (mean): -0.8830\n"
          ]
        },
        {
          "output_type": "stream",
          "name": "stderr",
          "text": [
            "100%|██████████| 58/58 [00:18<00:00,  3.17it/s]\n"
          ]
        },
        {
          "output_type": "stream",
          "name": "stdout",
          "text": [
            "Epoch 22 | Recon Loss: 0.0000 | Whale Score (mean): -0.8809\n"
          ]
        },
        {
          "output_type": "stream",
          "name": "stderr",
          "text": [
            "100%|██████████| 58/58 [00:18<00:00,  3.11it/s]\n"
          ]
        },
        {
          "output_type": "stream",
          "name": "stdout",
          "text": [
            "Epoch 23 | Recon Loss: 0.0000 | Whale Score (mean): -0.8787\n"
          ]
        },
        {
          "output_type": "stream",
          "name": "stderr",
          "text": [
            "100%|██████████| 58/58 [00:18<00:00,  3.07it/s]\n"
          ]
        },
        {
          "output_type": "stream",
          "name": "stdout",
          "text": [
            "Epoch 24 | Recon Loss: 0.0000 | Whale Score (mean): -0.8754\n"
          ]
        },
        {
          "output_type": "stream",
          "name": "stderr",
          "text": [
            "100%|██████████| 58/58 [00:18<00:00,  3.09it/s]\n"
          ]
        },
        {
          "output_type": "stream",
          "name": "stdout",
          "text": [
            "Epoch 25 | Recon Loss: 0.0000 | Whale Score (mean): -0.8684\n"
          ]
        },
        {
          "output_type": "stream",
          "name": "stderr",
          "text": [
            "100%|██████████| 58/58 [00:19<00:00,  2.99it/s]\n"
          ]
        },
        {
          "output_type": "stream",
          "name": "stdout",
          "text": [
            "Epoch 26 | Recon Loss: 0.0000 | Whale Score (mean): -0.8690\n"
          ]
        },
        {
          "output_type": "stream",
          "name": "stderr",
          "text": [
            "100%|██████████| 58/58 [00:18<00:00,  3.17it/s]\n"
          ]
        },
        {
          "output_type": "stream",
          "name": "stdout",
          "text": [
            "Epoch 27 | Recon Loss: 0.0000 | Whale Score (mean): -0.8679\n"
          ]
        },
        {
          "output_type": "stream",
          "name": "stderr",
          "text": [
            "100%|██████████| 58/58 [00:18<00:00,  3.07it/s]\n"
          ]
        },
        {
          "output_type": "stream",
          "name": "stdout",
          "text": [
            "Epoch 28 | Recon Loss: 0.0000 | Whale Score (mean): -0.8613\n"
          ]
        },
        {
          "output_type": "stream",
          "name": "stderr",
          "text": [
            "100%|██████████| 58/58 [00:18<00:00,  3.15it/s]\n"
          ]
        },
        {
          "output_type": "stream",
          "name": "stdout",
          "text": [
            "Epoch 29 | Recon Loss: 0.0000 | Whale Score (mean): -0.8676\n"
          ]
        },
        {
          "output_type": "stream",
          "name": "stderr",
          "text": [
            "100%|██████████| 58/58 [00:18<00:00,  3.15it/s]\n"
          ]
        },
        {
          "output_type": "stream",
          "name": "stdout",
          "text": [
            "Epoch 30 | Recon Loss: 0.0000 | Whale Score (mean): -0.8689\n"
          ]
        },
        {
          "output_type": "stream",
          "name": "stderr",
          "text": [
            "100%|██████████| 58/58 [00:19<00:00,  3.03it/s]\n"
          ]
        },
        {
          "output_type": "stream",
          "name": "stdout",
          "text": [
            "Epoch 31 | Recon Loss: 0.0000 | Whale Score (mean): -0.8725\n"
          ]
        },
        {
          "output_type": "stream",
          "name": "stderr",
          "text": [
            "100%|██████████| 58/58 [00:18<00:00,  3.15it/s]\n"
          ]
        },
        {
          "output_type": "stream",
          "name": "stdout",
          "text": [
            "Epoch 32 | Recon Loss: 0.0000 | Whale Score (mean): -0.8570\n"
          ]
        },
        {
          "output_type": "stream",
          "name": "stderr",
          "text": [
            "100%|██████████| 58/58 [00:19<00:00,  3.05it/s]\n"
          ]
        },
        {
          "output_type": "stream",
          "name": "stdout",
          "text": [
            "Epoch 33 | Recon Loss: 0.0000 | Whale Score (mean): -0.8654\n"
          ]
        },
        {
          "output_type": "stream",
          "name": "stderr",
          "text": [
            "100%|██████████| 58/58 [00:18<00:00,  3.18it/s]\n"
          ]
        },
        {
          "output_type": "stream",
          "name": "stdout",
          "text": [
            "Epoch 34 | Recon Loss: 0.0000 | Whale Score (mean): -0.8675\n"
          ]
        },
        {
          "output_type": "stream",
          "name": "stderr",
          "text": [
            "100%|██████████| 58/58 [00:18<00:00,  3.11it/s]\n"
          ]
        },
        {
          "output_type": "stream",
          "name": "stdout",
          "text": [
            "Epoch 35 | Recon Loss: 0.0000 | Whale Score (mean): -0.8648\n"
          ]
        },
        {
          "output_type": "stream",
          "name": "stderr",
          "text": [
            "100%|██████████| 58/58 [00:18<00:00,  3.12it/s]\n"
          ]
        },
        {
          "output_type": "stream",
          "name": "stdout",
          "text": [
            "Epoch 36 | Recon Loss: 0.0000 | Whale Score (mean): -0.8650\n"
          ]
        },
        {
          "output_type": "stream",
          "name": "stderr",
          "text": [
            "100%|██████████| 58/58 [00:18<00:00,  3.17it/s]\n"
          ]
        },
        {
          "output_type": "stream",
          "name": "stdout",
          "text": [
            "Epoch 37 | Recon Loss: 0.0000 | Whale Score (mean): -0.8978\n"
          ]
        },
        {
          "output_type": "stream",
          "name": "stderr",
          "text": [
            "100%|██████████| 58/58 [00:19<00:00,  2.92it/s]\n"
          ]
        },
        {
          "output_type": "stream",
          "name": "stdout",
          "text": [
            "Epoch 38 | Recon Loss: 0.0000 | Whale Score (mean): -1.0395\n"
          ]
        },
        {
          "output_type": "stream",
          "name": "stderr",
          "text": [
            "100%|██████████| 58/58 [00:18<00:00,  3.16it/s]\n"
          ]
        },
        {
          "output_type": "stream",
          "name": "stdout",
          "text": [
            "Epoch 39 | Recon Loss: 0.0000 | Whale Score (mean): -0.8398\n"
          ]
        },
        {
          "output_type": "stream",
          "name": "stderr",
          "text": [
            "100%|██████████| 58/58 [00:18<00:00,  3.10it/s]\n"
          ]
        },
        {
          "output_type": "stream",
          "name": "stdout",
          "text": [
            "Epoch 40 | Recon Loss: 0.0000 | Whale Score (mean): -0.8645\n"
          ]
        },
        {
          "output_type": "stream",
          "name": "stderr",
          "text": [
            "100%|██████████| 58/58 [00:18<00:00,  3.14it/s]\n"
          ]
        },
        {
          "output_type": "stream",
          "name": "stdout",
          "text": [
            "Epoch 41 | Recon Loss: 0.0000 | Whale Score (mean): -0.8722\n"
          ]
        },
        {
          "output_type": "stream",
          "name": "stderr",
          "text": [
            "100%|██████████| 58/58 [00:18<00:00,  3.18it/s]\n"
          ]
        },
        {
          "output_type": "stream",
          "name": "stdout",
          "text": [
            "Epoch 42 | Recon Loss: 0.0000 | Whale Score (mean): -0.8569\n"
          ]
        },
        {
          "output_type": "stream",
          "name": "stderr",
          "text": [
            "100%|██████████| 58/58 [00:18<00:00,  3.08it/s]\n"
          ]
        },
        {
          "output_type": "stream",
          "name": "stdout",
          "text": [
            "Epoch 43 | Recon Loss: 0.0000 | Whale Score (mean): -0.8680\n"
          ]
        },
        {
          "output_type": "stream",
          "name": "stderr",
          "text": [
            "100%|██████████| 58/58 [00:18<00:00,  3.20it/s]\n"
          ]
        },
        {
          "output_type": "stream",
          "name": "stdout",
          "text": [
            "Epoch 44 | Recon Loss: 0.0000 | Whale Score (mean): -0.8659\n"
          ]
        },
        {
          "output_type": "stream",
          "name": "stderr",
          "text": [
            "100%|██████████| 58/58 [00:18<00:00,  3.10it/s]\n"
          ]
        },
        {
          "output_type": "stream",
          "name": "stdout",
          "text": [
            "Epoch 45 | Recon Loss: 0.0000 | Whale Score (mean): -0.8752\n"
          ]
        },
        {
          "output_type": "stream",
          "name": "stderr",
          "text": [
            "100%|██████████| 58/58 [00:18<00:00,  3.15it/s]\n"
          ]
        },
        {
          "output_type": "stream",
          "name": "stdout",
          "text": [
            "Epoch 46 | Recon Loss: 0.0000 | Whale Score (mean): -0.8597\n"
          ]
        },
        {
          "output_type": "stream",
          "name": "stderr",
          "text": [
            "100%|██████████| 58/58 [00:18<00:00,  3.18it/s]\n"
          ]
        },
        {
          "output_type": "stream",
          "name": "stdout",
          "text": [
            "Epoch 47 | Recon Loss: 0.0000 | Whale Score (mean): -0.8559\n"
          ]
        },
        {
          "output_type": "stream",
          "name": "stderr",
          "text": [
            "100%|██████████| 58/58 [00:19<00:00,  3.03it/s]\n"
          ]
        },
        {
          "output_type": "stream",
          "name": "stdout",
          "text": [
            "Epoch 48 | Recon Loss: 0.0000 | Whale Score (mean): -0.8597\n"
          ]
        },
        {
          "output_type": "stream",
          "name": "stderr",
          "text": [
            "100%|██████████| 58/58 [00:18<00:00,  3.17it/s]\n"
          ]
        },
        {
          "output_type": "stream",
          "name": "stdout",
          "text": [
            "Epoch 49 | Recon Loss: 0.0000 | Whale Score (mean): -0.8577\n"
          ]
        },
        {
          "output_type": "stream",
          "name": "stderr",
          "text": [
            "100%|██████████| 58/58 [00:19<00:00,  2.96it/s]"
          ]
        },
        {
          "output_type": "stream",
          "name": "stdout",
          "text": [
            "Epoch 50 | Recon Loss: 0.0000 | Whale Score (mean): -0.8594\n"
          ]
        },
        {
          "output_type": "stream",
          "name": "stderr",
          "text": [
            "\n"
          ]
        }
      ]
    },
    {
      "cell_type": "markdown",
      "source": [
        "# Save trained model to disk"
      ],
      "metadata": {
        "id": "CQ5ov1cjL6wV"
      },
      "id": "CQ5ov1cjL6wV"
    },
    {
      "cell_type": "code",
      "source": [
        "torch.save(denoiser.state_dict(), \"/content/drive/MyDrive/whale_denoising/whale_denoiser.pt\")\n"
      ],
      "metadata": {
        "id": "nQYAfQuhLhhx"
      },
      "id": "nQYAfQuhLhhx",
      "execution_count": 47,
      "outputs": []
    },
    {
      "cell_type": "markdown",
      "source": [
        "# Listen to denoised output"
      ],
      "metadata": {
        "id": "IewDCxzSMFl-"
      },
      "id": "IewDCxzSMFl-"
    },
    {
      "cell_type": "code",
      "source": [
        "denoiser.eval()\n",
        "with torch.no_grad():\n",
        "    test_waveform, _ = torchaudio.load(noisy_paths[0])\n",
        "    test_tensor = test_waveform.unsqueeze(0).cuda()  # shape: (1, 1, T)\n",
        "    denoised_tensor = denoiser(test_tensor).squeeze().cpu()\n",
        "\n",
        "import IPython.display as ipd\n",
        "print(\"🔊 Noisy input:\")\n",
        "ipd.display(ipd.Audio(test_waveform.numpy(), rate=10000))\n",
        "\n",
        "print(\"🔊 Denoised output:\")\n",
        "ipd.display(ipd.Audio(denoised_tensor.numpy(), rate=10000))"
      ],
      "metadata": {
        "colab": {
          "base_uri": "https://localhost:8080/",
          "height": 144
        },
        "id": "LSnND8kBMGc0",
        "outputId": "44476404-7882-48ea-cdbc-bb3ef8caa5ed"
      },
      "id": "LSnND8kBMGc0",
      "execution_count": 45,
      "outputs": [
        {
          "output_type": "stream",
          "name": "stdout",
          "text": [
            "🔊 Noisy input:\n"
          ]
        },
        {
          "output_type": "display_data",
          "data": {
            "text/plain": [
              "<IPython.lib.display.Audio object>"
            ],
            "text/html": [
              "\n",
              "                <audio  controls=\"controls\" >\n",
              "                    <source src=\"data:audio/wav;base64,UklGRmQyAQBXQVZFZm10IBAAAAABAAEAECcAACBOAAACABAAZGF0YUAyAQA68xH3+f6a/4b3zvW/9FsGxAmFAjH8VftqBkIMV/0S+GX9qABkCA0K1AB8ACwBsP9vA/UGGgeR/ef5AP95B/cJdwTFANIJog2xAyQLaxTeEIoWaRCQCSMWGR0JD0wFcgcvEpoZpBE9EJ0SwBrZIIMXzxvkJakk0B39HnkTERHUFwUV7BtCGE8VVRQNFbcYShoRHDEgBB9xHUoa6iM/K34m4SCGHF0gkCtHLG8lqCOEJAopmC2CLbIoLx7lG9UljikYJ8Qh0B3qIyYmyh+XH9EffSVNKh8nIiBoJg8xqTFXL6YrxS7bL/8t7ys7MWkzSzJ3J+cenywyOm8+5DEJJ1QpHC3AMosv6iPvHxwiTR/DH/chJxwDHXcn1SUDHTEhGh5tIyUw6CydKS0mAymsKjArdzLPMuMw7infKR4xUTCnLsEoyR22ImAm7CY7JMAbNhwOGA4X/R/pIiEeNx49HAAZ8iSEJMIepyJRJbEmQiRUHhoeVB09HHkfNRt8GDcebxo9HCAdyxVmF/IZFxrjGEcVaxObGmwhhhsrFkEXpRIeGpcfqBhmDEYTuBmvF0oa0ROMGVobvRZ+G+gggB1aHJsaXxhZGt8dkRa5D6sQnBw2HWMS0Qb6ArsGbgy6EU4JjgXsD1AMHg0/E0MCngieE6USKBLAD8YMIgmyEPgKZv5BCxAPFg3BEGX8vv5OCU0GngesBm8D2AeWBpoNmAkJA6kBsQI0Du4SKQfB+PkAPAP7BKkBxfI7AdYP2QgQA3v9zf4l/8IHWwaS/g//Mv12ArsG7QS7+bH1IfrKBzwPvf0a+sn4G++s+XQLCALW6pDvtv35/uv03erz6h/2JwX//Avua+4N/cgEggkfA3/4+/ZR/+cGXAdfABj38PGMAk4IHwMp+5Tq2ftt/uf6m/Vz7+PzeOzv45Hleu889XTx++t36j7tXPpH/PbuLutK6QPtyPYZ+erymujl68PuCvdG+r3w1Odo6jjvYes97Jvpzuk86W3m8ugi47PhveU/40jml+PD48zmmOWi6OrmL+Bt24/iR+QJ3gHe19+l4oToVuQF2F/bvOQJ3/bXNuCe40bjOOP42vDZQuhN4iTbZeWi0YrOPuKW1R/Txds/yxzO8NlS0pTTUNtG1ijWKtix0fDYgOJR3CLXQ9LI0/jaEN4m0g7PZs8D1bfbwNO50njU79fK1svYGtab0SrNXMr91gvWzM4dz5rQENO81+LO38mtzGHSG9iF0WPKs8kC1L3aAtMMy9XRetgd2/DYCNHDzNfUyteL0CjVYdKx0jjXgNbg1j7V+dAI0T/X19Rj1qPTaspn0V/QjNEr2z/XPtZC0EvTnNNi1evdytav2lHdatZQ2gPhxtxb4Mbcc9h44MTliuZR3ZDY3NDk3Wfc489G1xjTxdv84RbcEN403eHkaOl676PqrOEE4tvmAPSW+d726+lJ26jzZv4y8rXwZvLt7DfunOsT7ivyRe2f70XtbPDD7lvsaeum7xvv+fON9kvqYuwW9MjryPez+C73mPy1+4b3j/mT/1b8cggECBj3w/t1/077R/tw9/H9PwdSA4738PDG8yUBuAJw9m70dPF/7B3+NQQ2BccC//0FCZ4HEgaWB9T+YgUREB4Ntwz2CAEDDgxsFQMROAnN/3wAIgmKCo4FZgDyATAIgQh4BWEDHwNsCrEOJAwTCHkGKwuQFDATlA/MCjcGFg3xF8oTSg6WBgQHrxdlFhYNjxM+EgMRDxnoFHsW3Bi9FrwU4RRYGJcUdBbfErsTgRQUFUgXzBbvE24NuxI/FEkYLhukEaQRWQ5ZDqUT5xPIG04gJhtgGbUhyyCUG8Mg0iAdJLcvSibIG84amiTzMmgm7hIbFEolkSGwGFsSbw/MItwkrxf9Eu4dMSHfHU8WGBDCHkom0R9zIO0czBdLJ3EpESilKr4jhSZQL64tCyr6JYsksykyLhcmChxcK/ctRCfLIPUeoSM3KkEuLylNKvgu7SieH6wefiauLL0tNinvIA4jLykVL3E0ry9nJRIp2SuzKfEuOCyBIDkuEjb0KJwnDCtfMPY25TMZKdYmcy2dNA8xgCrnKgcvLTHwLMAmfyiFMaEwoiVjHoAqgy4sMOUyTiyYLeAqISqFMWI0xzGYLVYtVi3BM7cwkCCJIDwnMS1GKqklbiQjIn0lCSeBIAQfUxxtIoYnViGBIEkkOyWKIpgh9BzpIRkpyR1UHXgdFhkUIRIebRa4GVIaYBnUGAEa1BdFEqcVhhwlGVcWjBlHFAYWxhncGBMUCxIjFSIUORadEUkMxw8tGswWKwtVCLsHSAt+D7UJfAv+CWQIKgkjCuILBAhMBZsDhQP3+zn86/87An4DLQOf/P35ifyzBZYGXwFr+tP8xwJ6CLAMDf2M9Mv77AP7A20Acvog98v8cfn09oL8L/mB+33/jfai9TT14fCd+GP5LPTL793qeu8T7/7wqeiE53rvF+ri5mjq4vHE8XTxJum841bwaPVt8nPvp/BG7jfuROub6j3shekW6HTm6+h57tTnDNcq2MXm6fBv6lzibds34vvqtO5y4tDV3d6565btx+l54S3dvOMG5vzh7uFN4vHmaOoG5dbTmdvM5rbmmOTF21fb2OKY5VPgDdmn2XXb3d3T2UbXEdQJ09nXttmY2SrY09m22s3cH96s1anRp9pw31rft9ue1vDZzt0n35XUI85A2Tjj1+D11VDP3tMz2wbZtNaZz4vP5tRV11TWadRh01HRtNc413DTSc+T0cjT+dAdz8zO3NDG0KTU1dGmzHnLWND01IPbZc4AxTPPlNIM2LrVZ9HQ1DfhZNhq1h3PEMcg1H7eVNWM0VjQu9bL2IvQIsyYzcDePuF93GPLSMJS08TZyNP6xVLGAdIc2m/ejtVoxjPQSNqKzmzNFM080pjZ2NbMzpnPodv11dLMi9C01qHbkdol0cjHJtL/2RPXS9JXzkbK2s1h0qPTd9NpyNjJpNWK2U3W5NJlzfDZeuTj27/dVNYJ0t3d9NNS3k3LBbTQ7AblccmD2jXHjNH17N7UMs4l3DDX99h+3hnVwNMW52Phq9Qy2SfUj+HK1nDfpOCz4DPbKeNw9kfYxtCW1QTjSefv46PS29qL507j09q01rjdM9xc4szldum872ngE9dQ2gHp3epX5onviuU652DdBfzO6AzAYd9q7RYBEvh54v/Z0e2f+3b13+317JnmL/m3AM7pFAkvBnjsevtI8UjxyQVpBQL3Me/Q99UB/Qbq/sf1K/2EAYYEzwQQA4v/9fg8A2wKjgX5APEAaAOHBvwFQf5ACtMK3fV8C7EOvwKSC4ceT/3A9c0M6gtYGbwUOfyC/PINUQ3hFeUQrwBxBrMRMBMTH60ImPzEOGcwMhbzA0ELDhcPMUctMxjuBm4N1zRwKFka+xA6FyUlJyhiHbAM9RLaITojbRccCtAd5CYAJJoN9wllLaAiIiCPHp4fpixgJagj7h0MLFozTy2oL2oqHiaJLB0wSC41MmYjfSSbJl4u3zUoKlImLymtK4MuTCj0M38oGSlsOL4vlzfbL9UwQzKAQcpDoDroOIMvJjL8QOhDKjhFNIg3Fz1sRYBBpzmsNps9VjiYOWNC/jefOF45lT/BQFI+j0GhPB8+9kPMOqY3BzvEObxEmERhP9E29jftSxc9OzHwRAVcSlRpQPsykzAmVVhf/UELKmI1iU+yVvdPG0QJPidMBlFARPs+KkVSVdlPQki0Qno33DtzUElSOUVlOaE8sEhoVslMdj1wP85Uk2DjR2Q49jfhUI5Xt1NHRMQ5HEV5TrNNh0z0S3c+bEVXUY1K8kfyR0hGBlHDQhFL11cDTdxUwUxfR6FTwljcSDZM30DQQNNQdVI1P3o4ikXASudNQERJPJc3oUcDTP5ENUrdPgVDv0gwQtVU9VgfSqFHET+vRpZNP0MiODY0IDRnPHFBY0ItMm0uIjjqOsw6EjbIJygpFS+9LggxdCLIKMk1fjLQKRUjHiUMLIswySnbI5okGh9rILEmrR9iHdQYQRbVGbQftSzjI+4d6RVLD9wYPh1+J+oYOBTM/WkQ5DEwE1AAX/9f//gK8BVLDyj5NOkV/ZsPawf9BwAAgO2q9bf/K/199Cb1CPXA6kT3UvaA7YftTe7L8JvqifCl7XvlQPHr6Szn/eLH3i3qmugR4B3cFNgQ0rzY2uWv2wvKCtWM0RDeaN4X0SLMRMh/1NjVld+T0QfQJ711rM3PAd0p18bFlqccwqjmeNWBv66pr7eL3APhq7ynqgOytMs31hzCoa3DqDK2W8lTyGuzK6vRsl+4VrZ5s1uxl7Rjsp2yqKuGsDO4grUTs0KtKqocqpi126v9v5qs9JhVtP61A70krFyoD64krEi2VLKftTOtnaaftdW58LV5p0uku7OFrxyrU6WarI+zIrWIqNKoe7Zztca4Qq1tq7+uUa00uiu3yqd6qGmxCrGrsIqrBalBqyex/bLiq16qw7P2tIeycbF/se+zCLrruW6sYK6ttOO4b7r9s+uuwK+AvivC4sK2t5CoLa/vv6jEG8HIsFuxBsI+yXfHuLnFt+/AgcvRy7q9OrggvLPJpNRNyn+8ZsNv0QzXicwMwMbFZs+F0hXOeMjLzczZMdiXzOzTAtOoz7/RjdJ610jan9iY2aTVytfr3bLfg+YC68Xm8OTm4XfrluIy5Sfsvucc5fveXuW56sboKuXs3kTr4fuM6HLj2e5I8aX6z/YD7Nb1Bv0u97/0OfFU+Oz13PSd+e34l/rdAicEqQH4/cr6V/1xBbYKfAAl/+gJpwpJDBkGGgcqCSEGpQdjE4UPcgiwDSESIBHvFG8OGginCnoUzBc3E5QO2golDZgW4hZBFhUW7RDUFwUgFSKGGwoc8BWwGCkg5x8jInIftSAMIDkipyIUIVInqibxIlwfqxyOKeAraimUJrglLTIaNuswOi/mNVQ1pTauOKEw2y9GNxU6/zmEPAs21TGCOAk/MTizNa86IzkPPfVAmjwIPWk/w0JIRbNBT0VBRjVKNUo3QWNBvkcBSWRPeU37SrJLR1CaVGVR21FlUAZRuFXkVZ1YNFT9TYxJ6E9oYnhkP1sNUN5Xvl4tYPdc/1EeVSla71v/UdtRW0y9UHBXqFP2WudZtlGPWhhjPGEAX+9acFbtV8plp2k+ZB9iLWCfXLRafmGNVkJTqV9RYFxZL1hzT45M0FjSWzRVmkdeUYtfOVA4T4tSI1FXXSVfcVjIV3Nbvl7IYiVgL1icVw5eUmIJYRNb3lZSVndWw1oSWQVPxke/SHFNM1LLTwxE7D4xRIZLTU3LRL1F01B1UstPjEg9TEtWvlJlUY1KNEmlTTFQ2U5fRwNAZjtjQjdCmjwyOrM0UDoCP9w8BDdeOak8dDlqQYw91jJ7OT83pTbKNn8z+jH3LRE0tjkdL/Euaik+KiIrHye3JG8lziW0Klwqah0pH+sZ9BvuKZ8hQhnXHIMXtSF9JLYX7hKFD5gVcyGGHCUNpgnODoIVKxdvD90PpBE/FO4S6w2wDF4KeBEkDAYL9gdu/18BDQplCoEIGQaJ/Kv4//1uAU4INQM++QT63/jD+30CUP5T93/3L/ml+lcA0PeM9br3JfSf+9v9+vT370fwCPQY9lL1dPIc8VX6Ov7G9E/w/vA79G7zBfCl7TLx+vTs6qTgZeXi5rfnk+mi3YXdMONY6NDsfelP5ejkougE7g7zaOkk5vzsz+pC5zjkd96T3SffwN562FzXH97r3AzXtdje0+zSHNrt36PeE9c807jR/9rI34bf9NNa1NjVC9YT1xnVyNPg1kLc/NRv0VPUAd073MnVsdKCzSPNcdWH1SnL4cxD0rTLtMv7x0vHcNR41DTG7Md0zjHNddC1zVTKK84Qx5nDJdAP0KfNTsy3w1fDCMYQxtzFOcINwWO+/8LcxHe83bqHvU/CK8MSvsW3ULcRvdm/mrlcs2W2qrtEu/i30bNuuBi8lb1vurC5jLpmuIC+eb8Ts8S2m7oduJy7h7KZq/qu9KR+ozGpgqoFqWmkWaNlqu+oCaORn7egrKdeqzqrUKzlpDCn+q5dqZeo/afqoOalr5/Imc+j76hNp+Wk7Zltn/ep+aEcn+icApk+mlihr5/BmUWar5RZlx6iVp4MnLafQZQqnb22YpqUjJqVFaBqpx+kY5sPltqd2Kasp3OeQ5bTni2joaB4pdyWLZfXpT+oEKOInDaZNaPNrdimrJqwltOe1aGIqH+kN5uHmjGdBp8Xos2hzZU0l7mkGaa9nzaZspl3oxSqVqoDpc+kYqU8r3evW6Y9pd2jkKmorMSqRKRuoXimpKX6oh6inpyvoM+kKKaoq4WjeKUcqy2uk64Qr4K16LXjuGy2Wa+JtPW9CLn9sxe6Sawctz28uaPmpsyqL7FCuGa3jbCssmivSq7Ut2C55bsOxNm/WLmGu/K59b1IwrO+cLwFwC7I0sxQxDu5l78IxerEp8H+wCzFisK2wqjDScNQw3DInckbzDXHlsrW0gTXv9DCyfHPy80Vz2/S7NOu2BfdudIhypvRstPi2bHdl9dg0Z/YXOPb2l7Z+dv53IDhh+Fk2K7ZKOL529fUXdhX2v/ZP+Po5KLdzNpb1cHg++r764Dtb+mg5VLp5esK7Anr5uza8YHvmfIe9EfwTPgp+2/1Cvf69Rf1s/nu+VX7w/r79vz3XfxXAOwDg/3X+Bn58QD5/2z8pvue+jv/+f6bAxEF+wR3AzwDBgrbC/sEPgYADLEPaxSND8QKzQylE9UZcxTJEXgRwRHaFt4bkhh7CkgLxhgkF+MYQxo/E8sU2B2PHiwYShpqHqchxSOPH4kgVCl0Lu4pmyYKKBorYigULZMxHC1nJdsjpiwrL9UxLTFUKekt1zT8NFkyrDW7Nj414Db9NhcycDPiOeA3Sj1mOnw6LT1WOdw8jkCBQihBgEEiRA5HPUwgS+1LpU0nTI9OU0u0TqhS4U95TcJNpU6lTa1PhUk0SXpPdlWtT3BKWkv/Uflf/VlCVKRMkVArXWNZOFsDWCFNaFZ7XeZXK13mV0ZaTlvoW59b2128ZrlhaGJvYBpmrGSxYJRiNGAQYVpjBGbsYiReVFiwVCNoUm0rXlZcy1yOZL5q+WqFYSReKmhKYHBjDGayY/dnWWBsXEtisWHSZh1rlWOFYI1iJGrlbaBoQ2HWYoVhN2V7aIhmS2EVXklfUF7IYr1cFV4tYcBhFGc1YiJnDmqJZ8NmLWAEZaZnpGOWZdtpcmZoYVxmK2lGZiBkkl4wWr9gUWBWXCxfQV7nWrtZ+1ZNWQVcAF/FXcBWh1jLUEZZt16wVOVW6lKITqtXXVtYU1pXo1a2Uf9RDVHiUmpZulevUTNTCVbQV0FREk0LTQ5Sek8ISOhDdEUeSONHcEoWR8BKTU71QeBD8EUNRU5ELEdoSspChT4ENr46IU6nUJI7zC4HLxY7DUVeOgsqsylFNZc30jjuNcoq/yI9NBk1KDbTLjsloiUCJyQvojHsJksbLx1oJropviN3G4EUDhjwIW0i4xiPE8sUoxuyHJkXMRSHEUoaZRUnEd8SAxLMCw4LKws+BvYI+g51DKn/UP6oAEwF9ATIBFgBt//UAGv75PX091z6xvPm9yP8uvdg9WPuF+o/7yz03vbc8wDz1ObT5Wfol+O15O/jLd424PnnqOdR6NPa89Ga0ErdPd9j1mXZ69FrzNDUUNrh2GDR38nhze/XRtfKy1jFosaRzkjOncntyEXJZMxK0WXNn8CPvpLERstTyAG6SrksuCPCfcWrvce68rmiufnEtL9hr2OztbXqt9S4d68DpUmtd7tFviq2QavgqC2u8rksubuz6612rge4ALgerc+jBKgTs5+0wqceos6uwbwhssOch5o1rzy6nqfMn/yaAJWVvQ/FfaI+mnGlLrApwIe+u6eypC+yabABr0az7aXdormwBrdNskSkUKArt/azDaqSrFGiILGjvBu0FatQqyS4LLgeuoizaK9Fshq/u79bshCvaLvkxuzG/b72tCm/psxUyk7ATL30vErGNsjWxvjC5byqxovE5Ma3z+TGPLqPy3vZ8do73C3GrcD42e/jf+D21s3Q19Tp2i3ekdrg1yzctuaO4OTd2uU445vpFfKH7BTkt+fx8nLuGu406JHln++F6pnmx+nB7C73TPeC8Xb0C/kJA5f7CQMpBxr66wHaCRT8/B0B9TbVByMjFiUC2frL/OAIHhqLAb0hIy4Q9rYKUAyzEqImeR4+BnQKyxURHK4hJRlXF3Ed8xpmF3Yajx/3IeUnNihJJDQmryOcKCcomiT0J+4pti7pLX4mEilpNBI1nyzYKvQzGzjYNl4u8C2eK4YzqzRBLvYrLTI8Jj42o2E4ILooVjmTPGlMZjv6MXc/S0tRSEk8pjc+QUdEKkTlP0A4Fz6SRjBOyEtQOiI4uUoIVO5lMSH5MKJgQ2EgWJI7zTspTllhUFNdQ7tBo0sqXFVPSEY4Q2hJTFfYWWZS1UgRSxVS8VFaVvZO+kmwU1FU6UXCTTtUq0wXSSJDmkftTMdVr1LNRzw+k0jpUUlTJFJpTDlFY02kTDlQSlW0TsFLnEsmSYFPdlX6SWZGMUR3S3RdalmVTABI1EeHTQJKCEmXQ/ZCj053SiU9+TthPstEE04uSmtCGUxdUK5QpU3GR71FUEdsUPNJtELsPsA+cUDNO8Q5EErRQSg1lTP/LpM8s0GdNcoqh0ECP3E1jD1oMio40ULtP8Y71TwfMtM5okkNRbE+KjgtMso2W0B3Pv8tjTK2Oo0yzzMOL0MxQDkzMHgpDS1OKyYygDXHJsQhICnpLZIvqzOsKk8tFjBVK8E0wTMjIp0e7CfuKngoVxafFTkiJSQvHdcQDBQ5Fnkf3hypGQAZuxPtHOggeR4mGp0R9xRdINwYERGeE0AVCBreHEwR7wiMDfgX6RZHFR4ZQw/CEtYPOgwDEqEMvQpNB0kBcQUdDMcDrfv09gL3df8wB7oFYPXL8Kb7iAhLBIP93vay9poB6/8L+ovzxvOJ/AD/UfSf773x3+zh8Kr11vW/9P7vRu4y8ev0BfAc5rzkge+f8AvtM+eC2Ivbn/DL8C3pO90v1YHjLPRF7Q/cfdyA4cbnPeum2K7ZteSb3VHdB9sc2iHh+OU31kncV9pJ20Ha2NZ822HSfNv32L/Rvc71ySnM3dJq1gbOGsp6zPfMUdH3zWvMx8Zjyw7P/csYxyTEGspry4jLr88NzlLHusk4zGHH8tCSz2/GjMWLwybG/Mn6xSXFe8LCvnG+Eb3UxL3BY75Uvk+2ar6YwYO3nLt2xSnLu8rJvqG4c8EJx/bL1MOmwCe9i8PzxjnBwb1RudW5wb1Xw6W/98HCvuq4sLjXvL3B578xwO28CLowv/7AL730vNW5jbuIv1fC1sa2wgO987rIvJTHaMeev5a+CLmsvj29xLbLtQW0MbRztSiywrK4una6Drhmt4u4eb8IxcXCBsLmvaW+J7yUu1q8xrlgugOxs7EEs32uKbMeurSzM6xrs2m8MsLFt0CpEbG5vA3CT8EitA64UrtUvhm+nbLkroawl7RHwVDDhrtCuXa57r7iwq3AhryDt060KbPsu77Dz7v+tPGr4LM4wNe8hrDTqsOzgL62wnG9e7YnsRG8BL+ouPG3rLI7ueu5QLautYq2PbwgvfS8hLmot/K4uLkzw5HCUMRWwUy95bzJvdXF08L4t223srv/wbrINr1FvRO/d7vxwz29hryQwHi98cJQxMK++rq7voa7yb05wvDBabwhvtG/1MTIyBDGR8HQveLC2MkvyQ3CMsJQxGDFmsQzxH/I5siaxdvCL8mfzXLL9MiGyG3PnNOi0drNhsiXy+7VJNsdz8jHfMRFyXPYBtoK1enNmc7B1EDZbtys1hPLbtAB3czlB9xu0OPQst8F5P/Z/tf21nPkheqm5Hjgr9vk3RriDuaj6rblad8Z4KLpHvSV67TiF+rD7//xSPKf73vwJvZR/y0C9fiz+PT2PvnHA7T6APSu8SPwWPRt/bL31vYF/KX5yfnX+Lz7IgiaDbsGqgNLD9QYHBYwB9cERRLZE90O9QYvBo8HaREOCx3/hAGiDf0TBwwkC7YLKRRPFjQObwIpB10VrRPEFYMXEA6+DPkYGh8nHGsUKhWkHREo3ynrJWgnHSM4IJAgbiRiKPEjhhy2FiEfFSO+I/0eABg1Gz4ech8+HsMgyyFUHZ0eNx+AHj4ppy0DKRclMyQMK0Y3oDm9LsIqnipBLi80zzIGLpYp9CfmKGEy2SsqLfcg4RR2GskdGTUfM8wXFRf4Ihk1LjMXJv0f1iaANi818S+7KsUjVSArL+42+S9oJwEmwikdMOUzvyU3Hn0kcy2JLYQwLSbGJAUsGioCKOsxRy2hGH0ZOCA0JuUnjx+wGUUexiSbJa4sySm6HXgchx7zJng0bS48GxUXZiNMKXMhKR8fG3Mh4SwKKRIexhnRElEZhjMzMD4eBBNKGRMrVDXVJGsUnBslJactCSfcGdccUSTHJmEboRggHXgc/iBZGkcVMB97IlQpjilOIPIYpyEQJhcmTitBI8kSxxojIf0fKR+9Fo8S+RiyHPIYCxPlEMgbcBzJHncnjh2wGbQfGCciK/0qeCgGImkcOSGzHpMZLx2AHQ8ZXxiqGh0YZgu2C38c7RywGIIVzg5KGv0etB+bGrwUTB1vJtEeQhlPFeEUCh08J0chaxMPGfYfRh/oIKsciwzcDVQd1xxNEncEKwDfEqUf4RUuBK78fADOGjUbPQV3BKALYxLlD7QH+wQTCKYUZRV7CvsE7gdFElsRFw5CAYMAOAgsDFAMoAoH/iX0OAmTDYIKGfgG8mP56gsiCLL23PM999AFygev/mr52frF/vYHvAn5ALTuF/UXAhIGLwYa7lLp7fjfBuQOX/505ZjkagaPB6/9PesX6ij4hPTd9XnuruSA7Vbwpe7P9gTuLery6B/r3+3O6SPxh+wD7PvrR+/g7qjnbudH5Ejmeu+a6ODjuev+44jiHPEV5rPhLuv+8MbzL+zY4iXdGuKw5zjvuOhx4QrgO91v6cH3xeYT1/ncOtp15wPsL+FY3D3gTuRF4ejjs+HF2kLcBOP/5dfgVeNS3nffCOmn5RHr1OZb4JHaruRE67Php9lk2ObgJumn5RvkKeNE36/mDORI5mjp9uL63Vzi7eyE5+Hk+OYs6M/rq+zO6CDsee5F7J3sj+267HDrTOw06dbqhOjU5zXqz+pD3r3aVOJZ6p/vuOm74SvmTu+18H3pS96/6QD0MvHo79Lk7uJ364z0UvXX6+DiReHX63zzeOzQ7BXyHPLR7ffv4O4A83/3dPHU87fzE++u8CzzT/C49Bn59fnD+/v2EPbG80z4mf7q/pr/ffRQ84L88gHxAP77MfzXBFECl/uB+o/53QPN/8X9df7b/ev/NwboCfYIwge+ACIJxg2TAS8FVgkkDOUPbQt0CkgLeBFmF8QWow8JD+gUYBrYHnsW8QuIE4Adlh4jIhAbUBizHnEdjBoDKVIy8hivC7MRQhj9Kv8t4SCDF1Mc9ipTKDktJSXQHdAoBy+QLL0uUSSnISkrtCsoKYksAigPJbQrtCunLTswmzEPMRk1xS/NL4Y/vDeiMWsr4i5bNDg4RjeFMhEoPShcNks+Hj15Nhk1zj3zPew+4EL7Sqg7HzNwP29JkkdHRAZGyUD2Q/BE+0u/SAVDGD9BOiJDy0SkQLBIV1KFSbVEHUerTKtMeU0OR/RLrU9bWMhKWDvca59nv0hPRW5IuFVNZUhdpUKUSqpiRlrkYOhbMURjTZBbpFcJVoRIMUMpT0NVK1EdUqVNgU8PXyxfQlQaWZVXB168ZyBjOFtdXEBcE1toVWtOuEitTnFYJmEaWcxRDE/UUrxnS2LpURhWj06sWIVsdlQ2S5dOE080VRVeREtmL1hHO1SzWP5EwTPJQLtNpk+FVQNMtjnISsFLAktyTphE3T0DQDhPK0ZvPhg/ozPJNYFDw0MXPcY8kENZSUFGwUB7LQExVkWbPs8+QS6AHqYsijn4OsorhSY9KC4zajYxLeslzSMzMBQtBi3rJGMeqib0KMkpRSnSIDcewytHLBcmRByQFKUT0Bz9E5wQCRC4DiccERwwE5sadg6eCIcF3wbGJTki/giw/7QIbw9xEXkHRfiH+If5+f4h+WP6ff9J/xn5svcz/tv9fQIO/ib2Eu2P+Q8BKvzV9H3oWel7/Gz8puOX1z3gxvQ89kXt8OSV31TtjPSY5Cnjs+0i7wPs2uV93bHdDOQc5YnkFOSr6wDnbduA1pLPrNb94kvfCdMMzFrTAd2i3RrXtMsB0vHa6tso1kfMjcczz8/T39UB0WPKYskD1U/Ze827yhvN8tC40W7Qt9AP0UPSFM1UycXPUM9cyqvI/MgYxyLLaMYbwC3Ge8KeyunNZ8V+xjnCvsNcy97IuMX4w+rDlMb6xufLwsqExIPDXsJjy0PGXsKbxhfG/MkRyBrKG8CNu4a7hrvAx9fIJMTpwRi8LrwCyHrMjcf4wqy+lsnMzmbPM8RzwD7JNNGU0wTKZbZzwRLVjdJGyuG1isKly926u7PtsFfCO9BC0BK+CLrjxLHR8c/SwMW3W7GT0CHhS9M4y7O+ocRXz6TUGsv9vgDEJ8h/1IvQ5buzvafNg87qxIC+ubxIzpjBYbvlvPq5y8AexXvC8sU5wpy7LMVXwr3BxcOJwJbKJtMUwcC76sMx2BnV6c1Wwca5GsvOxqO8LbpKuUPGc83cxHy4oLY2vb3Cc8Ejtha5h77+wJfAZcGAvu+/KsEOw9HKdM5U1pzUmM2bxlXMmc7s07HSPLsLv2LImsXUxCC9bLUnvVW/7bw5wqDCfsaXzBDG57/sx2jTVcynwlHFx8Y/y0nQ/MmAynrM4c1F1RfRw8spywjR9NMA0E/Ne9oB0k3LqtKi0arSQM0n1MrKWtOj34/Wxc+61PbW/da33DLO982/3fvee9nG3MfSEtXo5MbcUt6y31Hdk9x05mfcp9kP3Vrf3fUZ7GLU/tfz6Uz3Zuca19vaXeSE51jo2thn6OvpJukw7urn5Oia6LnqHPGN9ibqLOdv6kbuPvmy9oXpq+zl6270O/Tw8VDzW+3R7svv/frf+PX5y+9I8jn8YvgY9/DxXO4T7qbvVPiw/5X3EPUO8t72qf9l/Qf+Y/qO9/H+GQVhA5IA1QJvApn9VPkXApAJVgolATP+wgaXCNAFR/sm9oUD8gx9Ahr66PssAQYLbQvNAbL2SQAzDN8GhwV1AGACCxN9GSQMuAKNBC8S/BzDE+wDqQLZFF0hABmMDvEL8gwLE5AUtwwmDqwS1xHBEakNDw28FCARmQtCDHUM+hoEH9ESpwqEDVUUOiM5IiES4gszDJsa2SCKFvoNzg4/E9Yb4iLmHZYdfBeNDw0ViB9zILgZ/RM5FfEiECcTH7AY/BHGGIwlAif1Hc0koSQVIhMfaBvmHZ8g7yAhEyohKyJlIm0j8hgHJIsj6yX+KzIiIiDbIuce3SZzIDwnCTKNJ18kwCb7JzkupizvH5Ml4DftNMMrbCF3J8UvHTCnLXkfJSS8LL8w9DP2KuwP0itqNoMu1TGWHukhLTGrNBYw6S1lLsstMi7PMw0uyCc3Kls0azeDLgwsaCYULM8/1T1XL28m6Cz5POdCADxcKhgo0jidQFkmRDPeM4sjCCbsG3YxGTQAJBkpHC7PM4UxtRWTGZg5TDVaJ2Qg1xzSK3czailrIHIfRCccLkEuOSKyHCUl2yOtHwglnyHmHRUiIyG1IS8p1SQoHfQbfRnmHDkiRR4cFooWsBivI8Ui3BjqF10VSSSnIgoc/BzsGgockCA3HkIYShkCG4QZrR9MHUEWLxGIExwWWhAZEkkMVwt5E3QKBgoSEr0KkAgoEhMTcAQMCfcUsxEtD9wMzwQhEiUZCA13BOMBswVcCKH/1QHbACEG2AeL/kH+bQDCBjYFPQRB/ULz7vkPAo0ESwRl/Nn61P5X/bEC4Ppi+Ij6EPWe7rPttvEV8mL4efpz77Dooukv7K3v//GC8OjkW+G323PkXO5f5+jj198c2eDWMtkB3gviiONU4WngFOTn4qPf690O20Lc3d6l4ULcKNXxzyTPc9gm3lXXndXt1LHRmdp41UzUZMxVzDXT4Na92Z/NfMMgya/b0dbpzRvMCMZZ0nvaAtQ70QDQtMv00zrb0NQ+1WLJpMgR1ETTr859xZvGZc7wzZHNj8q30ArUXcz1yYDJKMldzYjLp872yi/JMs7z0R/TTMitwHPMXdj81FTVdM43vsG93dL03+TdXc3bwsDHPta95WjSWcb2yqnQsdLg1xLViMsG2dvO2sGXzBzOAtNlzVTJyssC1HfT79e61Z7Kwspmz6bYUdDfyXfHMcw21abYbM14yCLL0sxD0h3PrsF2xXzP/NT70xvNfsbeyCzQgNaI1mHSgcsgyMbQb96Y2aTUkc3gy3TaMeQ94E/ZJdCq06DaYuDF25HaneEV2zjkQ9700yrY6Ni82NPZ+Nqp3LHe0ODV3JPRddu74j7hleAq2enapeHd6qvgjtVn3K3jLOiu5XTaH96d4ZXgOeWe4wbmn+9R6E/l1Ofo5Gjqf+sA5+TpOua74TjkQ+mF6ZvqoeeZ5p/wFuhW8LX8n/Cg8THwmPE1A/fwP+5m8371HwSk+KztCPWr+Bb05/mV+JjxFvQ/+0f70/yB+r38v/8x/Dj7KwCFAiYDUQLZ+2v7zwSQCPoCQQBhA0MPbgypAbsHBgp8C08VsAxcCGgPwA8TFJUc/RNmDHwXbhgKHAsexRcOF6IaMB/NIyMhGxSEGZMkpyKKIv8hQhhWIVsphij9KtYnASYgKMgn+S8HMHstey3IKKwqKy42NeA3dTw2NHg1pECvOus8N0KxPgI/4DfBMzs8ND3VPSs6JjI6L6MySTuDOvM+xz7JNa44nUCYRF5FUUhFQTFDiUPqR7lLSUdYRy5LGD/gQyVUVU93P8BKy1wQSvFG3EelQTdNS1YORo0+xjsBSeZXV1HCTc8/JEbLUBZU41O+UqhSU0wmVvpV6lN2VXtQGFa8W8hWR0+qVQBTiU9LVjxKNkzKWmZS5Us8SidMZVEIVJdPeEzVSGFL6lP4UXRFG0+VV5pU91wXVTxJ0VpzZydjBVxEVjpSYldyZY9aWFSnURhKhFRCVDBaP04YSyxTSkmyV6xYF2CJWzVKdVMWVABTj1oFT15Re1G+U01ZbFD2ToNGp1HrX/hRY02OTCZJvVAFW+VKVkRVQ11DcU2qSUVAZEQ1SqlIBUNjQtQ72zpsRY9CET+EO7NAXkbRQf1BSDp2PWJAkER9SI0/xS9OOIZKgE00PVkmDS4iRGpNXkZoMqcigy6eQulFHj29LVQpyja2RqM/YDHBNOE4XzzNLxwtGyw0JrQq8CwEKmckhhwYGxYklCdTHB4aeR6sHfUd+iYIJsgnVCnpIXwjZSFeIpMkvCAgHOoXXRUyFoQZlRE/CJYGxg1PFdESKhXIEDgJjA5VEzIXgxfXEccDcQa5EMER2QhzCWsHsQO6Ba783gTLCXwAG/yS/jUDzQHK+tD4ifxRAd0DBwBz/I74mfL48ib2Bv0N8Pr17/tw91X7C/qw9M/2Xfvd9dD4/Pgb7ybqsenh5JbtpOyC5dDsNOkZ4QXkpuML7ZnyWeri5V3kSuml7gD0ge5g3bzYweAx8JfvI+W047bmveVs5VLpx90Y1AnfGuPD4zXewtVn0b3Zs+Eg4LbaY9aC2JfXEtVZ3W/dndV41UbXr9q92m3bHdv42RDeDNcf0gzYctY5zsXO8Nh62ArVKs1/yBjURN+q0pfMRsoxzVzXdM7IyL7EdsUm0sDTDMyYzUDNENII0RXPUM8d0A3ZTNQoyVjE1sfWxvzJ3dGAyYvDSsZRxZLEUdCa0KzKssj0yJvGkMz5zxDGn8Gcx/fB/sBZxsvAv7nOud7HANDkxgi5Xrb1vcjICsmOvYK2R8G9wQu+/sC4uTjAgMrkxmbE5Lkjtm7FpcqOyDjAyrMAuSDJQc+9wZS6wr4KvZHBicDmvZW8hrucvGi7HsaEueC0dMI2yODL0b+ouDnBEsrP0hfGHrlewl3Mvs+JzaTJJMSHyZfMuMbIx/rFZsR3x/zIyMg9vVO90MmJzA3OQ8b6uQrIz9NPzuPQZcG9wgfP+tE21BHUOMz4wjHNrtm0123Pnsvuyb3N9NO4xq/DzM7f1T7WY8pNv5PRGeFv3bnTmsWsye/Xd9/R4jvRiMqe1y3dyN+F3SjVudLS2IPbW+C22ZHOQc8m07rV9NNL0i3RyNND3eLZNdMrzsrKmNij3rLfMtqL0MDTzds83jPcdNlI2irYzNrS2BXaneBn3ZDjK9o73fnbmdv87Cjh49tE1JbVody74gfcu9YQ0oLkKvBL0s3QvNc/44HuQ+qC2bHe8OVE69DsruUo4n/gEuIV5nTm+eeT6I3fyN/i5u/uPeyg5sLiKuSx6j7tvO+x6orl8uiU6oXpbeaQ78LtOOP66ZLyK+bg4wzv//Gx6WvjUPL09jDuxufM8VjzV/Iu90z3t/OR5d0DVft08YX1jeua9Cn7UvX3/EQEG/sF/O/7R/xq+TD6mf47/9D3SvWy9tL7PQUXA1AAnfm59nv9RggIAmACYQSC/OIKfAvWA6IClQW+ACgGGAQPAocFqgMvBogI9QWDAFgMyBDfBVUHUwUJBEQEhQJVBw4L5A0pCM0B5gW7Bx8Qxw+wDN0P+QysEpoY3xKuFtoWlA/lEG4YpxVFEZEVbBVsFTgULQ43EzEVARp2GmsUExRAFdIU5BmjG7AZjh1KGegUuhzLIJkXNh3KH6gYriGzEkMPTBwxFSkUExSQFEUdKR90F2gapR+GJzYpjRuoGJgWyCg7POQmtheVEbcYaimnLWUh0hRlIV0sSyd1JOwaVB44LI0nMRXtEeoYpB26KHYa1g50F2wVnBt4HKMQJBjrJSkg9BuwGE0T1RnkJn0lUhtHFC0aHSS0KuMjCxLzD20X+BcRHOMYvhicHKAXexUVFzoYqxxFHsMTFhlMHMkdbyVgGjQZ8xqbD2AaKyOMGoASBRWMGl4WvBRBFooWRR3lG0gWwA9VE/IZcR3tHMwWvBQ4FHEeCBlVFGkRzw8AGTEUmBYfEIAGLA2KF+kVfxG5D6wG1xDSFNcR2hVHFRAOmQsgERsUGwlkCQQIlA7QEYAGgAbXBBgQPRA9EccPTxW4DnoJSg10C5cI3Q8WGO4Sqg+uCbQHlgZWCf4JOAlwBMQJjA4UCusBBwCQCWsU0RK+C3EGAwUJEFYVJAzUCwYLswW0COEJYwdyB2gOnQaaAUwRiv1l/YYQ/Qd2DfIMB/67BnkT+g4H/rP4pvs7Aj0Fxf1U+Rj3Of35/twBSQBz+8P7LP9yB8cDHvV+9Tv/AwXqC00Hkf3a/Or+6gA7Aur+Qf5R/3r7df76AvMCkwJfARcCwQSoC/MDcvpz/HH4BPpl/f36Kvzx/fz3/Pg6/mP6Tfnn+oz17/oK9+ryL/ns9q36Cfb69Yf4uvgX9bfzuvg29wr3j/pM+Mf18vRE9mX9iv0F/N724e/p8aT3NPVK9Evqm+q49ITzhfV36t/hLeke9V38Nvh96FnpSPGK8lL1x+oZ7Rb0wPXO9dzzQvNj7tjttfDp8FXv3PQF7+3r+PE16qbk++ot6hzmmudw63bpw+455YrZCesu92f0fek+4lzj/e0y8nnuWuv45Xfrc/BF7Gvu6fCk7HfrNerB6zLx0/Az50jm7esi71LqEuL45RfpvO9t8mHr5Oje6/vrbPCg8nb09+8T76ztCfbk9TPzSfOB7iP8ufai9KT3Q/Uk8zT01+u46N31Fug76PDwie8H/i/5OvNy+pn9Xv0G/Vv5dwPlAwAA8/VY89H5tfwp+qDy5+2h8zQCW/kO8vjx3vap/5wEBwFF+Q38t//xAJMBqQIWAeQCUP7L/EwFHwQSBgwIsQJJDP4Iggp3DzILugVBCzgIWwWXCJsDUQJsCZMNhwbTCpUFQf2WBvcJjhEhE6kNvgvUDIASXBOUDgsSTRJhDzMY5xLZCHwMsQ77ECESAQ5gDggN4gr8ERUX+BduGIgTbRbwFjIWwRC2FiYauQ8ZErsfCBlQF2oSkhioF5AIuhzhFLgZqBdTEWsTihZfI+EglRDWDgYXDhcjFRUXYxKuFigeAx1dFIkViRXIG68jGh8YGxkdohmiGXEeTxadEhsVBhZ8F5gVHw/qDEINhQ++GEoZKRQaH5Ij3Bh+G7seTB0GIuwaWhDpFiActSASHVUU+g49EZ0eFyVsIZAgqhpYGFMcHCK4GR0Ysx5wG7sTJhpgGp4TqBizEr8ZVB0zGP4I2wvPG/8h4SCRFiwNHw+mIOIiUBjlDyQL8Qu6HCgdIRKyEGEPDhdCGCcRMRSCFeIX8BZ4EUUSrxebGioVUBj/FZgV+BbRElEZxBUAGLYX7hJnGZgVihdZGvYTRBvKE1cLpRMJG60f6xmNELoRFRcNFYAdFBW7ErgaTBHXENwNchOPHpQbtRTvE/oNXRXfHVcWIhQSElIPNx6OHYcRfAxxEXYacBxUHZ0SXww5FTwa7h2nFRwKhQ8eGQUVLxEJD1AMIxVoD1kPzhn7D0UFihdpNPEjsfVR9GMqe0W3L8r67NJ7/btOCUpbBe/X9uKlH1hHlSgm6irZkPu5MzU+KAZc4pfvIB1DMikTdfNY86QRwCdSG80BwvkaB3sWyBsODL7+KAb1ElQS3xEgBUMCQg3lD20LrQjy/9oJ5xLvCPEAK/5jB94QxAn8+HD2CwaRCtUCtv3WA5wQTwrjAcv74fv1BrwJSf/GAdEHlQV0CloEWQLfBbkEEgbzA30BNvidBk4I4fu1+973DwG8CLwIVvwC96z5fP7uBp/8HPE29/H9ZgAZ+Y/6y/uf/P36rPk290j9E/tg9WT7twA7AT752PmY/NUCO//A9iUBNAJRAoYEDwHZ+6gAAQ4tAzDulhJ0F8v7sP8U8GX8jxKRCl38Ff22/RADYQQ995f66Qo9EXX/cu55+uIKAA1LBAX7ZfwTB8oIv//n+QT6df+vAKEAAPTh75/7AQJDAuf6pu+u8W0AcwmbA6L10/Eu9kAJrgpJ/iD40/AT+2IFYQRH/PzsPPVGCIb3SfO49Trz1vUd/wv6/e2v8nH4E/rt+PnzHPKV977+j/mQ+wT6rvzS+1fyKPjyAbD/kfGU9mr5Z//OAgzvCuwK927/Mfum70Tr/Pfb/rb9VPi28pLy0PijAxz94vKE9Oz1Ifrp/Rj2Uvbu+Tn9qf8F/Ar4h/jzAosB1+yM9Ej9mPDC7Vbxpvvx/mn3eu8F+88D8wM89dzzTvvNANz/v/S98QD0vPuZ/Yvz9fgx/Mf1OgAx/Ib3rfsG/ZsCLwbJBt/4o/Y6/pX4A/mq9VL1YQMvBZj8zukv7SP8fwQ6/jH8JvYh+gD/p/wd/vLzkO8C93P8pfob8GDp9u6V94T0NuyF6gbxGPcY9z/7S/a+85v1ofPD+woFW/jv7tD3h/l1/mv7z+sC61v5twAx++nxPOp/7Eb6nvoO8m70pfmf/Ez4GvqO+GL3vf0p+0LzyPfZ+xcDcgjq/v/xE+7K+i8GWgRa9x3z1/hZA68AY/l/91L1ZwLXBMn5YPWy9rT6EQUtAtv9W/mL/8IGJgNt/tT+p/0V/owCtwEl/9D4VPiV9y4EIQZA/ML5lfc3+m4B/QbF/qr1mPxe/UL/FwO1/I746Pt8/u340vtH/Gf0iPpG+tb1xvQz877zl/sL+dTy/u/T8AT6afeG9tD4ZPvp/bX7hPQY97b9c/vg+rr3JPKb9TT1DvNU7QDoW+zc8870Eeu25cHrd+uw9Gf0oOY471bxZO83+b4ApPfp8ZLzePevAPL/yfnB+Lj0ofMh+kr0qemx6jbsvfAO8uTp/uMm6mbzVe6r7KPqS+pC9Kr26/T69A7yyPYC91/+sQLw/C/4S/YF/K37Gfg991r2K/L17Gbyw+/s9Sf3f+w86XLukO+n8Hzzp/CA7SnudPKg8SD3yfnA9tTzX/M5/IUCkwEF+8D1avk3+WL4f/h99GH2A/jW9a3vlPU79N/sTe1u5+zqLPS+8gDnFOSQ7972TPd88tHuI/D1+KX58/XU8pLnuepb7PXsVO016jXrTOza8Xb0VvBF7cjrn+9Z9STzherH6Y3r7++j9gj0lOpS6VvtXe837mnsY+2G6y3pjOhc7rXw8vSp9GzxYevr6Fjz7/r1+QD0FPG38yD4avgk8o7sj+7y9JX4BvGj6lnpu+5U+Hf2yOvt60Dw7u1Z9UjyWOgm6qfxFPEA9NrxA+y49Vz6bvRe8sH3j/nD+jb3fvWd+cH3zvXy84z0VPgu9przzPGb9TX2D/RK9UP1wPWU9hvwy++O+Mf1fvZ99OPzh/jJ+WD1zfOK/VjzBfBP8L7zdvVR9HTxSfOj9mX8zP3a8WXlt+ez+SsAs/kD7K7kQPFA/Cv91/jo793qxfIU/IP+6PtI8nDrTu9u85T1zvUO8iLvkfBw9jz2MvHO9WDpheqq9e3s6eXD72rthepr7j7tJOfn7u3sAOhm83rvZvLm7KflIe5V7izzJvYO81bx9+9v6UPpQPGu8dnuRex26UnzS/af8I/uAutb7SbqOvKo8sTlVuSK5qzibOSF6kDkRuPB3zfi1uqV6/jl1+BJ57XvqPJb7U7jeuNq7YjuQPH06yrkP+M76BruBO406ZHlxuj27krpBeRU4tDgF+lM7DvoJOb+4xfqnewQ6iXoEexU7TXqK/Kv8grsE+4O8iLvuPRg9cDq6fCS58zlNuzb5qXt8ufQ4Nfrv/QC6wTj4OO15IvzU/fK7kjm4uVy7l3vf+w37ufuVO2388Txaevz6h/rr/Kj9qPrkfAj8FP3u/ld8Er0hPMQ6lXuj+7z9dD4y/B67xLtNve49Qrs9+8Q9c/2pfqB+xvvhPPr9Gv6M/Me6XzzjPTx8ijtge+B75fvkuaH4CbpIPdB/kr0e/F/9zf6dwQ0Akbu3ekD+AcByQVOCLr3Yeoa7uz1DfHm9/v2vfHR+tsA2vAA56ztovWdBc8Exf3T/Fb8EQTyAQgC+f4zAWkEqwTbC+AI9gcUCcUAqQJTBTsCw/pEBNoKuwdlClAAYwZbBeAHmw42BXsK1xC2ChEE0woXGrwUtgoOC1oE1g6wGeMYlA4lAlYKyxXDEy0CT/xBALcMGRLXBKQFLwX0EGkQYA1RDe/7gxaGKI8TkAhzFVMcbhkeGh0MaQUoEtcRrRNWFQMSpRIxFWYYGxX7EAIQehRRGVocgBKdESsWuxINFkUdExPSFH4aMRVXF4YQ1xCoF/gX3hyHEjQOKBKOHUUdDSHVGccPOhffHYkgcRKFD9kT1g6sEuoXMRTwFvoZCBmoGPAWrxfGGeYc4SF1JEctWDDSICsiuCUCJ2gmcyEGIjQmxSLgH9UZORZ3G1obcR3wFlUTEyADKdoh1BhyE0oa6CvGJXAcAhzTIvQnainKKqscux7RH/wd/CkNIkEW7x/JHdgekheoGFUfRByIH0EjZSJyK+cqNSfbI2AZHiXoK0Qo9SkPJU8itS0PJbsf8yYQJoMjryO4GckesigmJwsqjCZ+GiwZBSHxIi0mOyQLHxwiVCnPJ3Yl3CSkHbYiPx9HIdsjkyQXJa8imiRRGS4brSCHHa0fpBxzIbgmYyrGJEkYgxd7IpwoMCsCKNYbMRTiIsssdyesHbUVTR59JI4dIB1ZJnEeayDIG9oWPh7ZH6QdDSHVJBMgoSNfI9kgjhyJIFEkSyduJJghTR6pJR8n6hh5H9IgnBw6GPUeXyOIHzojViH7G8YYbCE8G8YYyR1JGNQYyR3CHekiVSB8GL4YIR+aJGAl7h4nHAgmziaZI+YdpRNJGPcVjhykHN8R1BjfHk4gARr3FUEW1BfcGRAb0RPbC/EXYBocFn4afxCgChkSIxWHHToYyRKfFEMP/xWLGFQS8w8vESUN1AwOCxwKoQwWDBcP5QTbAB4CyRGFD24MoAtA/PgLDhjADpMN4RUoBokUeRJlCskRHw8wCN0CzwTNAe0Ebw6XCNUBDwKMAggC0AXlBPIBewqFDjgIYwf1BtUBngg/FLANGgcSBr8BMAcIDgMFAAE1BK4K8gHzDiwNOvLCEq8LDQorC0v2Jf+gCxEQnwmPBzcH5ALRBngFpQY5CjcHXAjJBjwDkRXXEUkBxv9Q/v4I2hYWDO75kPsJA40QowNy+ov/mPyoALABtv0z/x4CyghhBL39bwP4/Sz/sP99/2T7e/2oAB3/UABU+f35LvbA9jn9Bv15+T33cfjp/ccCgfqr9/n+1QL5AaICswUDBQ8NJwUx+yn6OwIoBjUEXwFS9bP4fPMCBIcGIPhpBJX4OwICD0UFZwL2+tf4VAbwCiIIPQVW/IUDXAd/BBcDefmP+fz3mgEzAev/EvmG9y/4tv2v/Rn4gfsTCDsCGflx7QP5tAfI91DyZ+jM8l//uAJs8WngR/CG9hADnPYQ3uT1Igl3BCn6POmu5cYBExREBLTuQuhS9RMHkf3j59Plq/dd/Bn5c+/q573wW/mz+Q3xHOWH7fz3dfMJ9tHu1eiE9F3wYux08uT1UPKc6/7wi/Mf66fxqPKb6rj06/SB75LyxPFj+fv29/Cu8bvuf/cA85/wm+mi6GXwNese6FXjvua/6Rjr8+l96Anrb+k86vPpJOaV6z/uy+/i5mjpq+yh8/X4p/Cb6jLxd/Za9+/uuOi77Ujy//E86aziH+qX76Pq0uPt4LHd2uQ27MPjht/D4xDqtO5s8Rnt9u4L+eLxBO7h8P/xbvOC8Z3sHunV6E3u+umY5YnkvOPw5LDoc+TR4kPqher17VvsQeY86hHsDO8L+Qbx1+zR7aDl++sQ9uLy+efG6Ljo2vAz/rDzC+5G7kLoIe5Q807vjev+75vp0OwW87Hqyu745TLlGe3O6QvthusY92L3budi7MXyNPQ89ajmBuU479froPLQ95LyB/MO8jjvqekJ6lzulvms+Tz1WPRZ6UvrjvjT8NfsmvT+7/DxNfZp7CrwJvXJ+B/28PAe6Xfq9Pb372XwNPRv9XvwKe6g8jLyVO188n/31PMC9pfuaewE+tT+AvaR8ULz9PdXAGX9ifAS7e7tCvg5/Ufvye196fPps+yu8eT1KO0M77P4p/BI8uPz3POhAaH/6vMC9oMA+gK/Au33fvbSCO0FAP+t+jv0Xv0rAMX94v1181PsIfkBAtf3c++N6oz1kwFt/X/4Kfs7AYcFkf1N+gwJIgndAusBM/87AWMGggqu/Gb+OgzPDzAIavhb+C0DJg/qC9z0V/JVB8oIEA9nAe/7uQTb/XsKlA7aCoIKDAitCKMPmBV/EG0LvgzWDg0VUBdzFV4X7hISErsT5hHqFwMSzxCDFl4LuRBpELsSIROoC2MSRxVbEaEMjA6HEW0WjhxPFuoMzg7hFTkWfRnZE4wN+hkmGqUSmw+FDk8VKSDSFEMCdQwQGlwfFhnoCWgOkhjhIcAalRGWB7sHORV3G5IYJAysB40PNxM7DZURehRvD+8Uqhq8CQIENBmGHN8SSxAsDAkQABjdDxMIMhfyGHIIZAlRApAIhxLoCfELrwteCiH6vwGBEyYPmw9zCT/7UgPPDzcHtwHj/7X73wV3D/YH2/60B0IMiAhGCG0L2AYDBUQEaAPKCFIO6v5t/UMPiwzlBB3/yfmxAlYJ1gNc+nPvzvQAAAoFg/6J+2ACvgtpBPDxp/Bm80kACAJV+jb4Cvik+PnzIPe49D337PY79Bzx3/n9+qv4bvRZ9Wv7x/VC83H4Bfzp/FT4TPdx+fz4kfwQ9h3zavi38wP59fk09OT0yu4h7ajzIu+P7m7zqfQ37YXprvDs9V/zlev/5dDsu/ke9f/lReF+6kTrte/97YPmb+nf7dPx3ekS7Rfqu+7e907vYOih5z3sVO2l7uftFOUo4hbnlu0v7R7p1ehY6Pbus+314TXeft7j563uYOk55TvdtON26FPgD9xw31fmA+2a6GTYLOfA6qPqHOZL39DsOfBD6pXffdy85FvsyeyS5kbX09mS5xDpAOdU4STanuMZ7cTkstQ80+naveVh6mzktOLQ4EHmXuWz4NrkJ9+y3+DjFtzj57XwK+aB47nebdrD4zfubeac39jhneAm6YbrieTn4knnG+/l6wDnuuBO4xfq3uvk6ILkZONt5sntUOYZ4LfcpuTn7kzs4uU03U3hxud96WDpCepv6VPrf+x96R7oPexT65/kZueF6n3piuVq4YLlH+qj6rLrwex39qbvLeqK5Wje5fbx/arqJehC6InwA/lF7H3dSuiY8P3t/Oy35xHfIuQx8FDmbOXB7FPry+9M7GvjZudo9fTr2eM86kPpZfAZ7I/iud5E6+z1Neo658/qDubV6V/zYuB05bXvjeuV9870ZuYh4ozpc/AF8KXt+OUz54Huee2L5z3smPCM6QvtvvJz8G/qAens6nTym/Xf7K3uj+076Iju5eoN5RXmO+j37wvuEeuc66T4HfOq6mHqIeKj6yvy7fiS5nHh1vWu5f/lJPIP6CzoQ+qb6Y/iqOdp6+Diz+oj8WLsBfCl7RjrJPNA8O7tte9N7ZLzjvjl6zLxIvvP9hD1//EC9xP7FfI16gvu6fBo9gL2h+0z50TrP+6875jxlOqr6+3s5Oiz7Anr1elm8hP6AvbD75DvS/bJBlkDB/6K/XP8fP58/jH8bv8gBXP8jvgg92j2Ifpt8nn5kvNy7pz2uPXF/Wv7yPa7+qf8HwNj+Zn9A/mn/AUJtwDcAeL9Qf2n/AQHSf84+1v4of7zAr390fmB+oT/+QCDAIP9i/9f/lAAuQM5/Uv2gvyh/3T9vgBYAV38nQXuBu4HTQYAAfwF6AieCCIJQwPbABYN5gVH/CkHPgZTBMcCr/0ZBUgL5wY8A0L/KwB0C0gLQQusB+4HuRCNDw8NnQbuBywNtBMFFc8PcQVGCEQQsAzTCjkKFw+zEcgQ2wsOCysLmw6mFLgNewoQDvwR1hrIHJkXdw+CFeYc+BcXGkUSJxF/HKcWdhovHR4ZEBu2F4wZZhdmGIEUkxnkGrYX2B2UGjUbFiQvHYYQaxMpH8IqNCXgH0IYyR1YJKQoXyMvEocRah0pK7wrgyKwGfEiQC2UJ40ntyT3IK4hdST/IbAk3CTkGe4euSe8LNMtBi4xITMjGjcsO6IxYSfzJj4p8zKDOho2DzEVLxQs9SkuKIYndyf0KEQoBCsxLCos8zJcK8EopCk5IpgtDDcQMrcvcywaNz9CnUFbNGwtyjYnP789cTUAMEEuYzZkOL0ueDSKOso28TpOK2od0TbNR7xEejjpLccx/UFXRvw13DC6NXlCq0sYPzc2Rje4Pbs2aTTHPStGVUJiNWk0dz5vPS4z4SwxOA5GdUd8Oj8r/y5UQXxHYkCONME0oTwMQzFD/jjSOCc/AT6ZOk44ICk+NnND3j8aNpkuZS2YLYs73zXTOWAxxC0BMUk7vzwjOXQ5IDVsOEk7IjhtL+EsGTS6NeM7FDnnKi81xjyIN5g4vzCcKAIzHjF5KjAqIitRMNYnTy3QNN4zZzHkJvolSiZRJZkuXzDeJ3EpWiceJYksDCwuJ4oizSNEJzIuOi+qJ24khx4UIdAdiRTrGVQdIyE5ImQgHxseGgQeKB6SF0IYthc9HEAh5BrLFaMbqxxxHnkebhiAHjYcPRzbF9wYpxXBEJcUeBFyE0USXhdKGm0WaA5CDOEVHRivFyIUMRSRFRUXIhS4DYwOnBCzEtwMlga5BBoHUAyuCQQIigrqCxsJ2PnJ+BULlA4eAhcC0AXZCEgKfwV2Al4LKgrN/68A5vckAF0JiwAz/3f2PPYfA74AE/rc9I/ukvOJ/Br6m/Wv/W3+avio/p/87PXh+wX7y/Da8U36df+K/c71V/L+8H716vOz7Qby7/qP7pvq1+vm7Jv1/OwT4+DjJPPv+rD0SunD43Hs9PbI9v3tCeti7JLyoPJz71Lqp+Ut6WHrBO7P6l7mFeYQ6XXzv/Qf6lvss+EC30vrhOe/6Q7mPeCR5SrwPesK1QPVz98D7LXwUdzA0qbkGPd+9kDkkc3Ax0bWpOxh64LZ3dLF2qLoneBW2OXTo9OY2dLYjdMNzlvVyN/h5DDiEtUf09XQSc8u1NDV5NLbzzfWTeHu4tvbd9LFz1zWMNdyygfEosWq0gTW1tPC1ZnOw8zny4rOBNb5z9/JecrDzL7PKcxVy57KeMhCxC3GBc33zO7KS8d+xtzQ1tJdzBjI1cURyBPMc81wyDrEasngy+HM98zGxZzIOMt/yIXGv8XXyHPM7ci9zTjLCccLys7GAtRuxWO+g8+QzDnCdrr7vAfDKs0wywzLv8UtxjDKd8cEyi/JnMfQyGbPWtMB0qbMeMgKyYnNqM8jzknDBsK7ynLWxdoo1RTNqsY3yoXSqtPqzyjJM9A21H3Rd9I70SjVwtWm2ObUtNaT3NDVtdid1djWhNzE2BjT5dPC1TnZWd1O2MjUbNhJ3DPc3d4o4V3kP+Pt4EDkcuIb5CXoyN8J3kbjH94M40XhIOC04p/k0e4163/g0eL061H0XPrM8kr0TPi6+Gr4F+pG42jppOy98Fr26vKC/P0G6wHZ+if3wvk9BAwJWAHy9BP6jAKGBPAJzQBl/dQAHQE2+KX60/0++Nz/IQb1Bp4HuQMlAjQCCwccC/cJOgyhDC0PMheZF4MLBQnaChYNuA33Cd4QhBhxHpEh8RclDcsVqBe4GkIZQw4ADI0PzBaZF5gWYxO7E0wcaRA6C9wNExOgFq4VIRMrFqcVGxXKH1McLx1MHHEe2B0CG9IgIB1tIjoj0iDwIYAqLifaIdcohymrKIQkChz7G48fUSU/IM8blx91JP0eGyDuHYoXtB/YHqcWMxiOHRQhyBtoGzAfhCTlJ6AiyyFXIswuAzV+MnMtmSJJI1YtUSTTIcAn5xLRHoMu5h3dGuwb9Bt2JsIpRyFmI5okoiVJJDggGCg7Jb0iZCyZLjEt7CaZIh0jAykYJw4jZCu8IJghDCtjHqQp2yOVHIMviyNqKdos9ipUKUkkyBweJawqyy12JoMWbCFKJcAn/iwtJhIdSiaxJnsivySfIagjFyU7MH8ojSc7JB8blyD/IqklWij0KJMkmiTKKtUkTyLcJPgi+CIeJb0iCCVSJ1cjgR9GHxclSSS1IB0YDhjMIm4k4iLaIecezxsgHKMbcR4/H+8fyyDyGSUZihZcE7YWIR4HIyohTBzfHnAchx3lG8sU3Q7KE70VwBskI7AZPBr3IF0hnR2QFMERRxTjGFAY0xb4F5oZXRUyFxkdEyBzFasQUAygCh8Q3Q77D20WDxmAEqQFIQepDe0RHg6PB6kNfxDTFq4VeBHVDZwE4AgPDZMNtgvVDQIPkw3ODsMIYwfWD38Fv/Rv9Yn8YQSxA137Tfnc/4UC9/wsAWIFgvET740DgQflA5/7QfJ5+jsCiv2B+ib1EPba/Pr0I/Ay8Xnu/Oyl+db1U+uu5AnqT/Gq9a3uMuVV7gH1/vAJ6yrwCOiR5TTozumH7DXrhemQ5BjfXOME4w7nYeui6WriweBh38TlUd0G2oLZDdkM457ig9q019/h2OGh207Yr9uM6CjWpODd3e3fjeva2O7VVNW92svku+E73N3Sw8sB3tnjHt3S10TTUdGY2LrgnN8M2EPRld/u4hPjU+tD3TPcvtvK1h/qWt/k3W7c+cTV3BvkjtVBz13MRdXe3yLXts5fzxrXx96V37bZMtmo2wvi0+X14EveItfO3W3mz99z2ATXSdzb2xPXT9mh3MvYmOW+xPDY6vLt1G3bJtK50/jZUtMc2VDEmty/6F3YJtNYxfrRGtYj2UvSkc5A2bLTNdK71ofVVNXH0iHWStFf0LzYIcrhzf/ZrtnC1sPXwNI10m/dA+Bk2GTMKMmO1fbXyteUxkHaY+F02krdi88m06/aXOJp32XO0crv193eVNYSybTLpNR13F3YJ8gs0MrX/NUG2iPOcMe3zxPXBtk62zbUYNFi1SPZy9hb1W7QQ9FH2MXP3dHx2yXRCNF6413NVLLxzyHiGN9X2uzGS7u01pvdZ9Hc0AfPedbV0IjWTtdzzB7RZdl02d3SqdC6yWjSLd2r1DXSFtBtz8/TCtWl1lDPOc1y1szZqdAzxEfNud873J/Yks+0yjLaVOFu3HrXWdHtyG/S7NPY1uzeANzY1aHQ0NTj207jd95q1VneMdgS1urnuN0m3u3U/db45SbqQean2lXXt9yg5tvmfelZ6vfkHedl5Ynkw+667Irlld9W5Ljoqdxs5GDpzOXO6UnnTuNH8PPqUuoD7Yzpq+vx8uLyI/Eu90T3kvOL//v2P+6w8/7vA/jjAJH9SvWe7gr3lPUO8qP2UPJJ8yn6PvnB+Dr+rvxv9UX4HwT1BXgFbv/D+qkB0gjnBgsGzwOlB2QIAQL++6n/qwTT/FX7twGcBIkJQgxoA8cDQw7qDCoJhQKOBa0IfwUtD4MLcAS0CFcLZAnTCpAJ9gdiETUPtwxuDZwQYhGeE5MZ7RHBEZ8V8g3tEa8XsRptIkgXTRM3HhMgWhs8G3kSBRVXI6ch1htQF1AXXhd5HnMhsxHoCW0WpxbSFOIW7RCFD6AWnBvyGXUY+hruHcAbPRwYHGgbWBlFHVocjBotGoMWwxTrGQMdLBjTFpwbsRq0H8MfWBiHHqAiUCMXMWgmBhc8G1QdWSZVK0UdBSFwHGEbtiKfFcIelh3YHdgdvSKRLv0ftSEhH48fbyZvJqAiiiLLLMAmLieNJ9MhjCbRKroobyZvJQgmHSQ7JTQmUiYOI3UkTyIOIxIpmiTiIvkvuimHKYMuEjV4KNsvejczJPc4/jdqKlg7EjUPJDgsQC3hLa0ryyyhL3YxdS8aKrUgbiQCM2o2jDGaMEQosCWjMoo5ujQdMM8zuT/ZQ0I73jPVMbc76jraLbws3jN4NRgz0iubJYApyy16K7sqCCamK40zvTk9M0IwjTI4N6Y4Vi3XNBU6RjZ/M3o3Kzo4Nw8x/SodMNU9NT7TLRgnpitLMq86UzQ1J7wrETRfLx8ywTQ4LG0vdDpbNL8w6i8CM6s0ODjEOdM5R0NYPKgvbzHoOBQ5Hz4qOCApNScEN9M5RTTpLpgsbjDmNF46GTRvMm0uVi0+NkEuBCp8L8YwFS7nKnEpFCxpNCI36S0FLJIv1zPlM0MyvzHoK6w25jVqNWI1tzAFLFAveTaANnU7wDKRLSMtLykYKHcn3yknKGUhjRuGJ1kxFS+cKAseah70KDswyyxvJh4ZBxgmJjktjScYG1AYHhrWJ8QtIyL1Hc4aVyLVJLQfWBjaFbseIR5SG1YVLQ5qEsMf6SJ+GhsVExQ0Gh0klh2SF1AYiBMpH38cdxAQD2ANahLEFV8MTQbXEXUY9RKvC2EErBJMHbUUeBEKEbYLihdSG0wRxBabD4EIhQ/BEAoRhA3CBxkGXgoFCX0BJQILB8QJzAuuCp4HfP4WAdMKsQ5CDecG1gNUBgcM7wjzA40EJwW7BicE//wN/QEDJf+v/lr30PhoA94EFwO3AL384/6oAEsDqf/I9xT8mPwD+Gr4ifs4+5H8Dv7f+a364/7x/qH/YQMP/5P/zQEh+TLyE/oq/HP7hfVo6WTkzecA8zPzcOvo44Tnx+pj7oHuzeeY8cTwH+vT8Rzxl+8y8SnvMfBv6iLjAusa7vfw8+rN3MPjBO6c6zzpPuKr4DfhrMlX2zT1B+dp3/jZiMs132Puodxx1VLetONl5ejjIeL556LoVOJ13Cji3t+E3G7caNNL0rzXk9G2zpPQNNG9zu3I18jH0jLZJM/bw+PETcqG007XT85Lx3HJN9Yx2MrWRNP60rrgSduA1nHVv9GG1FrUhtQqzbrJA9Vo09rNssicyN7IpMgJx9LM5smJzKrTBs7H0lvJ78wQ0/bXvdn1yUnQDdnI1NDUx9IL1uPbkc4exgnS6ONq4cDHar4m0pnmjuASyW7ECNFe2uXfANBDxoDKf9Qg1XzP+sUHxMnVj9a7y7DEpMmvz27QCdMs0Lfb4OOg2YXRhtTy3BrjkONk2ArUBNZt26Ldk9y1zenNHt2R2cPX0dZc1pnaF97/2RXaEOp75eDXs+Av7Jvpb+rt4IDhl+557Sbp+ds83kro0Oy/6ajmvOSk4CrlZORB5u3sweuG66fxo/aX+rr3yezM8Z35/fnO9BTxEOkJ6nr7dP1N7kvquPSf/FID6vM37gv6DgADBV37kvPC+QsGawipApj84fyaAS8GjwYK+K/+7gYiCDoLhQIBAxMHVQc+BtkIYwe1CfYHgQf2CFoEAwaWB3cDAAxqEmsHQAm+DC0OehQmD9AFSQxmDFgNxw4/CIoLxw5CDeAIUAxZDlALQQv1BvAKCQ9DDmgPNwYEE7wULA1jE1kPJQ0SEpsORhNuGfcV/xWRFvIYLxKUGhcaMgrECXERExQsDSoKr/0zAAsSlxR0C8YBTQbWDn8Q1g8hB7wIRhOiGeATahKtE5cT2B2FGpEVHBYAGPMalBsbFPgLQw8wE6oPVBIXD4MLtgsXDgEC7QVTEcwWHxA1EPoOnxW3GHcQ3Q70EOYR1BeUG+8U+g5+DqsR0xb0EJEKOgsuEPgXpxa4DRYNrRMxFeUQ9hOXE9oWVB0OFzgU2goMFGMfIBzFF9ARjA4+ErMRnBAREUIMPA4pFHITrQhFBd0ONBndGioVwA7QEVIa7h6oGLsHNxKhJN0ajBq7EzoMrxczI3gd+hmVERAO2B6IH18Y5xOyEEAVxhiUG1gYQw8EEysXBhYjFkIYMRSOEboRARojFjEVWx3AG8EcARpsFcMTPh24Gm4Z5hw/E1UTaxMwE0sPzxCXFE0SdBebD5YG4RU3ErkQGRFFEpsaURnIG98S8CEYJ+YccRFRDagYOiNNHlMQGhPDCOAIehTTFsAPaxT9ErsHOgtDD+Qa2B0kGLwUhwYFFbseoRj5GBwWvRZrEy0aVB12DSkTXBM0DlEZ/RMyFx4ZMwyJCVgNnBDAD28P3A3XBeYFcwmBBykHdg1DDhISEA5NB6oDtgtIFucGPwiBFM0M3Q9OFNEHeQe8CIIJ2RRHFdUNzAt9Db8BzAtjE4UDpfodAE0GxfLq/pwQ8gHH9YrxNAIzDC73heq+8mX9vQogBYHvn/ApCOcTUP7z9QgC4wA1A18AzfMO8kf7vgCn/Ur0/PcC9lv4t/+r+O/u9ezB66T3FPyc9jrneuP69ND4Heep6S/5JfSX7xfpPeAn7C7ryuJI5arqH+s650Dkre/w8G7nee3v76fxtvEf68jrN+3g7mfoWuvL78/qeeIg4Izd+dwR4GXlot3g12jqAuvC7d/gvdpl5dbqGu5a66PrJ+B72sjf5uGN6tzn8+mi6L7nTuPd6ojiTOBg6N7fa+Og5QHeIOB+6tnjO92b3eLa89065lvhvNek1CfUfd2x3R7dZNjR1rnesd4R35TemNnH3h3bx91u6F/cxM182+Xfz9+H4KXWztHP33XceNQV2l3Yptin2ivb7uER30fYN9a018vkm95I2WTYntfU2wzYrdds2Q/dV9tU1T3URtdg3ULch9U80yfUytbt1MTYp9lZ0qXW4Nd90PbLBNcG2gbZMtle2vDYBtm01kDYLNz32EjZld+Z22rWZdlv3n3cidjA0njVs+Fv3hLVxtBIzgnTYNGT0ebUeth337zXRNRz2PzVQNlW5FTikNjd3eTdEuLu4aTUiNeV1C/g4OJ13P7XBs4Q05fXMNds2ZzTetgw4rXYRuII3fzUvdl64//lv9zf1S3SKOLO3X3cb92k1QrVReBS3nvai9ub3Q3lNOh13Nvb3+Ac5ijtRuKa3HXcmtw965LmgNUJ3ijiBuU37QzjHNpv6cvwQeZR3UXgvOPI9jbsu+KX75XrE+/76ujjserc88D2p/DR7c/q1uqG9oH6UvVR9ATuFf5fAEf7nvqX+wf+cPdz+xn43/mvAF//SP2A+Tf51fQ58Sn7zf5V+5j8T/wfBB8P2wvBBBkG4AejEKYUiwztBBwK/xWIEwEOYQQoBoMW0B1dFTwDAP+IE2Me8g0bFJUQJg9YGaMQhQ/7GwQTCA2rHFsSvBRXIl8YXRU6GC8dXiKiGn0ZcBDqGCco9h+AEgQTYBraIVUgnRKjEIcdSyfhIE8WGRKxGiUlfid1GNoWUhuXIPUpgyL4F5MZdiXZK6MnwBucG+cqVCpJJFsdEBuFJTAq7x9QF3QXFhjoIC0leR+XH3Ed7BsQJwElASW9InEdTyEdI9wlLCRPIXMgeiBrH9Mhsx6VHLocNhwWGN4cBSDiF20XIhQOFz0cqBgIGeceah7fHUQbvRVYGCUZdxvZIBgcbxrmHGMeAhvXHC8eWx57IlcXmRfeHHAcCxNYDeMMthaUGkIMSwQYBGAOQhkvEqsESQEDEcId7h5fGLIQjRCXE5oZrxfyGO8TKRR0FooK9gegCn0NLxHsDwoFuvgtAhcOkQrJBR0A+g61CecHKwtOCG4MDgtSD08KpQZvD1wIHQHCBuIKdg1hDxMIwAMxCTAHiAd2DQ4MyQaGBEoCOwGhAGMHHQyhAU35u/r5ARMIjgX//Yv/XAcEB4MA8QDuBzkKAAwiCUIBof+u/GL46/+0B9z/bPz69TLyWP8yCtwM/QeR/JX4Ov6xAtQLoAowCMMIzwRgAgQIMQl/BYYEEAMUCaYJSP2y9oH7cQXnB84C5vew9LD/QPwT+xUAJQHBBQIEDwKf+1j/3QNX/ksETgk4CB8D4/6yBJ0G0QerBaH/uQOL/1794fzG/xX9ePg3+YH62/5n/9L7L/ir+If4NALFAMP7Avek99n7KwD1Bfn/BwEzASX/8wIQA2QIswWbAqIC6gDE/H3/Jg9Y/yf3yPdG+gD/dQEV/fL/cvoL7iH5yfmD/tAFff/O9WX8Qf07AS0CyflN+eoAnghdCQ8Cuvjj/68Lcgiw//n/UAyiDqMEhvYK9ykHAwZE983/DwIzAf77mPGxAw8Cevv//bv5zf9FBa/+1AABAjr+WvYGC0IMB/7I9pv1egl2DZ/8hPQR974A2AfqAFDz4fD1+TMAzQFP/ML5VfoAAJ76Lva8+5MBwAM5/L8B3/mr+JQOkw3g+vT3JgNHFUMahAzf+ab7wgatCF8AkPu1/MH3iv3ODbr4TeJf8wz7dApUEgb9VvHy/+0Q6BTmERADoP1rB9kT/xU9ECkIyvrj/1UIbQsKBYv/Xv10/XUMdw+iAuT1MfygCtkTog2+AIn7KwAREdQYjA0k/tsAERA3E5UQTwrTCjQNkgwBAlf+MAjcDUIN6w2WBn/3Yvg7AYr9Hg6bGkLzWerODpgVtBNoAxntsQO9Fl0URggzAHv9awjRE6UGkfzqAJkAlgcVC0kB1P51AeUE3gQZ+OrywffVAUwFQgH97iX0uQRuAXz+IPfC+RADuwfVDVX67fcIAtwBKQhnAoH6evuh/lECsgQXA4H7xf4zAVgBDv6U9iL74fxvAr4AL/gF/Lr4BfudBksEmf0p+k/8JP58AE35WvbNAewD8wJk+535qf+9/JH8i/8L+mX8Nwb5/7X8Vfsg96H+IAWGBPn/9fiV97kDlQTR+UMDMwDQ+IP9WgRpBcn5n/z1BvIMegnY+en9Ggf+CLECNQRYAYsByAS7BrkDA/kC94P9LQNRAW4BSP2zBtUNQv8z/7cBTfolAksEO//NAdz0DgCrEWkF+QCt+g8BGBC7E5gK0AUgBX8FNA2lEzAHqvX79sYNTglu//77GPZkCaINmwK1/HkGlxPDFAUJg/7N/4MLbhgDEZsChQJjByARewpJAD4Gmg1ICu4GfgOrBHAEQArtBB8P9BCY/I4FdArADowOVAbXBTIL8g0BA17x5QN5EtQXABhf/jH7rBJHFB4OIBGcEL4MXwxICqgXVR8lDccCqQIXDlwfURnGAXUAYweNEC8eQAmOBfIkeAWsB/EXbw9oJ1AM5/kjFrUUbyXZHxP6a+/HDxcmtiI5ChYB4QnsGv0e4hbbC2sISAvCEuEgjA6v/lUIsBlgGocRfAvtBMULUxxRGQ4LrBL9Ey0Oow95E20L8QtIF6MP/QfcDbkPRRKDF18MjwcaB6INEhJKDgoRXRXpFT0RtRTWD8QJHAvrDcAO5wcnEDEVVgqWBxoIfxDIGx4ZGgccCyccABhfAe33hhyqMhcOrfpvA0YHfg+xDzQC1AtzFQYLPgY9BM8DtgpKGVUU+ArdD3gRTBGBFMERmAlhDwkPGBBHFXAQAQ57CvYHugXnBrwIjhFHFZkLxQChAQMGwA7wCsEF2wvmBfn/OwLGAUkMOgwqCWMHAQPZCNkIoQHeBH8FaANbBmMHagYvBr4MZAg7/7AB0QdhBGwKmAlnAXf2AQMTCCv+r/5x+OLynfnlBMP7bPxV+wT69/t/+IX15viL/v/9q/hJ82f0jvh5+dH5T/0AAND4OPv5AT/6M/4sAf/8GAQT+mP5ifvR+Zf6+QC9/Cz0SvW98bn2gvxH+0nzDvLq82P6fP6i9EHyh/nQBVkCkvNy+oMA6wHc/972ePcYBI4FePfD75Lz0fnVApoBJvUr8nn6ZwLF/lP33fV78bL3y/uz+Zj8EvjM8Xv8fP6O+IL8YvdF7Oz2bwNhA4TzC+1L9sr6JQG9/LP4zPLv7xT8WQNq+VXuSPGB+x3/dwMF/IP96wI0An8ErwC7+lv5c/zL/Bb/uAKB+gr4+fOL81z60/y6+DPzGfiw8yb1+f/E8MTwv/TU8zAHdP1u9P357vkHASEGpfoN/dUCQv+TAlEC+QCWB4IJWAEXArT6rvza/JD7LvY99xP6bvNs8Ev2Pvgv+ez1bfIg+Pb6Ifpx+aT3Uf8V/v/8SgLeBJkAdf4l/+H8tfyUAzP+jesn90nz/Oyw89j5hAFaBCPwPuEO/jQNNwcG8hzmV/1pHK0UsPPR4uDuZQrADrD0J+B75Qb9PAP9+froCett/VsGjwaB71rf3+zzAnoJ+f7p8Xntmf25A6n/m/Ur8tf3mQB4BbT6dPFr7jnw3QIv+SrxaPUX9VgBOgBw9nvwJPPW9i0CFQCl7rTusPSm+0j9qPPV9FL2E/vK+ov/tfzt94v/WQOVBGcCHf5j+VgBWwaY/EjyX/Mg97cAyflM97P5PPUq/IP+M//T/aT3//zGAQwJUACr9yL7qQHBBZ76w/rr/1QGO/9K9XL66v4/+z74TPee+kYH6/9/+Lj0JvX5/w38q/gK+Nf3Qv8kAI32IPj5AK0IvgAd81vgr/1eIrEapvv45fvqGAQ3Ek8KnPa56p7uL/jyAQP5J+uC8SwBQg26BQvu+ecQ9pAIQg0OAOnwS/byASkHeQfFAJH9n/vp/dcEoQGL/+MAFv9/9+j7QwPbABv86vKd7Hvx/PiP+uv0pPd49/L0X/6L/x70HfMz89TyDf2iAo8GdwMz/i/4c/y3AdX0a/u4AoAGEAO49ffvePhJ/mb+9/vD7lTt0Pj3+1jzcu4x7+33Xfuc95jxvO+c9zj7PPXk9Lv5V/7Z+qDyO/TD+hADavkb7/Pq/Ow++MT80u9b7NrxrftoA2D1NOly7lL2rfsVAMn5YPVW8bPtDO9K9N/ta+5r7//xgPmo86vr1uoC60/wFvOg8rzvn/Bx+LP4ZvPl9jT0ZfEm9hf1zfOx9bX7Y/rX95HxmfIs87zvQ/X586jzQfKJ70DxJfTT8UDw1fTM8pDv2O1N+pn9j/ok/jf6ePha92j1KfvmBXIH4PqD/S0D6gB5Bq78HvWo83X+dwRl/SH5Evlc+qr1VwCt+0HyHPLD+jUEUQG3Ac4CZwGa/5UFJwQdAWMGtv3q/hgExgGv/Un/hQIBAy8FXwHlBHcDIAUP//XtVfrzAlUHnwkfA0MDtgrgCCUBqf/BBNEGQwJyB9EHOgtgDU0Hggl2ApwEgwsTCHUBYQMXA30CPgbRBmYACQRwBG8CaQUcCsYMrQjfBi8FkAjKB2oGBgpACh0MwRGeB3X/PQXuBssJzApoA6b7vv5fAPQEFAqvAGkFBAg/B94Emf4o+V/+lgcwB4UCifzJ+VECBwEj/Hj3UfQV/W0AVPmY8If4DwLVAnP81/dW/HUAWQO1/Cf3b/WH+cr6MPog+KHzKfpx+aL0CPW77mD0BPoL+iz0a+/k6dXp3PTE/K/yKuSe4yTmOfDe9grsjOjd6X3pAfVZ9ePnT+XQ4MXmgvEN8R/qU+CA4tzo8+lo6oXq9+Qh4Wzk3erK4iXcj+Gg5pro3t+g2erbjd7G517lfd1H2BPXbNjI1HfftuXW3g7bvNiy1CrZP9fV0PTTbdr03xLhrtn705PR5tRl2XjUL9Vh3/Pd9NRmz/XJFc6N3oXdENNQz8/SJtIzz2jG9cnQ1O3Uz9Lqz0fM4Mopy5fMw8xJzxDS78zpzojK7sozz43Sz9Lg107X59aK2ePQ+tLV3JDXAdFlzk/NftJ90ZPFocTexw/R/NXTzjDKksTDzHzPC8q2zibSTdYE1rTLC8pT1E7YCtWT0ZDMRMjsx0LQFtCdyYnMDMsQ05naS9I80jDWxNhD3SLXqdE10sLV4tlS06XLANAb2OfWBNdT1CPOl8vjzyrZt9zU22jSYMYxzH/US9Lt1JPRK84c2Xjgjd661W/RnNS33JjlReFJ26/am90O5rXknuNu3Bfe4ub03zXeUd1w36flxugx753tk+gn4GHe+ukG8XTx5Olg6Vzu7++C8V3w1PIi74ToSujD4+rntvF+9lv5NPSL82L42ftaBC4EG/tU+Gv71/hf/wX8jPRu9NPxcfkp++LyE+9g9Vz6WwXqAMH3s/kz/jEJ/hTkDdn63/lvA3MV0RPdA/j9CQM6Cy4QFg0zDKkNtgqPE+8TwRDnE20XkBTtEQgOkgxIF5cfSxsbFTwPsA2NGy0aFReqG9YbFiQzJD4eeiDgHwUggSDQHEQbHiWWKhssry5+J9ApjTKsNgQrBSBiKaA5Uz/oN8gz4y9YMKoyzzLrPQk/ljb9NqE71z91POo6Tje7Qq1DDz1eOopGB0cwQvQ/dDmLRy1Jsj8pQoU9N0FdUJ9PJklHQ8g/tUMnTJ9QE058RwdHz0uESJZNjFXmTKVNb0nYQdxIpk9KSVVD4E63UsdVeFicVqRMF0n3TzFPKFh+VpBE8kdNThFLBE6OTGNCPUAnTClONEk/QwRCbERgSPZOgU76STRJukxwSy5L8VFpTAJLxEQMRFxOgU/sSVRBgzp6Q9JPOlNhSlE8STsJPkdPAkvEOcAypTbkSG1R8UaqMvwo3THsPipFsj9COyw8TED9QmE/yD9ARTpG1TxuR/1BfzRRPHc/7D6PNlkx7jVFNWo2pTabMcE0DTkDNec2XDftNO0/rTdUNXYx6CtWOYg3qTBMKe8rqjK1LP4s9CeLJMEomjBOK10slirJKcMrWijAJ3Ao0Ch0IkMlYimmK34n5x5cH2gneisdJKsc7RwbITYoIChDGlMQ4hcqIQAkrB5XFysWABllIUYf8BaeE0kYVyMvHkEXxBVIF4ceBSEyF2QUcRLRE+kVxxoYHI8eVB3qGIoXzhmxGk8W8BWKF7MS7RGrEbAM6gw9ESsLbgy5D6QRXRR8DLIQSg6DC0cUiRToFFwTwRBOFLoRoBZSG2sT8g0XDpkLPA/ZFIwNDQrfEkUGDw2wGaQRuA78EToXIxV5Et0OYQ/xC7AMjxPtEIAGzQGjBH8EexZkCGz8kv6SAAcAOAmBCFH/lAN6CRAO3AzHDskGjQRkCaAKIAWPBpgJGgf4CkIMFg3pCpcIeAWmCXQLAwb5AVH/mf7x/oP92fve9mv7BvJv9V/++PKB+3H4N/ou90z4gwA/+6H/8f63/hP7VfqT/1cAjALZ+sXyu/nv+/fwl/otAmT7qfQS+G704fvR+urzKfvE8bHqy/AA55vqXfBb+ajyQ+qd7XHsavjs9snsx+pg9X3/J/dz7yrxAfUVAAP4aOml7TnwQPBn6FblBe+N6rHq2e+74oXp5OnG6PXteOxl5e7iHeff7GzwLd6d4Fvh691M7GXlreO53i/hiuWs4q/bbtxM4GriL+Hl35zfUt6n5abk/uOd4Jve/OES4and+94h4uvoq+vt4PTfPuLJ4bzjaN5X2zzedt0V2ojXptcK4KbkJ99A2eLZr9th3/rd4NcA3E3WkNg42H3ddt1q1cnV9eDA3sfedNlv0vXhguRT37bZadRU1qLdu+E94HjUAtP11TXe4+dh3/DZktsw1+HYY+HV3J7XttrH3Vnd2dc41yTPwtVx4J3VWtTI1M7RP9cy2mzYatWR2ijhht+o5uLmG+TW3hXbRuKE3Lnek9wY09jVY9aQ2LrVpdbw2TjYkNcd3LDcXtkk23PYHduN30rdsd7r3WDdD92G33niY+Gy35Lbodxc4lne3+Ep40vf/uNr49jist8n32/d6OQE4s3cL+EP3HzbcuJk49HhSt083kjmNOjP3+DXneA86ejjh+HJ4LzkzeeC5FDnRN/T5VPrB+fP63bo7Op+9S3q7+Mu6zXr3fVv9ezqFujB65LzWvdz8HHs9+/t+Lz7PPU16g/0DPtn9OLyEexh9hH3zPI86h/qqPP69Fv5jPVk7/DxnPd184f4y/uh8w39nPeL84f4g/1f/xL5zPGP+XwAmQCTAtb1pPjL+5AJNgXw/EsEMwA0AiUBBfvXBPkMR/vT/fQE6gB7CpAJ2/1LA3UMQg2pAowC3QMoBnMUWxHgCOQC8QBfAOgJYhFMBUkBNwcHDFcWsBlpEY4FrAZ4Ec0YPBvEFXwMXBPvH44d/xbEFqkZCBrqGI8SOxmaGSQYuCU3EikTpR+1IEkjCBkfD4gTvSFnJZcg3xEzDMIdOS5YMNkftxiGHNwlzS8mJw8ZjhxMKGQr9Ci4Gg4YYijOJo4o2iGKFj4eri1gMeArcBxgMXgcUxBiKHpDO0hEEMX9cR4XPtFCYyrj/xkFqjLLOLsq4B+QFNoh3TEQJyEfeR45FukV6xlhGysjpiBzFK4VSCK5J60rKiF8F8YkDSKOKIAeFhn3IPkkvyRCGRUXrhVKGTMYIRKbDlsSzArsD/gXUAtIF40bKxY5FisWHhpqHdQXqxD6DnAbYh3DE1QGRwk5FjEUYhFaEDkKrgriFk4UwA7XEDsN3Q4fEJwEKQj/CusNJg6rBVIDG/yZAE0HFgwNCtcFPAMlAbQIc/xN+ZgJvwKP+eT1uPRP/PkMlAMj8AX8+f/zAkD8LfXqAID53/hFBS725PTZCJr/3PO28uftAfURBXH5pu9H71jzX/7b/vr0FujU5mPuN/kY9mj1/e4Y66vr1PJfAb/pQufs6kX4K/Ju5xv86vMe9fXs9uNb7Hrv6vPv7ijt895y1pXr3+3O6BDprO39+b39fuqC2bjozvRN+YftzdsJ3+XryeyV4ALfeOBx4RjruOhT34Xdk9ye41bx4eQy2RDeKOGn5Qjpc+S/3Ejma+++5/jlL+CT6I/5n/Am3rTXJehL6tfrUdzj3CTmntax3hXaxtxL367ZAd7N3Evr5+3Y4WPi4+cF5DPn+vUj8THknuIG5pjwP+/P39va9eAX6kHyNOjg46rquOlg3R3bAt/+7+LxyeHH3SvbeeEG5dXdPezc6O3flN445CHtt/O+8hXm+dvg4gPs++qJ8GDp8ORs8KfxVe4Z4QPgteSc6zrnnOur36XWm+pQ5zrmBuas4ubs4O4j8Tzq+ui38zz1ovXw/Av5Evna8WbyNQMI6CXd5esb8Nf3u+5J3FfbE+PU/kfwOOOh3IXeAuv17br4Juqf5HznKe8R93b14O7R4s7pVOGl7gX83+zq5vXsuetF7CnuLusq8K7xaOoO55bttuWH7LH18OTE5afx2vHL79jhOtux6Y/5BfAL4WzknuIF5NX0I/F96AvtU+zR7U3tAPOa6KDmY+4963XzG+/c6BDqmud57Vjzxucy5SbpqurF8iPwHOUa47DnR++77eHv6O9M7DXrDvLq84PyO+ie47Ph8eaC8TftiuWV31ThkOSI7n/sm+rx5h7oDfFg9Q3xhOcJ6+nw++u67N/hONdU4UPqoOZp4JLbvtuK5i72jPWx6enZlNNk4/T28PyA7bXkC+Fu6KL01/dx4WLgJ+zX6zXqa+N72vPdj+7Z7lrfZdma3GXlsenw5U3hZOTM5SffaN7P38jfk+i46DfivOMo4aPflu1c7vzgGuNe5mbnC+5P5XrYBtk+4fHmD9wbzUTTVtm22jPcCNF1z+7WlNJC3Ebjk9yK2XrYXNbz3WDd2tnN3K7YttqW4rXk3+CY2YLZ8NmZ2/LnA+C01ozRH9PF25HaZ9BrzKTVttox2GHSVMnA01DbQdtc18PXPdQkz4jWGeHd3nLXSNnm1PrdDtr42eXfO92840bjYN2E3OTdwuEz26zW+dvH3gDcW+Cb3UDZf+AV283bpuRe5bvhceD55+XqKOHB33znU+wS7e7iodxP5XzzTOwA6CfgBOKn8bj1ee6I42PhRe2G94X1N+1V7pLzIPfb8ozoDuct6orxvfFE68Hspu/s6q/yM/PY7TMAWvZ/+G4BjfYC9jMB4RTy/2f/GwnwCgUJVgoUCV0JwhJbEpEK6wFOCOYRTBHFCyAFYwYADVgMPwgbCVj/qwQWDRsJBBPVGRMUIxX1EWYYpR6PE9oW6RXqI2YviB9XFsIeHiZ/M6My4yTTIf4gBSFOKzQmOzFyNggmZiNLJ88ySzP7Mt8pcyw0PGREUz9/NAknyjZxTU9FDjs8MtUwOjrFRshKXzxeOWQ4FjugRRtDWj/qOw89bz4BPddAPkGPQe9C0UIARwpAC0EYSrRO7UvMRuU/8Ub+T99NrU4cRcxFuldUWExMIUIOO7VDr1IAVK5FxjsbQxdVGlkhToFC0kNsUF1Q/U7VSEFGpU10US9NK1F2VOVKGEoKTFJJ0k8sSGRPCFRhVvtW30ynUO5Yo1a9Ua1P9Et2SAlK+kkISapJo0qSR+JGDEPXQANNBE5SSvJI01DvT+9OwEowQqM/Lku0WaNKbz7dPcc+aEqvUlJJcUBSSgdTgE2KRbtCFEXMUR9Ki0f6SO422UMYSkM+QDgLNu83sEe8RD42PjVuMPA53T0AMDg3oz6iPds6YTKsKmkznzikNVgwRjfVPeI61DqpMEYrnzizQWtCDDe9LsUugy+8NwU4dzOKLmQs4CpaKBIpiCvVJJEhtyN3J8Uj3igSKaImJTGaMEIwKSu8LNUwcitgMTA2vyXDK2cwiSz5MLknQSNbKTA25jTIKNwkGCcfJ7MpwSiTJZMlHiXSIPcgHCIuKI8qOCDtHJEiNSfpIuAf4B8zI8Ip4CqGG3cbISrfKeUn4yQBGpQaCik0JlMcmReKF58hXCrOJtoVgBJRGYsjEh5HFKoPnxWJIUIZ7hLYElwTFRZlFYMWMhZqErEOPRACEPINNA5gDVkPzg3dDnITpxb7EKcKtwzECloQ1g8EE88QpglHCbIEDAl0CqUHGASg/aEA7QWNBKQFwPX896wHTggDBbL31/d5+Uj9K/31+H308vM29z/6zP3C+cvwVe6w9Lv5tfzZ+rL2ivHH9bf+UACz+aL0T/D+7+Lx9u7f7X/rk+iS56ztFPEV5lblFufd6p3sAOiY5RDpFOXF5qjm1+CI4tjhg9sD4NTn690W3Nfggtn94iXoA+FO5O3fZdpc4rbmad+b3Y7g/thB23rYCNHx25PcZdq/3aXhwtWLz7zYKNZS3i3ez9IC1LXYXtok23zbENLd3n3deNWz4OfWONcy2WvXXtkr5tLYx9KixrDc0e0wyj7JENKp0XjVe9qUxkXVPuLRyw/RwtbXyLzXsd3/zjzTdtHd0XbRDc61zbTKjtTL2MfdXNYz0BrWGNQy2tLYvdpb4NXcP9dx1X/fQ93l3szaAtRg3Rjf4tmC2fLcQ9473ZnbHdvS2HrXytb53Prdy9he2lHdcuLH3ePb4NcS1t3eTOCc38zaK9qK2V/bNd9L38rjq9/524Xd5uCd4N7f5+L35MvkcuME4/zgTuTo5GnfrOJb4HLjjOhe5l7lruWT6T3rEu2M6criHunQ7Cvm4OJy4wLf5+Kv5rPhN+Gl4kfkS+sL4aPejuBf57zvZOS+263jc+/J7ELnb91T4FPrWOil4izcFNku6wr3Juof3lLe/uQj8czyBuUv4PbjHukm6uDjfNud4LHqleza5HTZFNmm4yHtb+qn5TPnge9C9KTs4eQp46DmovR+9mDoud/+48fp5PUy8ZHlX9tQ2tDs5+4R6/jmEuGw51vtgOKg5mPuwu1u5+rm6uZh6hXy/OzZ7q3vjN027Jb5ce3t9wPtN+KV7F7x4O5a9nDrn+TL8LXvOvNS9r7zcu5f8+HwCeuR/IXqFdpTBGsH5fao8xXmH+o6/s0Bl/oj8IrmK/K5BEkAD/Qs9DfuKvDW9lT5cfiV+Hj4JvW59sv8YQPYBoMABfv5AWwJZAgoBrEDTfn3/Nv+gvzPA0L/4//F/u/7y/tA/PQE1f9M97ECCA2ND64KLAGFAtESwh1BF4ASBgtvD1AYfRmdEn4OkBRUHaEjNRs2EcQWKxbOGYAdGhMjFi0a+xuwGLkPow/dGh0j7x/xF+oY2yO4Jm8mmCEzI0MlIy27KtUktCryJMUimCwEKvIlaSgdI08hsCVgJZ0pnio+KbsqfSXNI/IkCCUaHnMsaSgJJ7QqvCBGH0YrIy4EH+4e9SliNdotaRw0Gm0iQzIZNQIoOhdgGgYtICgCKNYa3x3nKuQl5ig7JVkm6zFpKBEofyjPJyYn2CnpLWQrWSYXJvolmCxXLkom4yS2IqwdoSRdITceeB3WG0ch/yIlGS8SVRQrFncbdhp7FcsUrRMrFrIbjh1oGokUihYsGGcZvyTgH9oWLhwWGaoaah3NGF0V9BuLGMISbw4nEfYTtRS7EhMUQRYkGDcSUg8wCIcF+g7UDDoLaA+uCasEX/4BAzATBhbN/jH7EA4vEb4MtwCz+aoO9xVpBSQAjwZgDdkTHg4LBxEEy/wmA34OmQvqAHD2vf0SBlsFxv8G8bXwBAeLDJz3rvEC9zQCxgzBBZnyVe7u+cEEGgir+CrwS/aI+ov+IvtF7eXq3/kYBJ/7H+os54b3LQIr/g3xuOiJ8HL6vfwq8Pjmzuk+7cbzXvLN50roHugt6a7wk+iP4jDjsOfC7dXpVuWM6Yfsherj54fhfObm7OHwa+5t5h7p1egL7sPuwOoq5SHifeip6Xfrz+uy3xXbfen48Q7mUNrq2zLm9/BK6cLWn9jZ40Hm9uOr4A/dR+RY59ffz94N5W/qWOf14UjanuJo6vjmYN373vDl0+Wg5dzc1d0F5ADn1em533/g6uYJ3j3gN+Ez3CXd1Nu538riMNZJ2/jmYd9W2L7bgOJN7V7lBNbk6HnhCN0Z7bbmguTg4pzf9eGG31bkSui/6KjmJdAM43XzvORl5YDhSui15GTkCuAc2o7sYOnm4JLbq9+15Mzlu+Ic2rHepOC74ibpTuPD49LkGeG15JjlJunq5nXnH+pI5jPniOMA6AbxAfXj5znlAutq7S31c+8s56PrEOq46PPpzumQ4wzkL+yo5inv/u8C65vqsuuB7nvwR+/P6hTxkfEy8ujv9++v8gXw1PJr7p3sbPAx74X1UQJW/Mf1hfW69y8FSgL79nHtD/QU/Fr3A/nG8/bujveg/d/5fvb1+cb0OvML+g38VfvM/Xv8HfNo9jryfPJj+VT4Rfg++Rf1N/ma/0H+iv1J/nj47/oXA5z3IPhV+vH9DgAHAQ8B1f+U9vz4qQHJ+NT+5/m49YP9+f5z+9L7n/wo+SzzGPfNAFf9Zv7t9xj3CAIHALcAIfnN86HzG/wP/4v/kfwj/NsAxQDUAK36Mfuv/jf6K/0c/Zr0APS+80DxlPUA9Bvwfeig8d/4w/uI+nD2DvMP9Kjype6u8PDx7feI+gz7f/e59pX38/V/97/0svYr/XD2j+0G8mj2U/cy/fLz/Ow/77TuQvNW8O/vAfW28u7tA+2A7WTvBfDX7HXnNeoV8nTxX/OF6uLmbuji5YTozOUE40zsbPFT7P/lIuPX69vyfuqa51PrQfK49Ffy1ObA3irkovQm9n7qdduq057iOvJT6zfhweCV4NjiyeBZ3cPjNOnV6GfdZ9CU02zkuuwo4sDTD9Bc1tbeReDB4FjcR9gn3+HkWOhm593e0dZ23Znm+ugq5YvbU9Ty3Cffi9Al0bDcyeDU5w/dn81s2U7kkORv3vrRkdk94Anf9eC81wTWuN1Z3Znb29uK2b3aFeZO45jZvdmv2rzjoul26GTkoOai3Vrf++pb7WzlmduC2dDg8uic64rlGeGs4ZXs5uxp373ZitkS4XTmfei46DrnTOAc5Yz0mfI76Cnj7+PK7ob3BvE653niqekf68Tx4O4O51Hom+nS79DsU+vW6tXozvWL8/Dwpu8F7/L0Xv3y83Luu/oa+iH6LfW49ND3GvqA+Zn90/3V9JPpvO8Z+WL31vU298P6tv2Z/l37pPdE9v77uwdkCdv+8PzQBZoMVgknBB8DXwyNEG0LuQ+dEUYTywn2B9oKkgxSD7kPfg5QC5YHggmdEc8PNwcfBIsM3xErFgEONQ8pFFYV6CCzHVgYWBi7H/kjqCNUHYkgvyVvJTQmHiVuJOcfNCZzITkWuBpbHWsg7SinIlsS+hraIYUlIisgKAUheChBLpgsuTPxL3wvjTN5NmUtFyWOKbAwfTFyK8Angi1ILj4q3yktJj0o8zKmK/YqFC1fLyQ6ljVGKsMrkTm+Om4w2yLmHNE2IkOgOU8udyfVMOU/CDy/MREzqj5rQzU/ZTnQNC0+Aj9jQp1AMDfHPq5FC0IJPt0yKi2yP7ZFDEPyO0oxuT5IRd4/9zj4OnlCl0PDQy9Au0ICSiJPzUezQdRH8kgWRxBJXEIgQDpGmEUORklHIUHSRF9HMUQcRfZDdEawR2FL+0pWRTw+yUGcStdLJ0s4Qwc73T3aRFFIek/VSARC3EhlUcRcB1NFQf85Lj86UsxprFkpQmJAHjxXUr1dPUxBRvxA2UIvTQw34y9xNJ1Bpk9aS94/yDSsNWM2aT85UP5PXE6mQyQvRDNTP/BFWkpWRBtDdj1BOo9CkzwtPipESEZBRm89By/xLjo6qj5LP4s7cDOBK/8uRTSVNJo7Tjj3LGo2mDn+LH4ymTo6Ou83gDW3MGk0kzwKNd0xvyXOJgM1QDkyObExuSdXIqIZUBecG0EjHC4+KcsgmhgLE+QaGR1fJPEj7CbAJqUTsQ/1ElUf9SlgJqYU+w+RFTceYBr5GIsYYhzmHZ8VMwyuCgUUXhc/E5EK2gnoCKUS3hArAEoOLAyrBNYDvQrSCFkDvQoEB5QOmQvoCKMEXfyt+kH9i/4tAy4Ey/yq9fjl8vP//HX/mPxn9Jb5Qf0HAZ35cfhP/Lv6WQPp/db1ePiX+pj8nvqX7t7rf/hf//P1A/h78DbsYvcS+Ujyf/ff+RD2Zf3i/c0B6f369ar2pfr7BOQCrfrX97Psz+sw+oj64PoY92Lst/Pk9TnwsvcX9e/uZf1e/QP4RPfq8x/2EQVZDj8UKgqw89n7sAyyEGgbEA9V7vzhKOKH7CkIBQnVAUUSnR17Fnr7ddxi1YHvI/zVAc3/T/yBBx0YFhnwCbT6xfIJA7IEmPyb6QDnlficEIItETRDJv77dNrC4Vf+XRQ8DoEHSgKaDcsJ6+jD7gD/DAiUG88Q0Pc97JfuX/8EB4UCFPy5BNYbNyp6FA7zieQH838QhxKS/in6hgRPCgcMbv9B8vXs9/CMAh3/1+sR37Lfy/tHCSv+n+865vjyKvwgBYgHbgGh/78BUAAb+xfph+H/8akBoAsRBUjxge999DPzXeTS14zRC+JX/V8M1ADX7NfsQvNJ8xfpnN8q2SzcQOX+74HuEPbd9fjlHOVN7qXi0thN4lvtzvXz6sLiZNeV1NXcwetl8IbrTuTz3rba9eHB33jU6drC4cHf39Xa2AHdVeO/3QPVNtX11fTU2ddT4JPde82bxoTQY8ru1s7ppuSV36jbZNcv4azikdrt1FjcW+GJ5H3dOs8vyVPItMuG1K/b6dlX2zbVr9va2YrO4cGHsrarA8mj333dttkFzezSvdlX2tbSrMngv03Lq9SI11PUpMhgxZW9gsE6xHbFy82Q2NDIm7psto+/Q9EE11XXvc2Lz4TFpb6IyxXPecoA0GLUXNZ8257X0sxFsli5St3g4rzXgMqzvgfcI/B51vDBS7ukyGDdpeLqxIq30csG2QXYIMkWxbfECskV2pTSl78pwC7HX9A41w/QnMhC3G/eg84/zFjEyMiuzSvPutVy4mLgV84QuirBktta307XDNjD163XZc5mzzDXtNZ611zWmNj50N3Rgs2x0WbbrtjH0afOt9DQ1cLhqNt611faltUM2KDl0OCE3DDW+eeO7NfU6eXhzEjOF96k1RDSR9js09zQIuM/43/Ua8tq1sbcUehW8MHryN8H3D7iQPFF+Ovoi9CX1y31fgOs7YraZNcx8G8CxfKR5TPba+PE8Zf7S/Ze5gjpvvIf9nTxQ+ok5rPs5/lj+RvwCfb6Ak35s+xW8C73JwR5BzQCfP4d/hP7z/bt94z0+PFP8JLyXfxC/1cALQNl/BP78wNSDoETwhKlEqMb7hIXD+IW2hZVH3QWtBOMDtoJxw9mDO4GNAIMCOQN8w+fCT8HRgcrC+0QiRQIGtUZEhItDzYRexboFDwOUAwOC6UTNh0aH0YfRRFhEFIPuRu7Hx0YmBaVEXQWAx1bHfsb5Bn/FlocriGcG24YAx0kI/0ecyDzGuQOMhb0G8gc/hQ7DaINOhiMGkgWFhgwH4wZoBaZF00S/xazHuceKR8VF24YjBmfFAsTYxNoGwQf9h+RFhoTeBF/EbUVFhkjFZ8VZhjeEI0PWxHCEsISWA3MC3cQ6RYHGJEVJxALE+MYzRiCFVQS0hRXFzAfHxuBEysL+Qw9EXYZKxfcDGkQEwfnBzoL8AplFVIPuQNkCNEGcwmVER4OQw5eCzMMiAcHDGkRiQkH/sj27wgoEsUL2QgJBOsBBQk/B2wJWgQd/lf9sAGlB9cFt/8y/b//hAGZAH4DgvyX+9X/nATQBbkDpAVOCMYNmgwO/hL4mf5DA0j9pfo290n+GghQ/qT4svZl8XvwkfHm98r6p/zx/vX4pPjB90X4u/oD+Xf2q/d+9lf9p/019qjz1vX79lL2fPOA7Zfvavlj+Srwd+ul7n30jvft7PLnivIa+mcC6/RV76T3BfwOAM70Ie7p8Iv++AtR//3tSumzBVAL/flf5xDqqAAHDDMAZ+gR7J/7WQKF9bjo6O9O+78CrPmk7DnxlPVDAj8I8vOJ/EoOMwGi9BD14wGHEjYFCuy98JUEXv3d6qjn0PhQF54ILd0Z4e0FaxQUCvz3/vCYCqEYWxE3BqH+jwcnETkKdf/u+ccDxg2gCmkE7vkG/egIdBbbF18MCALQBW8PThTXEcQKqAwsDX8R1RmHEo8GwgajEBkSrB7sDhfdowRKJfQoCxL09lL1gwuvIrv6LhsxIOz1PffuBoYQqhskI8kGQwK+C3AbQiSKFsEE1wRSG9AdQw9vD8MT1BjjJL4XywkjFnYZ8hitFLkP/hQyFo0Q7gfODmkRYxM8GvsbeR4IGScRNxO6HOIiLifWGoUPHhkVIugg1huZFyoVQhksGYEUT/C7TVdGiNdJ81IDZjs7VJEh7Oop+kAhqzM1JwIEmPwtAnQXTiAGF7kPhwawGd4cyBxhDxkRIxZfGAQeJOZXLhw61SRSDlbl4gtdQ1Ugefn48X/3CBllFsb01PLfETAfDAmf76MEcge+F1YV+f6w/8P6agazErUUe/yo/nkG7QUjCikHQv8G/eEJKQchB9EGcvrBBAAAofPY7YH6FwPu+RXyw+748qb7k/978c71PviT6cj3LgR/BOv0zef38AP41ABvA8/rheof9jH7xPyR8LLrEeDw5Yf52e7w5HXbmdpk48bnJ+Ds3mngMOP84UveKuQn7C3q49tL3+nl1+u56pLmi8+H1czmkPvU8t7HEb281/XtfM8+1TPbUNsK1b7ENtXd3o/Wc82y3yzc+MJpvNbG8NhQ5gfQS7skuLXMl+Mz22HHqruyvJDM59Y+1UW9w8DRy1TKbNjkuqKuvLXTzi7f7Ma+rEWlAMV158jU8LZnuRas3tNb4MevZ7mU0j3IFc8UtlaeX8Mdz6/C47hItmm9q7zbw+W7TrUAuK62+rmdvYPD9b3VuYWuIKYDsZLE4bX7r1qwcrN9xTPEd7DHroC+DcKhxEa/XrYuu5LDT8Fjv5e0IrUSvuS6fruyu6y+qbl3u5a+TL0mx3q0PMbMww22bc7uvrC5o8f6xdPCL8nbwlS+bsQjzbLH48QFzJrQ/cqPy8rK98HRy0LQaNN+0vHONdP11UXVjdMbwLTLn9hn3Y7V0cpfz7vWkuZO41TVHNoc2dXcwuKK2k7jMeRY6AXkPd+85N/suuzg4wnfreN15xXybPHP657ice0T+9vyu/lC9PjyavlY8+X2rfql+UX5cvqjBB0BLP+Z/u337wgN/Eb6aRA3B2YMnghVCLYK5xMUFakNwxOnFjgUQxpXFrooYRuPE5sa2hYCJ9kgvhfgH6ombyXpIYwZABmxMUo90jfbI48fGjfeNEZCVDY9KJs90y1bQYlExzFFQDQ9dzKXQhhK0EDmTKBGIU1FTclAN06bSaVCCEl8RxVS21F/S2BIAVVYVBhWEFZuPPhp8V4XSWJYUEbCZMpmIVmXT+R4KXLdYXtp0kMbZx9uLWEPYGJY/FfNXuhmNWLOVAVbzGh5ZdlbVGSmZpRhVmi7WspmcmbkYblt3GswZtpoFGgbZ2xoDmmGYiZismNXXYNqHGlgVYFa3F/hZ7JjZVywX+xWVWZTY6heYWLmV4lcAWDcX7RaBFltXj9b4VtJUixHzVLjXmBgc0+XT6VakFsxXL9U4kZXUSJbtVzMXUhRKE35U5Bbx2DaXD9P4E52VdNR0k8KTEBECktJU0dPq0tESptJ+UccRopFl08XSWZGSkhORApL/kRrQqE7CT4gQBA+jT8nP1M/9UDZQp42KjmxSW8+2jloMu4pNDHSOHI2+C5RMDc2ZCxFKW8xvzDwLcAnBy8dL1oosCWzHaEkZi/UIzwbGh+fIGIdQCHIG8oTZxkgHPgixhjqGOwbWBhiHaMbVRO5Dw8ZuBpfGI4c2hbEFa0UcRElDVYJ0BGDCx4CRQZV+1QGSBeOEe4Giv0N/YYEdQyPEyQLhQOICEAK7RFGCA7+LP8P/ycEifyR/UH++PI/74Tz3fUk/vX4mvTk9UX5oP3u+YD5pPjs9U/8i/7++wT6A/ms+af83AGB+nH5TfrW9qDyDvI++UX5kfGB7+3rFPHw8fTrbeYe6DLxs+0Y63zzhPSr9+34wfdV+5f6SP2+AAcBhP9nAVEBoP1G+hf1Wvd/BQ8Bx/Vp7JrnefnE/C73Te0/47nrJvUu9oLw4O6f77L2YQM5/UT2WPNR9JMCjA03B9L78f3++40DWwZDAxX+r/7x/kn/SQHf+Az7cvqq9iP9Tfq7+jMAg/2Y/FkCLQKwAcb/EwjSCJsC9wmf/G70uAK7Bp0FvwH1+XL6Hf/PBHcDkv4o+KT3xv87AQ//8QDZ+sv7dQG3AaICNAKZ/q37OfyR/GX8efro7xXyB/45/aX6hve49GL4GvpV+sD2/fnf+aT3vv6e+oj6cQX//Rv7evv69GX8Fv/F/pr/cPa77trweu+p9EP1FfJZ9W3ykvLQ9w3wg/JI8QH1VPgy/Z/wHObK7mL3WPTL7+Hk7eDs6ojuPewx5MfpBe8/70bu/Ozc6Kjmh+zl6nXnDOOL23Taz9/f4GTYX88A0EzUMtnx2+bVUtIH21vgKeP14dnjLepz5F/nw+4W6D3fAd2043XcjdMC1NXQkNcE1znOM88u1KPTGNQZ1UPR48/DzCDJY8oUzb/R2NWF0RTN3cb9y2/S980Oz+zSYNFJz4HMa8t+0iDVqM9jysfG5MXex9G/q70jwZy8xbe4uY27u7+UxlfCa8Dbw6vIOcIbweHB28Pgy4DKocPtvSPC78sKyDHBAMSevw7DcMeExVW/w8DOxfrF98H1vX+8u7/NuI2wgbRNvpLD2cBmuGmxzrm8wAXBkriJtG+6tbWmtV+45r33wJy837EPrj6yL71nxW/GvMCyu/2+779WwffAlb0xwQ7EFMGsvhDHDcLyxM7FV8OsyWnI9cloxozGvcLiwrnHOMxQw4PCmsSZzlfOcsu4xZHBusjV0AjREdT42eDLedY62trYreND3rTWSNk21dLXkdnQ1X3cVNYa1iLYuN0o4eze9NRR3DDjs+Hc50Dl19/14JTqne027LPtu+Hl60/xa+/k9ZbtQfL17HrvJ+sY92v66fHW9a36Q/Wj9qv48vQM+6ICfQHGAcP6IvvqAA8BFQCj9k0HfAtLEGUKrfqABq8L5A4CENoKVQjrDWAOURmAEt4E/wpVCI0Qqg40Dc4NoxDDFMYNfAxOFNcckCCqGukVuxPjGGYXbSKJLBQhShkfGyohOySeKi4ovyRVINoKYCb+Q4ErWBiaDRUW/DUIPAMpsx6rKEkwCjQTQgQ3/y3YNfguIjjxOvEi3CWUMpQmaTS/PbwsvCvwLGk0XEKHNNsj/Cn8NWcwoTD4LpUoFjBNNkc49DMuM2cwADCROQ898z4QMq8ukDhpP6g7FDlKMX0lTy0KNI82TjhwMx0jvySNMrYutzAtMocp/iuCLcQtuTIZNc0wVClXL2Ez2DZ4NWsr5SfuKoswvCwLKn8o1C8rL00qSSP3IWQrri24JcgcDhgdI40nbSIlJEYfEyAPJFEkWx63DLIQOCwENs0jUAuuCowaXCtYJEAKzApHFMEcch/XEKgLYhHHDuwOoAt/BFwHqxEwB8n4uA0NIcwKMv0XAi0PWx1lFo4FbPx4BQIPABjWDxkF6vKR/RcOKvxj+f77qfTv+239RfiE/38E6fxy+qz5rfrBBO/6YPVD9bX8D/8G8i3qlesV8lX7IvuV7D7il+4b8CTnXfA++DLyc/C77cvvU+t640rp4e/E8TXrhOcN5T3s/u8Q6dHi9+Sg5gvuvvOc64DiKuRB8gHqqOdX5mjeCOmW7TfiKdcJ3jnlnezw8avs2eMT40PqEewc5eXfnuN26XznFOWi6NzoQ+rb5mDohemT6e7h5+KL58LtX+dR3fbit+db7HrkN9b/2W/ez+r76+DjGuPS5H3o+OUW5xHrHumV7Lrsu+7a8MrjQuhP8KDy1fRi7CXoGexV+tH6Ve7D7l3vD/Tm997rbeZm5tDs9e3Y7dnjwd//5fTrWPSU6v7kBuUb8HTxueqB77/02vE68sDq/+Wf8JT1zfNX8qXtSPEr8tLvj+5Y9GT7gPnd6lHoP+/n7Trz4O7S703iMua3/rL38+kt6UncPN4+7c7pfPIW8wvu5+557urzBe8k8wT6JPNX8rX7//z1+eP+cPaq9q/9dPGV7Nnvc/Be8RTxz+sF7xnsEOk58AXwkfBa9jryPPV4+JLyJPOI7rbx3/no+1z6bf0C97j0XwDNAf/9Y/n580nz9/x9ARP7/vvR+pT1+vRi93H5AAHZ+zz1Q/UA8/oCmAkD+MHs4/O+AOgITwqdBoUCsAFoA4UDCwfjDGQJSQH5AfEAwQStCDUDt/8G/fsD+AsHDPwFE/vx/o0DAQO4AhEElwhUBhEFPQQrABP6QgE8D2YLQf1h9pP/fg+1FAsHT/0fBDQNrRNKDpsCpvszAZgKfQ2cBDP/AgQwCOYFevs++cwLhhsCD33/n/tV+wwIoQwV/uD6zP2UA+UE+QEp+un9DgDRB6sElPaq9kgKNweHBlME2Pl0/a8AAAGdBZMCAveU9Qj0qQEeAt/4jvdF+OL9dP0kAGT7mvTr/2X8ePjT8TnxLPNBAFH/OPt+9erzvO9w95/vPevg+nD2f+st6lfy/OwP9Hj48PAv+PjlANzj/wz7z+qn8LjpFfIZ+F7yDO9G7szy8PED7froo+sV8t/tWeqN62Pu2vG98e3rzugz5x/roecw4g3l7uEB3n/gwd/V3O/jwuKW4S3d1d2+5uvoZOTg46jmGOtC6Hfqqurc6LjoOeXo5DLm4uWZ5qno6+n55yHiBOIF5GHfy+Qu9jT0E+4e9CjtpeKW7SPw1+Ds3gzjPezS79zc5N3+5A/ohfUx8NjhZudW8Vn1bvQq5CTa7+OL8/z4Jule2Z3ge/Ax+8D1veVF4NTzoQHx/bL2WOfn7gf+9/ze99HtN+2g8mn3wPV67wfz3PRm8k/w9u5q+VD+V/6//40Dmv9SAy0DD/+QCQgCswXlDzgIswUuBIcFpggxCTwOXwyrBCoKSxDGDdkI5gU5CpMNJQ3oCLkQzxDXEIYQAhCRCjwPOhccFowavhiRFlMcFSI5IfIZ7BtxHdYb7RzkGcofUSSdHZ0e9yBmI0Ejlx9IIpkivSLvIAQeKR/pIuEgFSOlHlsdCx5PIbQq0y3+K/QoECakKC0l4yR/KPsnmyXdJssgtB8UIR4ley1JLwIoLifKK2UtZCx4Kc4mUC9CO6sz9y2hL3UvTDVuMOMkvSH1KaoyZS4NLSQvICmhL0MyKCpgJropkS2IK44pCihZJrYudC7OJvomqidXLmYvXi5kK6Qp0y2EMKcutS1kK18w+jHCKU4r4i6BK6Uq4i4wK7ooSiZMKIUy+C7ELZ0pmyV0LlkxKy/gKzMkwyDVMe0z2ClqKdEfSSR/M0wpwCfDK6MnoS89MzEtNinuKpgsYTKhL3IrtCrmKZ00QC2kHB4aZiODLhk0AymzHVIb7CbSN7E+CjQgKRIqkS7dMcEo2hUSEiEejikSKX0ldSRXIoAqCyoMILgaQhhFHcAmaioqIUMa0R4YJ1gw8iRMHWoe5x4NIkkjNCY4LBwt8iVeIpAgnyHdGq4WjBlYGJAgqSSPH2Mekhh9GQseJxyoGNAR2BInHD8gdRglDdYPmhjQHaAi0xbBEOcTexXCHu4dEBtKGpkXQxoNIqscZRVTEY0Pfhp4HEcV6gzADwEaNRunFcMTow8DEdESAQ7CB40EngfRBiQLvQrNAE0GuRCLDKUGxwJOCH8RzxCwAW39OAiiDn8QYA2cBCUBqAy4DVAAxwIXAwMFqQ33CYsMJP7nB2kR+g65A2X92Plb+cP6ifso+Tn86w11837qC/qpAgsHeQb++0r0kf2dBZMCXPpI8Qbx9fgrANv9ZPuo/mACAQLh/H/4PvmD/hADh/k29zb4C/p0/bf+Vfpg9bf+UPOjBKj+OvKN9nntKvwE7jryROu74sP7EPY/44TndfP3/Or+8+mn5WLsr/Lj86oDyuPe08fpGvqqA17yiuZ75dH54wBV+znw2+az7PL0WPMp7vvrjOnJ7MXype3/5Sbpmue5677yYetg6OXqEtWH7CH6h+zg45TeDONe5ujvWenq5i7rN+2Q79zzmPFL6lDzdfMX6Z/woPI76OrnC+006UPpK+ZC52bnt+d57uvpTe5m8uzqjeq17zbsd+rv7lTtG+957ojjad+q6j/vz+uM6Vvtb+qm7/HyTu+98FbxkfHY7ZT2Pvhy7ljzG+8x7z33tvIF7z3rnOvq58PuO/S/6KvsQPAL7SHuE+/B6/Dw0u/765btlu1b7SHu6O8C697rKvAD7HPvN+0B6ZbtDO+h53HsO/TS7wvtGe0M74zoU+vm99XpS+t39jT0c++V6/biGeGO7H/4rvG/6UvqNd+h5/XtYer66MvvkfBA8Lj02O3I9jDu1+z06/XtqfRk73TmZuYq5f7vBvEA5xHsb+l648bo8ucy8R3zb+lL6krphOiz7NzoHOau2fbiqvaa9PjyDORy4/jm8PCX7g/oJegB6RntvOQc5S3quuw76FXv5uzd3snhJ+u1793pauHb2q7lHvUs81vs/uQd56jnOO9h607vkvPa8an08vSg8aXutO7c58/qUegA56/mIe1m8wj15+0R7L7zLvcQ9sjrW+zB7Ab9HP2c91nqo98C9m3+6vKY8Q7z1+ys7fL0ReyT9G4BK/2H+fv2DvMq/DAHQwP1+f3tQfJXACYDVPmP+RD2Y/os/2AC+P3G/8EEAQN1/8P7j/r3/I0EjAJJ/3H4vfzNAGcBugUj/fIBkAiHEY8TTgnvCCwMZgzdDiET8w+AEkEW6RV0CyoJngfGDDkWBBNQDAcAdwTNGDYcnBA5CtAFJxB4ESgS3hDiC+4e+CKSGN8SHw9ZGp8tryJuDPYHtBPeG+UbwhIxCTcTCRvMFu0RERH/CiIUahKsEucTzg5WFW4ZOxlgDcAPsBm9IbEa3xJxEjEUORbmHfchahKMAqIOIR49HL0VwgZJDKUTTxWsErIQBAisB14WOBS2C10J2AbCB2kc+RgGC+UQLxJNH2Me5xKgC5YStSALH6AXiRQ1G0EjJBjNDCYPlA8KEfoOXgv7A+UEOAl2DUgLRgcJBC0DEA5TEFIDpQa0CIUO1g7YB9sLuQRRAh8EjgX4Cw0W9RGlBm39t/83B0IMiAd9/w8BJwQ0Ai0DOfwi++sBjQNRAcX+iv0L+qH+5vfN/wMGnPbZ+kD8t/7j/7cB0vs7/4r9xPzyAb7+bf0uBHoI6/96+3L6of7cAfkAC/qM9Kz5fQHN/lX6Evn3+z/6UvXm93zyF+lC80X4SvRF+T75Gfl5+gD0JPOt+h/2eu8Q9Wf0svfG88fpmPCq9Qj1UvVl/G0AL/ji8TryEvnm9/T2lfh/+Aj1LPOl7WPi2e4F8NfrN+3O6WLsne3D7534kvMS+dH5IPin/br4Y/ld+2v69vrX9/L0jfb48WDpserw8HPvS+um78zyP++h84LxNeo+7XPwR/Dc9CH50e5Q8jv0qvbg+n3oDO9S9XPwxfKg8lnpVO1C8xrup/Gd7XznC+3t60XtoPFI5QDoSul856vrSulI8cD2xvQH8znwM/M++HX+uvfh8JrzBfzx/vIBoP1O76jyE/te/dr8Peu/6E/wu+2N63znH+ue7pDvnu7o7/vr9eGQ47Lrl+6u8OLx7esL7RfqL+2c9mP6hvbZ743rxfL8+IfsU+x29Fn1j/rY+XLul+8s85HwxPGE9BntMO6B7rjpVe4t6Vblm+qz7fvqdulF7A7zCvfG8xHruevQ7ETr0e0n63vws+xs5a7k9ewQ6bXv2O3z6ofseOxb+D74cPb69PDx6vOC8Z7u4vF57qrqCOnu4Qvi0uOt47fnCes+4WHeSefP69fsOudL6oLxpu9m8rPt3usO8xb0zvV18y/s++uJ7+z1JPOp6VHo5OkG8Rzx3Oi56uTpNOhS6kLnS+sv7RTlYN274mnfk9yl4jDiTOCV3/zhjOh57f7vEOl26U3uFvN672HqEu3X6w7zQfKn5bXkZuZ57UfvlOqO4CvbddtO44DtWekq5VndVuTo48LiOeVI5pDkmufE5QHpZuYy5YTnUOZS6ljoZuam5Lrgg9ru4Wnsuuzw5Z/k/OyK8rXvYOk/7yX0vfEJ6xDq+uk86Q7yxvTt65vp7++U9fnzLOjK4l7yXfu28TXr/eLn7l//3PTS5ITco+sW82L4jev91oftI/2bAlTtvONs8CsAfwWS/in77+8dAN0DRflB8hzxxvSpAXYCdPLE8KHz8PAPAYH6VvHq8jPzkwFfAeT1R++V7Fr2LAEG/WvuHeem7+n9+QCI7oLkie9mAPn+R/v9+iH5B/+f/A4AxwMx/P/84/5/BFsFTfo09Wv6tAjoFKYJefkZ+OP/WwaqA9cFUwUr/usBHwTV/x3+B//PA5UFFPwp+g4A+Ao4CKD9mf7x/fcJuA3dDqEMwQXbCyMV8RdlCoYExQthD7sTeglxBqAK1xDPD/0GCgUEB7AMLxKgCsUAdf9EBFAMvw0kCwsGbwJ2DrAYVhX9EmEPmBXIHGEb9h92GsQVHRgvHYkhPx/YHSIUKRMKHPAhkCATE/URaxOPHpUcbw5MEUMPDRU2HY4cgBIxFGcZ/B2DI8gbzBbpFu8giyMRHC4bWx3IKC4nxiQzI38cnBwPJa8uqTCUJkQcxSIMLDgsmS+dHTcShx0dJEoxVCkFFZoYLCRPLlUrFCHUFzsZCCUgKSsikBSgFlseJygRKPchixi0HyUxGyyeK34mqxyVKOQxmzHBKJMkIy4ZKaciZCuWKmUunyxbHpEh5h3YKREzny36Jt8dvCBjKlcuNCUhH5oZPBtQI50p7ilvJrUhzhmOHcIq8jBIIj4euBqaGEAheyKIH0IYFRd+Gngdlh5aHLoc+hmUGtEeEh4gHcUXNxPuEq8Xvhd1GL8NmAr/Iq4hfwQK+ADzrQjMOUwoFv8G8sv7yBsEKssUNvfy9AEOWBlYDAgCrftsCUYTvAhu/3L6/AVhD/wRSgKO998FjA3nBlT5s/l8/qMDhP/D7l7yTvsZBXwAbPEA53znmvO1+7X7/e2N6sb0vfwlAuH7H/a1+y0D3gTN/9T+KfrB91/+B/5s/FT47fiF9e33Effk9R/27vki+0f8AP9P/br4QvRj+cYBxf0j/Qz7bPFN+sL5vfzi/Vv4OO+z+dgGfADi/fb6of8aCCARaANjBpUQWwZ/EBAOugXUCz8I7wjdD6n/Ifq3/8QJcQY5/DL9PwfwCR0BrQjSCIUOnRLrAXcDzAqFD+YRVgpu/x8D3A1eCu0FpQfCByYOewoCEPwc/girECkUDBSDFy4QKQgYEOATjQ8NFVYJNAJCDTQO3hDrGRwLKQhxEdkURxQ5FS0P4AhqEpUQLwbeEDUPGRFMEUkBzQywGc4OAQIaBwEOmhjSFIUOBQlcCF4XZCB2GjwamhiYFroofieKF1UUCxOuFcoT4RRmDNcE9RI3E+gUQxqMDVgNwhJMEfkMbgx+DiAR1xHhFIoWEA6bDygSahKKFqcWIBErFiIgGxTkDVcXohqPHw8ZoAqhDOcevSLEFQwI3hCFD7sTpB2QCfMOMRUFFeUQyARZDg0K0RMrFy8G8Ao9EC0PlRHVDRMIlhJAFf0TkRWgC5wE7xTLFBgQgwveBJAIbRdaEPsPxw5QDPMOtgvDCK8L4QnvCD0QIggtAxoIHArkDa0IzwRTBXoIrQhDAvIBvAiKCxEEZfy+/kIBxQCeCB8DCgWsB0H9VwDBBOcHtgv7Ay73k/9xBVsFof/k9Xv9GQZTBOH8yPcK+H0CSQDj82zxlPU4+3T9l/q77kDxRPfZ+p/7GPaB+v/8evtu9HXzT/1EBDf69++q9WX8LP/T/Wzwf+s681T5kwEp+qvrseoJ9vb6Cvi77fzgfOfG89b2ge7d3Yzpuvjt9wL2GewZ7Wr43vfn7X7qMuYD7BXyyOtI5XniQ+kP6FHofOfc6DTosutF7XrvmPEK7BHrfek86pnmCOm35z7iX+d64zToI+Xl3lHoie9j7rHpFdtm2/Dlq+vU5qLdONg41xzautTm1K/bAd6+2z/XvNjt3/7kr9s10xvY/uSX7vjmYd9+3mPh9+SS5ofgddt121Tir+YK4ILY7tYZ4fnn29vizizQft5m51XjntYh1pjZatVq4Vzi1Nub3gDceeKi6SfsXeTV3f7kOudY5+3swu2a55LnH+uk7D3r/OwX6lrrM/O56o/t6vIu64zpFudY6OToeu/+8C3qMeT45hvwQvM97PbjWek37kr0SvW171TttO5o9rr4ZfC67OrzLPMH86z5uvhJ/lT5K/JV+jf6WP9tAAX8iPorAMAD3wbtBD33svZm/hEEUwQ6/scCUwScBMcCX/6LAA4LVwtZA2MGKQgWDb4M3wW3//sE3A3XETILyQa5A14LHg0kC50Skw08Di8SeRJNEhsVqBc5FZIYlhJXCwgaah1XFvMP7A6mFFoc7h0FFX4OlA7fEY4dShqKFjMYaBvFIg0hgB2iGdYbhidLJ70iGBzIHIMiqSX6JjAf2yL8KHgoTiz4LqYstCrmKAQrdjGrKCohjx55H4UlSiWwJdge4B+3I78kkiPhIWck7yD6JV8j4SHAJ/Qo7SiuIfkjrCmrKNAo6CBHIBAmiCppKEchbiQyLpgtuyr6JpAgbiQ0Je4erSBFHkoacyB5HpwcUhu5G6Qc0R6XH8gbaBuuFrYWKR97FaUSXRVIFsMTTBFlFRMTQRffHSsXVROVEFUUiheuFfURfAy5ENkTmw51DPAJ6QoXD/MPDAnYBokJrgr2CEUFdQCDAHgFAQKTAkL//Pes+WEElvm49Wv67fdl/D4GTQcV/mf/y/wG/T0Fi/7Q96jzl+9r+7cAnflb7SbqL/kb+zT0h+1N7cj2JfQc8QnqfOZS6tjtc/De6yLjOeU55fzhgePq5mvj2uTn4jrmft5S3h7ojd/i2RLhjOjc517lNuDx2jvdtON72a7Y7d9L3mTj2OE42Hjg+dtR3QXkOtqh3B7dn9jZ12rVodAVz+3U5NLd0rfP69Cvzx3QcNPg1r3Ng86v2mzZANxk1yPOLdEV27Dnidi+z0fYKNXL2PXhwNJfz0vfYN1Z3hfdV9p72p7WRdXZ1xrXgMkP0L/QXMt301nSstPMzvfYr9sG2gfPvc530z7iTuNc1jXeQtwr2oTcWOfl3kDYpuM+4ufiPOnu4a7lxufp5fTfKOKR5TfiHuhG4+Xeb90S4ifgrOK+5njgHt3J4JzfPN4M4wvh4OLG58/qluLt4ATj6eVN7tLvN+6t7ifrPesh7fjyXO7v7sD1afdQ89/s6ONI5VH0Y/kn9z7td+sE7sj2YfbV6fvrOuZQ59jtivJZ9Unz3+yW7eb3P/oD+Hb0HPEf9qX6UP6k+Hn6cfns9k/8wQRJAIv/Hf4f9ir8xf5uAfIBAQId/6H/SQAq/PX56f23AboFWwX5ACwBawfQBQsGjwZLBI0E2Ad4BX8E1QFyB24M6gwODH8FzAs6DCYOOw0iFNwYlA9VE8kSihcLHoYbQhlbEUURABlcE+kVihYEE10VCBlXFp0S/RJOFIwabxprExwXVRRuGDQZCxOSGHsW+BZ8GEIZxBVCGMcaVSB7IhwiGR2gF0cgFCHvIOYcIxZDGowlmiTHGgQeIB2yG0chRBwcFqobLSYfJ04g+Rg2EXwYIy7nKmIcLBhvD2UWOiO7H8sUXRTTFYceyyEYG28PUg+zHS8dlinTFhAO8xpkK1on2RQ/E40bKiEiLJghbBUnENcRMSA1G3AQ7xOcEMsVgRQqCrgOGwkfBAwJXAgoBtPxsQ4V/iH54gss/yEGpwrdDg4M9ASxAzgI0gn7EGMSZAi6Be0E6gvqC20LWwbWA0URBAja/Hn5LPOz+Tv/DgBJ80zgSOWD8oP+fPME4zTpL+x29cv71PLD7tPxcPaL/uf6a+5s8Z35oQDk9bPskuem70j9B/Or4N/h1Ofo7wL3a+Pb2hXb3+H27s7oH96P1qDZOudP5QTidNnf1WPhNd/53OjYt9uV3/Tfqd0K4BTZZdkF5JXfX9wL4jXezdvr3aPfqNvx2wvhs+EE4zbgrNVp1NPaAt9S3tDUDtty1sza1dyH1a3X0tcw4wPgkNgQ083bHukt3gzkD9wn1B7Rjd4b74T0WfVB25LPRNSN9rz7auHLzK/P1+ws88j3NOlI2uvov+kO8tfraN735Mj37AP48vDY8c+j3jL9Rvp57cfqFebY7UPqSul1AXUBDvK98fLzyfhX/vX5APPh/G8Dh/j4/cP6jfaf+xUANQNB/lb8vvKd+JsC0wpCDZUEzP2pAe4H+AomD9QMOAk2Bdv+sQJhD0QQaQTuB+IK1wWrBa78bwKEDckSehRoD5cILgSUDywYDxl+D0MOfhuGG9QY8BaHEe8Umxo9HNAc/RPYEuIWpROgIiAd5A1aG14XHBbiFn4PgROIEyMWrhVxEuQaEyAoHTQZ8hl8F4EfhhsjIewmDyWnIRAbgSDzJowl+iVVH1sepyFnJFsp3x2UD74X0yJEKJIYTQdJDBsVqxwOGIAG5xP8KV8jWQ+wDDMM7h3PM2YX2wtXF7YLwBpSJnwYnRExFOwaqxyLGLMRgwsBGpslbyWqG6IOthaJFbUULhxfGJgK4wztEYgTrRRGB077TQbUC7ANjQRY/yz/fQHBBNcEi/7WAwsHJwQP/9b2FQCoC7ECXwFCASkHzApfAL/0Y/kKBTUDqgNd+9/s3fXbAHn6PPZ78drxzfM89sHsweu77gnrdfPG9K3uJei67JjxZ/Qg9wvt7evs9YX1UPMy8Ubu6fEL7SvyP/rF8s7poedx7BvvcPYB6RLiLusn7DfuF+mN3pPc/uNg6Pfk890n353h1egt6ijhWd7X3xvv0/CD5i3dvdop7kP1mvSA4pHaz+oJ66jnG+Qp4+rmqupO7wnq0eEB3R/fT/Ao+NLkLd403QPtUfT+5CXd4tlO42Xxcu6l4X7eEeBW5TzpZOQ24EHmiuZh6kvrUuoc5rvi9Ouu8Rv7JfSR8N/tWPMi+wT6O/Ty8zLyCPSd+Ob3tfAb7+rzwPVS9c/rzPFu/zH8Z/Q27BXymQDzAlf9bPHb8kUFGwkmA2P6HP3tBVUHpglyB6UHuwfMCtoJxArqDNwM5A24DQAMGwkCEBEQGhPyDS0PCxKFDigS3QLVAUIM8gzXEeEJN/o7AR8QIRMREbgNfAyBFBUWKhW1FY0QnBAOFwUVcghSG/8VoQwTE+gIuxIvHW4YtRWNDw4YzSP5GIIVWxHuEkwcAhtHFb0WNxIXGmkc4hZ+GvAVThTFIz0cDBTAGqIa9hNfGFkaexZdFX0Zjx+rHHsWbAoTFEwcTyIfGxkS1xHfHikrcR3hFewamCF7Iawp9ChlFjEUdCKEJN8e1RkLErQTNx8hHsUXlhIHGH0kyh/DH7Me2RSOHIskMSF7IV0gwh3bIyUkux+2FgkbqSSUJjslRyFcH9EejCY6L3go5BmrHG0uFzG/JdwYFhgkI3or0CmOHCIgtySrHNkfzxuSI78wUxxLEGkcByTJKUwpuRtSGnsilSgCKKIlZCCCIdQXbhnnH1sdGBxwG6oaxxpFHi0adhoLHtQYJxyEGSYbbCFMHVMcpR4cF9MWnBz0G74XZxnDIM4Z/R/OGm4YDSKFJosYxQunFt0aAhzRHwwUXRQQGxIdjBkXGr0WDRVfGHcbEBu6EYoLwA9lFRMTjA4dDLYK6gtyCMQJxg3TCuwD2vwAASAFawf9BhcD2/1I/fkB7QS6BU/8+f9yBycFuQMtAw8BNwdpBbX88gHoCAgONQQ09eDu/frxAL8CaANF7Ovpm/Xt9zT08+nD4wHpkO908kTr4uZs5fLnlOqS5zjk+ugb5Brivuci49TmhuvH6dbqf+sQ6UroJeiD5k/llOrL5ODjXOKi3eXeC+L94n7e/tfJ1QrVctdP2ULcttpF1XPYddwB3gzkZuaI1qvUQdsm3nHtCd+F0iDJ5uCV+KTg9dU73BfqBfA65zDLkNdc43TxSfPW6vDYS97+453slevI1GrWh+Fu56remc442GTjB+cq5U3ixOWs4jDjC+K560T2v/QK7Ivnhekp7xX9R/vE8PLzHvSE9DX2lvkQ9afxh/l499Hu6fGM9OLy8f2R/ZP0fvb69DH8jwYg+Cj41gMHAdsLTgkG/WEDAwbuB9kIRwmJCVkDYwZoDgoRtBMEB2EDQQshE4sYWhDjDFgMoxCVEBgQbg3cDKMP7RE2EeUPxBa2Fr4XNBlHFEEWUBjhFQ4YLQ55Bz4SUBdSGgQeiheCFQ8ZgB43H+QaWhtMHS4cIxZxHXAbxhkQGsQhVCr/IkwcAhtDGiMhTChBI6oa6CA7JLMeUhodGCEe9R2HHSUZ2ROUD1gY5BrxFysXIxb2E3gciiKwGTgU/RK4Gm0i7RwCHJoZShmIH+MkMB/4FxoeCh2HHnIfKRTVDVMQNBrmHVcXZRa2F9MVKhWxDlkDuQ+NGwgZ1g5xBfAJ7xR4HN0ORQZaEMsVIxW8FB4NfAtJGJ0Szg7bC8gE/AUHDBIShwWeCO8ICA4ZEcsJOwGUA/4ISAq8CAIEwAN3D6cW3gTL/ML5//zL/KoDiwD++zn8cfj1+av3dfPq8nP7h/kH85HwW+0m9Yf54vIk8371m/Vc+i/4zvUp+0f7VPg4+6r2p/F1/sX9XfAO8/Xsf+uX7/zsDuch7f7j1NvH3jvom+pY6LrgYtSM3XLi1uo06YzoyuIW3BLt3+yp3QHecuOo5mvvV+b215Lb895l5ZroP9fxzyPZ9+SB47zXL9Wm16fZPN7s3s/SB9Do17PVX9tc12nISdBE35DXE9c10g3NX9AS1TLZQNhHzXrM4trq20nba9cu0ybSKNWb3j3gKOEC36zWVNZl2U7YSNps2HDTPdQI0YrZQ95w047VC9YM1z/XjdK3zwDQ/82DzyjVd9JX267YlNLk3abXadT/2TnZZtus4uDjZeWQ4wfbC+Jx4DXfXONT3y3e6ONV4xHgiOOO4KDa6dmV393dnN8t3rHdW+Ck4F7lMeRN4XXbJ9++5mPtfOaj3iHhsemd7NLkBOJb4Kbkg/Kz+U/xTuNy473wA/nm93Pwoun97YX1bPFh6/rpYuxW8Ivzn+936oTnau1F+aT3QvOP7ifscOvk9G39HvRi7EvrP++9/N/5SvS+8yTy/PeP+pj8+QGHBasEeAXtBPYHAQ53DwkEdQFsClsSRxU5ClwHSwP2B98R7RBwEKMPCxLmERIe6gwmGsEoKQfxC4YQtRQuG5wcEgYp+pEigy78HZ0RYwdzFHUvWifQHSETLxJLJ7MpsCVkLLAkTCjcO+sxZCuQK4wxYjRZMV4uGyBDJjku9yy0KsUjqSUaKpIvhzQaK/cgUSV/NCA0WTF6LEkkiCpzOA88Ty10Lvw0bDhPOSg1Ty05Lgs2CjRWOak9/DUNLbM0PzdcNkguXCs0MVo/cTX2K4ks9iraOYg3cy0YKOgsdzJ6N4ksmSOYIaEw+DkMLNEf/yEMK4ou2y9/M98p/CmJLPAtvzEiLBUuaikMLLM1GioXJmYjVyImJ40nESiFJuQl2yP8KSYnyR2JIFQehRqGHLIcRR1FHSgeARptFhAaTR8RHLIcCx7+FG4ZXB8OGGsTuxK+FzMYdhmuFlYVMhdJGEAVpRLNGMgQIRJKDZoM9RLcDSEH4wAVAAEDQQtOCK8Ae/wc/TgJHgIN/Tf5a/rbC8EFcflo9mr5vfzxAJf77fgD+Vn1KfrG8/XsSPJC82Ptce2c6wLruetu53Pks+Ex5OPn3ekc5UnnM+f14FbleOy56lTiGuJc4u3gOuY13+PbjdOU0rzYbNig2a/ajtVt2hvYltVJ3CDVBs760n7ThdKR2djWcNMS1aDaG9j70zzTk9DR1qXWqdCDzhfRWtS/0c3Pg8+nzs7R6s8rzrHRStG30G7QUdEW0MDGr8N6zP7MY8uvzr3N5sh2xgrJbtDg19XRTMnXyObU/tiT0MvMHM5u0DrPk9Eg1BrWmdrI1ETT3dEK1RfRAtRe2iTP9ssqzTHMFtDA0+7JJMPwzeLZ4OKL3LXNFM052fPe8Nnx2p3g19+v2kbW0th+3sLi69xk1z/XYN2/6RfqVuSY5H3dot1s5fDlR+Su5IXdz96i6B7oy+Qj5QvuQNnQ1THwdvSK8oTc6vKS8svwQugR36L1mPwx/AjobOUL7kkAYvdY58DqL+0v+Ib3Juka7pH8bQB4+DPzIuPy3DP+yBBI/aTsYuCa6FcAkAmJ70/9dPHG3Jn9WwYTB371V/KE86/+RgfFAPb6avkM+x/2nPZw9vf7Dgu5A8P6lPZV+8P7Zf1yCHP8ePh5BgkEdQGy94X1T/xJAEUF5vgq8Cj4jvgP/9UCnfgK+C8GuQQAAUr1vvME+uD6kwKGBF38ePhT96sEPAPS71X6egg4CIv+l/qX+nII+AvjAFX7kfzJBXUBv/8RBNz/dP0eAtgHyfji/SgGfP7AA3D3Be9j+Yn73wW3AFL2Yvhh9hkF1ACE9KP29fg4+1H/fQIA/7cAA/if/FYKmwPyAVf+LAGTDZcI1P5d+yYD6gvoCMADCPWiArEDjQPdAp347/tX/f4JhAHI6wL3XwHI9o/6vf3/8WX9+gK0+ub3bv/dA3EGYQTtBA8COgyVEDAHSQDoCFoQ6hftEab7mwJ+AykHPQR+A/kBi/4b/HD2b/VnAtUC4fvy/973E/rAA1sF9wlbBQj1EvhhBJUQ0AUT+jL9rwB0CpAJBwBJ/gUJSAr8BXAEnQYqCcIH3AxOCWEDpvsM+1EBEgY5/YnwGfgd/tUBvwF/BJz2ngciCTEJvQpr+8cC5ALLFYIKqAAf9l7ypwp1/nAElQXR7pX4M/6u/LcAA/j+7wMGfg9OCVsFD/9iBVkPaRCDC6INrwvlA/QEa/oBArgNOAlyCLABxv8UCmgOZgtvAgP5xwK8CRYNsAxA/L8BoArYB8wLEQWMApsOVhXpClEB2AfMCiAR8w86CxwKpQfXEWEQVgqDCywMSBZfGAMRNhFrE8MU8RcQDsIG4wx3EAwU0hSvC5QOAhB6CZgK6AijEJQO/wpCDJwQrRPvE/YTWhCzEp8U9hPGGYkUTRPwFrAYcBsKHA8Zgxf4Fvoa5x5vGhYY0B29IkIk4B/tHF8YqhpiHQcYuBqeH4cdrR8yFmEQnxS4GrkbxRerERISBiJgJlIm+iX1HZ8hgSskL9MuMi4VI4UloiU9KA8k5h0HMIMvVCozI5cg9yHeJ10tQzJRMAUgLSaTMLM0/y6HKbUshTLxL0U0uTL8HSUlrUJgPdUxDyTsG5cryjYYM98p0yK9IUQnIDTEOIYohRqpJDMvUzNoJ98e3CVcKsoqeSrtM4wlFyWWKpwnrCl2JkkvAzU7JdIg9itcK9geqxxvGn8oDzBRJKEYBhbsDwga8CHSFBMf0R9OFGANuhFSG9ApMB/fEnoUthbbI5smQRfgE7ocRh+BH1sRqg/CHdEeoRgmDh8PcR1qHvkYOgs4CaQRPRDBELAN8gGrBE0G2gmdBuv/VQfIBGQI+wRf/k/9LQKDAIr9Mv2xAiYDmf2wAYsB1fQr/WACeQYdAe33ovXf+PMCmwMdAJb5YPRd/Dv/+QAY9oHujep29ZP0Reyz7bzkWPP89/fvX+f84KHnHPHH9cL5Nes446P2Tfrv7iHuPevx8vf8YviJ7+rnVuUV8ib1Sujq5yDsbPEy8qztpe4h7T3sq+xq7W3mdujv76rqCOll5b/cKuRm5hXm6uZt5lnpBO4U8ITnbuhp66rqYeoO56XuY/kt9aLoN+JJ8xQJof8Q6tPlNuwI9Hn5gO3k6avrletp9zb3Cesm6VXu9PdJAD/7NOiC5W/15/kq/Bb/p/G18Av6rfskALr4z+oh7bP5TPcN/bXwluFC9G3+f/ih80fvCPQ/B3wAqPOy9jX2XwGaAef50fmJ/IQBJf+0+tL7u/mZ/Sv+hveX+yn7rfoVAHX/tfyB+5H9bQAb/DoA3P+k+Pr1q/hj+l/+oP1m8473CPX8+NP9iv2+AJIAvfAt6QkQWx3F/Q3wNfa49B0YUxHE8Jb58v+5A5gJFv8U8Hf2cvr+CPUGdfP97fL0YQPT/Y3rSPJZAx8DlPby9Pn+bfJa9z/6hPRq+RcDZ/8g+MP6NQMd/yT+9gdb+KfxrwCHBU/9gfpY/7X7r/5LBD/7nfjC+YP+NAIHAcn5yfn48Sz03QOc9zfuP/okAJX4HvXv7s70XwFuAcn5au199H8EhQNf/8z9l/sE+or9G/wF/LX8HvXr/4sA6wEoBm7nBO4fBLkDzw8/B3rve/H8+DQC7wig/fHym/VRAjEJ3wbo+9nuR/yZCw8BVPjN/9n69flO+8v79fnD+pr/1ABs/Kb7ZwHfBXkHp/2r90/8bgHqAPj99/tm/mMH2AZ8/sz9Rvq8+5L+df6ZAAABxQCNBIgHCwZjBpsCbgHUCzoMmgxvAjHv+vRVCAcMLgQW9HfqGvpbBdX/twC+AP/8CPVhA1sRDf3F8hz9eglDDzoA2e7p8MYB4hbcDVDz5+3WA8kSvQqZ/kr0Zf0cCp76rvzPBDcGJf868+rzB/7E/E77+Qyp/0z4kv5e/YsAtfvh7/jxe/0P/0/9a/sP9Gr54Pqn/WX8ivKW7Rb0DfxV+5nysd5S6hL54fxH+xDqLOfs9ef6CPWT9DPzWPQo+Yz1gvEe9Y/5efq49B712e6m7/DwGew/7obrYOjV6df33fUl6Lvu+ee15GbygvCQ77rgFtxD6hj3GPd/6xHfC+Et6UfwVvBY6Cfsfuqa9FbwW+0N8LTjxPDR+nLuJunL5ODiY+3q8+XrMONu3CvmZf27+oftS98w4+v0oQGW+WHr++tm87v51/dO7zrzE/qV+N/4HPGs7RTxQfJK9BP6z/Y99yb1fPNz+8YB+QCP+WT77/q3/iP8hPRu8+n9LAH48XzzTPe6+An2mPAP9HH5hQIPAlgBKPk3+hMHQQvaCVD+KPiSAG8OgBJJAUn+xwKzBfAKFgzYB4v/hQLoCWkRyhMCD9IIVgluGSwYBQklAs0MHBeYFdIU4gs3E4ASRBBFEZgWDRYcFi4bJRlrFJcTHhm4GSAc0R9VExYY0BxhG6IanhMIGQsezCLfHn4bjx/RHgwgIR4CHMMgqSRTKFkm6yQ5Ik4sTixBI1IbVhU5IgYtnyz1HVIbyyEPJcQh9R7bIkomNimCIUchKiE+Kk4rhieWKcEopixALB8ndSO1LLUtUyiuLX0ljCYFLGoqsykgKR4mjyorIiwYkhirKOIuqxwNFiUZsidUKjoYXBOzHcgoRCcSHbYXHxv/IYsj2B46GMwWKSDDH9MW6RagFgMdLSaKF5wQ8Rc5IdsiGh5bEZILBRTAGgMdmBaUDgQIZgvwFegUQg2MDgUVQhkFFeUQAxIAGBwX4wwuBAIEPA7vFNUNaAO3/vMDZAiHBu0EZ/+sBnYNSAqrBM0B3gT3CVUH6wFfABYBJwXXBJIAAgQdAesCiwCh/xADRQV9As3/Qf0/+7cBwAM/+73xpfmK/b7+X/7M/df4z/au8Ynwwvk++PX59fic9yTzCPUg9+DuXfCU9bj0HfO+8pbtd+uX7+rzcu7z6gDoCuxx7KfxdvSW7RDpJ+t/6wvuLPN08inv8ORD3g7nT/Dk6f/lTOBa38Tl4uUp4y3dHNrA3pDk+OV54pnbzds+4XHh09lX2knbl+PS45vdatZo0oLkEeu/6Cbe+9Or4DToLPM65ofV7NNn3OjkVOHK1+fLnNQz3NHhzNqZzgfQctbz3rfc8Nh51njV/NRy1ifgKOKg2TnZ/NWb3X7eQdsk23rXHNpP2fbWJNoY1ILZZdko1uDXyst61zjkPN4c2fnQX8/42lrfUNqG00jZx96U3rfb4tqb3TjjOOPX4G3bmtw34pveFtyu2LrUadRc16zWIdYE1v7XMdhs2K7YpteD2mngo95F4EfYhNzJ4STamNgu30vet9xj4U/ZJNqo5ovc6eXg427cceFx4ZbiMOPx2/jZv90E4yzof98t3XrkMOOI4tjhleBV49beX9uA4nzm2eOG34bfmOQG5fXgneD24urnRe157dHtBuUo4jXqo+u77ifrk+jg44jjqfQn7F7lr+YI6CPxvvOm72vv6+ja5eLlIe2B7k/wuuyx6Rbz3/nX91HolexA8HTxmf3n+ZfuK/Je8ob3R/tY9I3qLOeQ+3X/cfht8nntcfjyAXX/7fcS+d/5e/0CBEn+Vfoo+Zz2/Pcu90f8xwKL/kf84/63/7f/jwbkAgP5IfqC/LYLzAoN/Jf6TPiSAD0ExwMzDBj2dPEvBuUP6gupAV/+FwNeC6QRLQO5A4kUUxAeDV4K/QeFD84N8gx0C4f5kQptIo0PZv4z//MCJxFoGiwZaRC+DPURtxifIKwd8w5UHQIcJBdyEyoJjxPPG5wcZRZBFkUROxkNItUZqhrCHfwcCx4uHMUXDhjmHGMeNx9EHJkXLRqtH/AhTR5XFuQZTR/xIzkhxhi1FVQdpR8LHrgZkRayHNYmDyW1IFMcwh47JTQlMSF3G2YY3SbLLOojWCTAJ6kluigiINsjSyf9H6chRyBIInYl7ilRJaQcJRnUI9MioCKfIekVPh1OK0wdkxnOJSkgAijNI+EUsBi8IO8gWx7tHCgdjh0bINwlDSEIGR4ZSxtzIN8dexZBFxoe8SL8HTMY/RNZDoMXIByAHuYc7xO5EGoSwxN+G1sS5RAQDvsPrhW6EUAJ6w3sD7sSXxiBCI4FdRgbIKAW0RLKCBISPh6BE1AM8gFOCfcUDRb3CQ8B2AbGDGYXYA3rAXUAzf5SG34P5QTIBDQCAwVWCVYKVwAAAWwKRAQ2BfoNJAu9/Sn6GggQDwsScAT79m3+/wpTEGkEBwAT+lL2UQF1AAb9pvvFANwBM//jAWr5bPyVBTUDtgpFBWcBVPg09Zr/6AlLAyP9ovUx/HwLRxQ6C6fwL+1TBKsRFg1f/sH4VglqElwI4v089kD8xg3WD6ICF/Vr+uMAuA2/Dez1e/ACBLwJowODAHv86wE8D/0Hv/8j/Qf+Fgy1CQ8CMv0z/hoIXAeRClECWAH7A/sDXQkTCOMA1wQaB0sDvwEBAvH+WP+cBJP/XfvcAZ4HxwNyCHAExf0JBKUH0QaQCegJJP6EAdsASgLYBqEBmgF3BPn+4v3VAnoINwbx/qEB2QgxCYMAVwCE/wAA7wgMCOUDa/qd+VYJJAwXAz74ePdDAkELWgS2/a/9kf1YAdP9Xfy9/Ff9EAOcBFb8/PeP+mf/jQMfA3X/w/sW/zoAXv1/BTv/pfqC/IP+hwYaCA//s/lL9pf68v8z/sX+7fjM/en99fkd/tf4cvqL/5H9qACR/CH6HQBy+kf8rfut7zb4oQCH+Cj5H/Yh7ffvfvVa9tPxE+9x7aPrfvV7/Nj50fmq9QL3/vsZ+G70WPMQ9kX4Gfmi9Ufwie9Q8j/7eflc7kzskO8g+Mj3C+5F7fjyyvp6+yPx/u9S9VMEWAxZAxj2COnu7Xn6Uf9j+kfwFPDM8eryQvTK7pnyefoV/e/63/kB9UD8mwIeAsUAHgImA7ABX/7B+P/8UQKL/9H5sfWH7FHoJ/fC+Qbyb/VG7kPpsvYe9C73KPgL+lMFsAHr9BzyV/0JBJAJEANtABX9Hf6CCbwJIAVt/s0ANwYpCOsBxf1DAkQE7gZCAaf9+QBf/l79tPqw/4cFOPsq8PX52foD+F799flh9rb9owQDBiP9Vfv6AlMFzf///IL8pAXZCAoFFwMDBWEDZf0s//oCoP3g+mzxBvKeB/sQSQF65H/ryPY9BQ0KT/CM9ej7Qf4rANn7s/kd/mf/s/mV+PDxtvKP+if3HPHB7F3wr/3RBrX7Ru7J7f/xmwMzANvyOvJ78UT2XPp08krpAepM7DryxPHW6o3rkueI7lj01ekS4sfpafcA/y737+999Jz3yfkT+uLxq/hF+ZHxM/7+8Hfq5+2I+vL/4fvX7N3p/foO/i/5KvBr7+DuvfzD+1X7MvEs8yv9vgAb/Cjtc/Cy97fzDvMh7Yz04fvxAIH6vfAq/PsDuwZxBTH89fhfACwBWAG9/Ab94v08A/H9BfDD72L3HwOqA3TyQ+pI8nX/0QYOAOz1efouBE0GdQEh+a78aweyBEL/7/oK+BX97gYuBJ/8oQABA1QGgAarBXERsxEcClgMkAkCD8sVlA+8CecGHAtoD0QQRwkkCwAN/BGmFL8N5A4BDk0SCRu8FLYK1Q2mFM4ZAxILE9wMJxG9FiMV6RXRE5gVvhiXIAwU/xa4JdkfLx0EHh8blBrMIhYkGyFnJTEhLx6iJbIoPioCJ9QjbSPjI/QnjiivItgevSJOIBwiMyNsIQ4XPBraIaobvCB0Fq8XlipNKhoeGh4bIGYjmCxCJHgc2Cn8KeQl6yXjI4ApuScaH78Zshx4KcQs6CBaHBcavCA7JLknwh0bFT4dRh9wHDEU7RCXE5QbIiA0GowObBWuIeggWhsXGp0SYxLGGHYO/gmFD+0RiRSwGQ4X9hP/FjIX+RhMHNYaPhL1EQ0WXxgyFrANow+HEfgLOgvqC8wKZgsZEXQL8Aq8CHMJEA8ADAANkgtGB28DTQcmD4oLvAjcAa8A4QkQA/kAmgGp/6kBsP/OAoT/KwDn+df45vhB/vgLHf+P+ST+evsOALoFRvrX+LT65PV7/F/+VfvD+zT1FPHi/ScFDgD79gj0/PcHAbMFL/lI8R703fWB+hD2B+dG7qXuvO8j8ajm9eyl+v7wWOej6obrxPGS/kfwjepj7sHrlfcO84zpc+QO5hzy5fb0627nvubO6NPxXvHr6Kjmoeff7d31L/gI6YjiAPP48jv0l+5x7BzxePcJ9vz3d+uM6Dn8svdt8t/sTOzh8BTx7eyr6wXwXvH17TDuTOy77YPyavlx7TnwzfPp8afxeuRy+r7yJejy8wH17PUK+Evqn/Aq/Bb08fIg+D/7i/MW9Nr8V/1XAOv/avk89aT34vK98Wr4ovWJ8IT0E+5496/+kfEx7zf5iv3y/4YEeAUnBcEEaQTb/tcFkw0MCbMFk/9n/9cEpQbnBl//X/50CoUOdwNZAsYBw/qR/UIBMAf8Bd8F+P3p/JYGSwSWBjIKegieB5gJrgnNDMAORghsCVcLaQSeB3EF6wFXC1cLtAgIDrMREA/HD6MEfQKQCO4GLA0GChoIxgx8C7QIkgvDCOL9YQMMCFEN+QzOAskG+g7zDl4LlAMPASIJ7RDpFZgV1Q39B7YKHBbGGFMQNQRxBjUPYRBgDlAMMAcaCDoLXgrtBJ4HYgVfASsLmAofBLEDUQEkABMHygdr+nP8ifueB3wLg/7FAMIHJxBCDKALlQTRB1MQmg0ODKgMZgt9DUAJqACWB+8IOgzhCUMDtwFl/Dn8+QE7/1XuKvDq8j/77APD+sj2Jf9LBDUD0vt+9ln1YviUAyz/GPYq8Zrzp/3b/Wr4C+2m7432WvcR90v2SvVj+uX2HPJQ8szyLPOc99sA+fPf7fLnQOS28o74oPIz5/zgQugt9ev0xeay39jhA+1k7wnrBuXQ4Crk0uML4cXa+9745v/lbOQj2X/UUdza5aXtBOLp2jHYu+FU4RXaRtdu3MvkNuBP2QTWc9gn37HeHtEKyYfV8dpR3Cvb49B7zkrRhtQ70GvLic250ofVm9G4xgfE/cu0ypjNzM4UzSPNIcqa0H/UeNTt1OrPpsy50/TT/80FzM/Hv8Vyy1XL4Mvlx9e9JMNtzzjLWcZlwvfANsiL0OvRwcjbw9jJS9Jz2PbKU71KxknQK876xRTBB8Pnyz7KX8QIxTDLiczCyeLCzroMy+XThdGfzOvFbcImxxvNqM8RyK7BV8N3x2fRAdLr0PHPO9CCzQHSBNdlzobTGNMVz33dSdzb2lzi49uv24LYntZ82wXY+t2u2AnT+9N33tbe6Nia3KfaSt0B3ojiluEL4Ujl9uNv6gbm0eHy6NXo7u277VHoOOQv7G7zJvUc8enlfOaw9L395fZP8XDrOfHzA3wAaPbF8qjyifyh/+H7lfcS+eL9ZwGMAm7/gfupAa0IHg5PCgcAaANdCSkTwBqVEBwLNhGYFYEgeB3REs4NqxAFFYQZfg+vCxsVXxjeGz4ScxXgE24ZmyaOHMAm6SIrF6wpEh66KfAtTyF0LgMdySkXMnAndiU7Jf8hiCqGM1QqeCgpKz4q7ipbNcstcioSNgkycitnMIoupiw6OrE+VTclMXcncDOLPMcyLTHbLzMwmDlTP6Q1VDbyPPw1xDiCLDI57EmmLFM0vCumOMRFQz1FNFQqTjhDPlVDpEBTM4c1YT5+Po5AOz3qO0M9xDjlM3ZILT6rNNFB6CtTNMJB8jDqL3UvGCgSNYU9bzE6I6YrVDU7Pag7RTTKKws2mToaNy0xnCflMlw2CTLHMjktHS80MYsvbCzTLs8y3DD2KvEjXy/uKnsuti5YJHsWUxyGJxsslSi8FHMVCCWQLOwmFxrZFN8eMyN2JnEedRhEEB8QORYuG+IXGhMsDTgIPhJ8F4QMUwRWChISTROEDaEAiAddFIYQ4wHn+UMDggrWAyn6xv91DDwDtfym+7D0Vfq3AXwA7fjC+SX0KvzaCa37u+GN37Tuz/aLAJrzMuZ05Tbsk/Ss7Urp/9oI3enwkfwu9uHMG8GL80sPIuRx1RvkttkC69b1UdBo3s71V9tt5sHrR9h72TjkY+1s5cfeudLI1OPc4NfV3Evf09kA3Afcr89q4bvtmOUq2QHSDdlT4Efk+dxi1V3Y1t6u2crWONdk16zWVOKf5F7avOSr30HbLd6T3fPeH+qK5YbfeOBM1dDVnN+04srX/NT81WfdI+Vq4TLZ59ZR3EzgauIZ4b3aQNnR4lTi0+WY5FjcdOZS6pDkkOMX6tHutfBW8ALrPOo89Y/6oPFk5LPg3+x49wL2uuxR6HboyOvp8fzsOuZW8N/5fvao8vfwwPZGCBIGEPVz8IPyefrn+oz02Pmn/N8FgAZE9jL94fuz+DgILA2TAmQJbgxn9L//CxPYBiUCrgkfD4EH2QhyCPYIbBU/E4IJWP9qBgAY+SSdHbkQNwfXEMMfBhblD2kQ1xEBGkkYcxX3FX0ZmxpPFj8giRRhEHwj3CXkJsUXhQ4LH94o2Cm+IygSUhq9IdYm8SKLJIYcLRouHAgltCpCGLEaQhnpIW0vKSBOIE0qYimOKekivCA5LmUu0BwbFLkbuCU1MhUu/iBYGL8ZLTH2N1oz1RkJENMtJTwRNHgdGhOMJfw04S1cH3ogmSIxLOEscBvPGzYo6CwlMTQlhx5GKkQnFSL5I/IkgyNeIiApoycYG2AaGyGxJlgkwyCmIGsgViHNJMUibhgDHc4aqhvFIt8eqhvvFLMS0RJPFXsWihfXEdYOoBbvFBcPbAraCeYRjQ80DdwNwQT9BgwI1Az7EB0Mcwkr/mYLrRTqDG7/AAFLD0US9ghP/Y73b/WyBFsG9/zn+trxnvrqAJ35dvTa8b3wsPTi8WvvdfM687Xwaezf7Bzx8PFj7kjywet26V3wqOa04rTjMOP/2rbll+7w5C7fbNhM1FThQuds2brUNtQi2APhddyK2Y7UadQZ4GngQNhw1DXTTtiy323bVNUu1JzUpNWB18DSJdFg0f/NaNMVzgrJV8692p3VHM6YzVnGKNUV5sjTCMaT0ZTTpNW2zizEscZ+0zLZQtBVzHzD+sZn0ZHZO9FGyw/RsNAZ1c/T2MlAzfzUKdfJ1UHOvc7l09HWa9cm0y7TWNAA0MjTstQE14fVytZl2v/a9NT42TrbFtzX1BvYctcU2RHgSt0m3t7fLd2D2+bg893m4c/f5uH45XbohOdg6NTmkOTy577mYOhU7WnrTOzJ7Lnq5vf/8SDsA/m1+90CUQI4+xj3ifxx+Gj2nflu/80BG/u+/kL/wAO0BzQCTgiQCGwKOBRsCiUCkgtLD/INjxKvC2gOEBtlFWMT1BdsIT8glBvLIKEkNCXjJEctbjDKKtosMS2jMlw3ayuDIqsoCTP/OfA4HC7pLXg1nUCBQhU6TTYNOWA9wD5ARas/QjxVQ5RJCEhqQZhEA00lVGRPvEMlSLBU+FHgTn9L4kWnUdFZvlO0TsVR61S0WUhR/U3GU9xUmlRcWSdXglCUSoVJ1VSsWX5V8keUSfhRtlHFUiJP9UzzScpOy1AbUEpUbFCYUGtO30zoTzFQCEl8RyVIeU4jUVVOpEyqSfhGAko/TrFJFEUISd5KRU22RZY2xz2RRSVIDkbrPRA+TUJARANBBjlvMgg86jtrN644nivsJq4sXy9iNDswFybrJXYxjjR9MYYnVyIBJb8wcjYeJW8aZCCnIWgnrSvwIeEg/B1QGLgaRBwXGlsdQRd4EXMJPwiQFCYO5QQuBJoBowQnBav4D/9sCXYCff+t+p/7UQFvAlD+I/wP9DDuRe2l7c/rYOmK5rzXM9wq5OPcFdtC3HTZ0eF333HVqtPb2pTe1+Cu2DTRFNks3NDVFtCXzPfMEdTk0UjOjccrwsTB28MuyN/JfsecsBO/RMiquri6ha8EsyHKPchoury1treyvJrEDsP5uMa5nb7AxzzHa8DlvFK7l78Hwz+/m7oZvoG/4rd8uIeyEbCpuai4Y7KHsXq18LY6t8S1zLdisQ63srtcvyC9VsGhw+vF/Mh3vPW938mey9TPkcKwudPBvs8Oz5jN5siwxRrL/84bzfLEvcFswaHDPMf4zkPSbM1IzvfMO9Ha2QHegtmi0YnYDNdR3G/d/NW22dPaSNr039DgT9kX3UjmWOeD5oLl/eL45hnsGOv17Cnvx+q354rlo+uC8Nbq2+ZT7Ob4MvIg9/jxSunzAl/+hPRuAQX8Qf5W/HP7nwncDIEIdgKXCIET5Q/IBG8DNwZ6CeMMcwldCc0Mfg9jEqoO8AlQDN8RUg4JGzIWQRYvHrseWQ4JGzskGxQIGXESoBaUGmgafBfOGXYZZSIQG2gb8xp1GGEnwSiJILglEyvIKOkh5xP+K0k8dSP/FqAWMSCIKkolWA2+L3Iq0BHGJLodUifMOuEt6CA1J88yFiTNI3E1HC7PMqk8HSMRHF0sXyQNLmopLxIQGv4s7DKsKggakRX/IT4q8C35I3sVnBtAIY0noCJzFcoTbyVHLeMk/yH/IUIYLx5VKzMj1RneG/cVHCLFIg4YuxL0ECAcqhoUFSUNzArkDZwQ1xAmD3IIbQslDa8LZRWDC+cS6hfqGOMY+g6qDnYOaRDMCnIIGwkBAn0CE/s/+vMCHgKp/wv5AfWw8/f8UP6F9Q7yRew292r5/PdN+R70I/FH8DftwesZ7O3rquqW7U/xWenw5W/qYeqf70Pq1dyK2vve0eGn5SHiE9fm1arT9dVU1tLYp9qg2l/bdM5o06PTeswa19HhltVtz9/J58om0zPQ7cgqwa2/eco9yI/KrsF0tjPE7McxzQLILrweuu/AvcKnwnXD67nFtzy7ScTcxEq6dawjqja86cJ8t5uuO63NreHAGb5nrXyrWKzusqbAt7gTtCCxfbmIs9moq6QArLi5srxCrKOjgqr7sMO0QqxbpqmtrrVgrrCt2KfhqcW38ateq9ex9LDRs9avda2praa0o7CwuV/Dc7TOuRG92b+QwMi8icCAvvS8R8Gju4q2a8BOwJO5XcADvfWy9Lvvv1LGwMcYuxi89cnr0DPPnsvAxxTNg85S08/Sis551oPb6NefzcHU6Nfk0u7WwtU21dff0tis1n3cZ+jm7DnlVuVu6Djva+468jHvQPDE8fDwTPcI9M3z3POn8YLx1fSy9vj9p/0G/QwIFgEHAQMF0fpBAF0J0woeDTwP7wgaCB4OUhurHAMSdxDoFN8dvSEbIVQdrxeTGf8hFiQZKVEkfRkJJ8EoZyX3LE8tiSwdMKYr2y68K/AstS2KLlA6XDbpLo82zj0fP2Y7zS+EME1B+kmaR2NCTjeoO4xIwUsZTXBKQETcO+1LR08dR0JHrkWhR5hQVU/RTVlJJ0vFUZhQME6qSrVPOE/lSwVP21K3UtRSo1aaUzpTnlqjVmtOc1A+TZdPYlcYVrROG0+LUtNQYUvrSO1MAlfRWVFUH0qoRjhPmFx+VVdSC1lqNqJgTn6LUzlFDjrlSyZhSGncR4wxEUvmWBxdOlMURD5BfkkBVf1N70PxOpBEu04KTIQ7vDgxOANBoEaCOGkzjzYOO2lAWTLxL3o4zS8iODUz6CyqMqs0yy3VMFwr6yRaJyAo7h0FIVImwh3WG8kdQhn9EnoUsCQ5IZsPMRRDJW0vVB0DEqEYmxpgGuQZMgovBmAOHAuBCMP6o+sf9ocF+Qzv+vPpee0Z+DMAZv7m7C3puvi7+Xb1QPEf3/PpifvI9uXrSdvM2sP6XvLS43vZotE65iLvjN3e00DY+dzK4vzU78xXzybSHNrM2cLWv9AKyN3SltaKzoLNO9Cy063XtNZfw3e7OsTI1AbaG8xbvgu+AsdIzm/S1cVetqm5Ks0Q0ybGU7EIrbfEk9HXyA7EdrrSwKTIBcEkuMK+wMeuzVDEmbfcuSTEXMtLxyK1wK/XvOe/SMJjv1C4P7QnvL7D9b18t2XBwMYcwtvCMcFfwzTGYsgTzAXMl8u3w4++G8xlzu7JzcR/yFHQ/dYH0DXH4cwayk3WiNbUz0TI0swi12rWTtfjz4fVad+N39HhneEk24Tc9+SQ4/Dkv+iU6nfqAerO6fzsf/d08dvmbebp8Ar3zfO46R71qPP586T3oPLe9tn6wfiR/GX8l/vdA2MGjweOBbcAX/9OCJ0R0BF9DeMM3xF7FWYMoBbmHMEcUhr4F5saIBwLH6IlLSUrI0kkQSLoII4pqic+HlUgwCbuKgopwil6KzArLTLNL5EtGyzKK0Y2+TzeNKcuvi8iOF46JDoMOGw5tjlrN4A1/DR6OHU8vzxtL4svdTwRQE44Ijc7PIdBwD5yQltAXjosPLI/BUT2Q7pA0zmgOrk/ckLXQHc+vzxHOAk+KE3kSLNBET8APANAYT8BPv02qDvgQjU/qz8iNyo48DncPPc4iTh8O7EyMDaSOx48vjr6MZAr0DTsPrY6izB+Mtww+TA1M7Ut3TLBM0EvXCq7Ki0yfTA3KqwpjyrWJjQldyc0Jh4mCCZOLM4mOiNpHGUWjCVEJ0YfohrJEfAWUSU7JcAPeQYAGLgmiSHjDIv+lRDpIcMgpBEVAMQJxBWzEX8Qmg3PA7gC7wjvCBYBDv46/kkBsQJ0/br3qP5bBe/7VvFG7qD9zwNb+Wzxpu+v8l/zcu735Kvf8OQL7Qnq7+NL31Dbm96m5NHiud8t3UDkFuj52//Z29qY5D3rDMzyxc3b0OB02qrTAdEY043e9tezyYDJo8e0y43Tpsy9whDHc811w1/DLMXWx8jHTcvxz0TI9r/NxLDQLca7v2jHLMUoye3IDsOTueK3LLlFvZ294bWntku7Qrjxt/+2gLIAuaO7WrzPvKm5gbSntjjA6sNFvTa8PLr+wDTG9McSviy5cr8UwfHDmsS6vdy5c8ASvgbCQcLyuGK9Gr81uxvBfMO8wBi8tsIpvwm78sTNxCTE/8GBv0HCYshszTHMBMsMzLnHFc6S26zWn83bzmfQydU83uvcWdJpyBzZBNeJ2GTjm90e3TnlwuHq5ln1R+9F7HfrhOii9b/0QPCz+QX71/d/+Hn5FQDIBJIAh/m1+9sAiQk6CwIEtwAhBnUMFw5sCugImgywDP0SZheqG+YcOhdiHS8ewh5NHyYbPh5nJeYpsSZLJ3Ep4CsvKV0sQS8CKKctWzQDNZUzGTXeNOc2pDSVPwNAAj97RY5AUDpFTIxUEUDHSapKM0eGSlNMwk2ESEhplmSdQPk7G1DdbLNwe1GKRehPXmg7bGtbDVCwVI5k8WqcY3Nc7lkDWHJm2WbSW0ZZCFSnXMNm3mICY79g415qZHJmJGr4aIhlwWO5YftiF200bDhn7GJcWnllOmmkZFJiJWBAXIpdbGd4Y1BeZVwqUBRc41/nWVlhJ1ehUkFeY1oLWedZvE8TT9RTg1JzUBFMNEkOUg1Qa0+4SU5EXU/APpU/EUBTP5ZB3T4ZQDs8Sz42QCU8FTrnNlMzTjciN/02DzA0JUMmhigaK+Un4iJiHd8eziUmJscayhO1FQMd4B9ZGqINyQYmDggOqwVhAxcCrAf5DNoJQwLn+hv84/+xAsD1SvWd+cj39fjz9VjoBOPA6v7wFuhW5cnh+t2z4f/lyeCC2MfSOMw13j3UStGx0WXNCdKJzcrKv91XzrfDJ9SU0wbOrMmrvS26k8WKzrnHVcsav+i0srtkwJnDGLs/syiy8becvHW4v61eqqOwLrCes/a0K6sSpm+vVbSHscqzSa1JrLW1T7aHssCvTrSttIq22rb9sw64Na8CsJq40bK1tc2s0afNrciwYa8rq8OonqiTrkG3UrtItx+vxasctqS9UcU0uXO0FbflvLfEeb8bwLXAubujvFy/l7/JvoPCHcQBxuDKpcpfw9a6S7z5xODKC8qMxVfC2Mqvzq/O7dS0y/fMZNcC1NrZ/eKj3z3gf9+R2T7hGOvq5ojiTeG74jTp3+zS5GDdbOQ86hfqP++28cntkfGg8uHwNfZfAK/9Y/md+L38lQRPCjIKHf4gBSkHvQo3E0YI1AzDE/wFgglHFbMe0R6rEHkHpwrWG8QhOxlFEt8SHBZNH/cguRvUGL4XiSF6LI0n9h8SHeEgezmpPJ8hjBqVKOI6rjkaKnogICjGOzo7gy/4IpMkiS0SNXI2MSx5KsorFjCZOtI42y6FJp8szTxeOnE1HzPrMDQ8BUQbODUziTjrPZM9MDfpLuovCjX2N9g2Ty31KVUrzTCnLoouHyeQIBEoTCgBJkcsziYhHsYlOi8nKNIgXyRqKfszYTPsJ0cgHCLQKY0yDS6GHFsdPh7VMUw0FyatIKQd9h88J2cliheqG/UeWx38HBsVbw9oDiQXARoCG0IZgRQrFn8R0RLNGLoRDQqeCPcJRBAnEGACLP+lB4kJRQVB/j/7gvwuBHkGDf2k+OH8JQEP/5f7dvSK8bP5MfwC93zzeu8F74rxjfa77ljn3usO56DmsOcA6CXoXeSS5jHkzdtW2andXOJk5HffxtC61IvbF91z2N3STNWy00nQS9Le1DHNKczbz3zPl8xxycrKNsnAxpbJqsbyxdm/lLr1vpS6yLxWtTWvLrzlvD28graCqUWyQ8bjxNGzEqd8q/K4qbmDt1isW7FavE605bDotGqyQauRqvmtgqpRrV2pLKHYplisRqfQplGib6Ntq7OmuaRRomiYx5eboiyhFJ6nns+YQ5aXnLiivqAkoDal46AUnv+faqcwqJamOKhYoc+jQKqIp8SdCpk0l/qXnJkXlk+T8pb6lwqZOZ72nGiXy51GqC+lCaO2n/6diqqutQqxxKk8o9SrmLaMuRS2WrB/sRu1CryGu2W2jbBTsXmzAbo9vG64prRYuDu527fQveS6ar6jx6HE/sAOxLLI2cs5zvzJOc6B1xXa5NKA1ejXrtgB3q7Ze9kH3LPhbOSq3vnc+NqT3FPfQ90v4X3opOyl7Wns1upf8036ZPuH+LP4Uf+VBcULAA20CIAGBAhsFSwYIxUnEdMK5A5AFTEVdxAZEZsPKhWUGusZhhyLGMYYnyBrIIQkry8ULc0wGDMqLYsvljanOa03Qz6TPME0Kjj3OCI4BjpCO6I91DqNP6I9u0GzQQ46ADxnPMZHSkgyOV1Dkkc4RCBMX0cARyxHn0P3UCdjSF3xUV1PM1I7X29sV14oWExkLWALZaphWWGUYjFcylrpXYVgHV48VtFNaFUcXb1c6l5wY0Ngq2O8ZthliGY+ZFdeV14TZtBvhW2YaKFf2VokXkJf71qKXblhvVwiWp1YzlVnVBpORk69UfZa2FgmVS1VHlQgWEZZ6VAZTJZNl079WtpQe0VLSi9MiVBCU7VEL0ApTl9SzFGzTKZDH0pDSTFEcD9UNpc3vDgFOPA5aTT0MxYweiyUJwInyCcvKTskEBrRHkMlICh2JdsjTR8zJAcj0yGdHrMRiBPQHVEZihfpFeILnxWiDrYLggk8DpMNgQgECMcC7QRJAB3/df68+3T9Ifna8UX4ZPta9gXvgvCn8Pr0GPeD8rPtUOfw8OT0EPZV7mDp3enH6k7vEex05bHeyeEh4eXfO9xo3pve0dYa10rRMNbS17LUpNR30rfQA9U10rLTAd0q2QLUnNQt0ZzUItjv1ynX+tF4yTnOgtix0nXQK8+nzZHODc0EytDJTMhEyF3NI84ay7XNkc7bz5nPYtVh0m7FTMne0//ZKdcfx7fD3tO12IPP7MacyIHMHM7gyoPDSsUayijKyckUzfTIe87e1KTV29rL2D3UgtiM3Z7jfOf32NXQntc139Hi9tcFzBvModtE38TZ0NSj0h3bkOMS4nvZhd0s5zHwXvE65jfhX+e59in7ee5n6MntDPtl/IT0Pu089Qf/sQK7+mbzLPPe90EA4/67+o/6u/oB9bf/tAgnBPH9r/19/7ANwA++DLwU8ReaGCgdNRs5FvUSkRW0H1EkzBbqCz8UlyBPIX4aLxIEE1QpUjKfILIcXhdNH+sw9yzRHi8dGCiiMaQ00y6AKiEq7DKmOB8zUjJgMYA1VDVYMCg1cy2jM4FCxjwqOWo20jjKNyU9CDw4OLM18DjvQohC/kTCNpsxejipPUxAWT2kNEszfTyFPqZDUTz8NNJDxUboQ6M+vjs0PRBKNUqJRPk7hDviRr1FGD+iMQcwGjdZPbA79jczL80vnjYjOWM2YTPmNJ84vDi2OaY4JTETN1s1qDsAO0ctCTM+NgA7nyx7LY4pwipFNEAtuSfrJL0hbiRvJpsmYx9iHH8coibNI2AaeismJ6soViEoHlEk0CmHHvoaICi+F0Qb9h/PEK4VvCBCGLoRFBUIDY8GsQ4BDt0OKgnBBVcLlQS6BXgF/flj+pAIVwv7A576m/WF9Qb9FgF39u34IPjQ9xcCDPu28aL05/qL/v35lfeN6ofszPK+8pbtFOSX49Tn/+UE1lvV5d8v4HfeQ90+1QTXX9tF1ZbWeNWe10DZzNr91grVltUC1IfVJ8hqyRXOvs+ty6HEfsaMxXLLTMnvvxXCYMX+wJrFLLiCtmjHnLtguVOxZreFxl/Dy7UerUir0bNZuuW7Z7mftLC597WPvrK7xq1vrp2xu7IIuXO1Ya80rpSvMrY9vTS6uqaRn4CmeLFRrhKnnaUbqa+rz68duOyvArD4t4m16bYOuIO3+MMXxpG2nbHNuDrDksOQtCewY7MGtjy7Wrxvruqr77QZvYa8kLWutVq77MdMyNvClb2yvGvL+M55y7TK/swJ0pbW2tlq1uXTItd90JHNWdKn2VHcCdK9zSPNRdXS42/eVNba2OjXOudP8cfpv+nV6bDodObL77b9aQShAajyzfNl/fUFmgEAAFv5uQTYElsFFv+z+Wn3rAcCD2cCVfuZ/SUCVhVxEe4GlgZ5EiohwyBKDkUSlSgPJdIgNh0CG78lii7NI/kjGSnzJg46bToSKuAqHTDjPEs/4jmIN2AxTTazNaw1bjz5PCc/njY6OmE+PD44RJdDZkcvTKNLolTeV8RQxkiGSgpYuGDxXcNPO0iiVQBfxV3EUIpF6UVOT8JZJF66V/hSc0+gUZdak19dXJZZBFlJXyRp52X1WNJPfFLrX0RjhmIYV71QlGHpaOJd51pYVH5Wv2BwVw1RfFJqWYBZv1SRUDZYtFpQUiNRUFO1XPNhAlZESvRKAFPTXI9aEUs+QeVLQVIaTq5EUDvtQGlLy0RWRBNOtjpUHcw5Q2FFTH4+ATGsKR5IBkabMhcyh0BbQI82CDxgMe0zgjh1MGU5oC77J1Qpii4YKLIb2yJ2GsYZhSWSI/Qbmg3sAzcTTByQCaobdBazBW0L8QswB4cFLQ7lA2n3dP2dBmkFqf/h8Mjr//FQAEMCUvWI4sfe//GP+tr8Ceup3CrlN+7B7PXVutXR4nXbD9x41SzEVMno2AjdB9stxgS/H9Ie3QLTl8v4wmvAjMYQ0q7NxrmPv1/DaskoysK+d7yHvY++ScRpyDnC5LnatY27tsLVxWK9Wbp/vLbC3MTfvm65xLWGvO29IL3uvrO+0b7OuvW9drpEvLDErcBQw6bAPLtZujK2YLkexoXGzMMXujG1IstPzcm9FcOQwHPABs7QyNPCNcenwWzN09layODLadSfzUbLPNMt0YLNosZwyDzS+Non1LbOLdJT1N3ecuI83iTbS94I3U3hguWK5fjm4uaw6G/ptOJ674739++77VDmtvKbAsn5dPIz84nvPPZV+kT27+6X7tz0AvfJ+X/4i/OX+lf9DwLeBBoHaQUXAo8G7xPDH0wceRNDDgMRJht7Ijoj2iGgIpoYGh6MJogfmCHDIAUhzycJJ+wb1COoL+001TBNHnsiNypIOk44/yIKHCgqUz9QR4s7tCosJKgvs0yzTL4v9h+IK7VEQVHjPB0kmyYiNy4/ADy5M2s3N0ERQOk5RTVYO6RA50HmQK44FDhpQP9Fh0CVQNw7STwoQTw+8TrNPC9ALDwKQBNDNDy2OWo1QjsPMKwqnDNGK9g19jYwKj4pIy7vK0YqKDXUL2wtGjfVMXMthTGjMw0twin2KtE2JTG6KL0hRBx8IxAm7CdzLPIZpAVOCGoSLhu7H4QM9gebDiYaHhrAD3gctAjBBCgS3xKGEHYNCwazBlkOfg/WDhgQNA1TEd0DZv43B2YAaweyBIT0vfEm9fv2sfVY9Izo6fBc7o7sEez/5WXxdfPa8JLmd+sW9P7vROus4l3kqehj7e/jGdVf3DXePN6x3fLcbdpdzSjKv9AC0/3Wr9ph0+bJDsQEy7HS+c+lv5S78cOGx53J8MFxvn7GTcs2ybu/Gb2XwNvDKb9stnO0rLL4tyS3P7Rltt+xAK1grrKwL7IZsiWtxqGcpLCssKx1rNKpmaD0pXKogKe8qLmjU6R3r6WzXqsLp06cCpmHpTGpt6ADmkeSbZMinG+WvZMXl92XbaAinTCQ8JLVljidFaDpk9iOv5a0m7+hKZxjkL+VaJjSnESkxZ+/oSekZJ2VmQGj/5+Pm8GZHJN/mYWisploi7iLep1ln7SbZZ47lX6XvZ/Mn9ugdJ84nVumxKowqMKnOarPr52xpaden3ysw7/DwKyy76jaqhO0+rozuMasM6z2tOy617wZvsq0L7KEuRO/R8BEu2i6A70gyBTNJMS5uy/Jytc52bPVecrUxGDRFduT3BDTB8951r7bluJ44Hfe1+A45KDmJegq5evobuhG7qn0hepO5Cjtiv0KBfX50u8H8yj5pQelBu/7pflZA/8KDQp0CtsA2/4vEm0WjQ/6DeAHPRDcGc0YrRT4F5oYSRikHFQe+CLTIjkiiSBdIVYs/CnDK2oq/y6PKmcxHDq9OZg4UjKVNARCdEYvQOUzODhlRQBHeUJMQMU6WzV+SmBIiztrQ6BFQEUQSdVIvkbBSz1LW0EwTvxXM1N7UWhW2Fg6UopRFlM+WQRlR1sYVrBTvE9TVxhjnFfxUnJaJFNEViVUeExXUUZaHV+BW7VbzlUxUGNa91xbWNtdOV0nV9pcJWB1XwZdBFpOWkFdA1jFUlhUo1ZGWWhWxlRMWCtSCkxJUuZYUlbZT9RHgkVaStZKjkw5UQtN1UgsSLZFeU5RSD5BZjtOQyxHc0R8OjQluFVzT7YiPzdTM145rkTxL/MmFS57OUszZCyfFNEeED4SNkwo3hwbFAopmzE7JLodqBiCFc0YzBaRFo4dZxkVF3QWmgzQEdsXWhCcEEkMcQU4CcwKgQfKB0H+B/45/dn7AQIO/pT1dvQL7ZHxnfi8++nxvuYc5UjxY/pW8GzlKuUV5nTldukI3TbV2OEP6MPXh9UI3afa9tfW0wPVbNmc39/VOc6Y2PjZbNmB16jPrcxy11vVVMr8yJfL488I0TLOOMtFyfDNRMjlxyjKaMYA0DvQHsVFyR7Ro8fPxzbIQcO6yMXPksQbwZzH3NB90dvC5MWgwjnNNN0+ygu/wb1iyfbL0MiLxFjEdtGvz3vC171ayIjLj8v9y5rET8EEy7nSjtQ91PnQ085Z0V/b8Nj3zcLVMNdY0EvTVtnw2Q3ZVtij0iXcrOJ854PmYN2x3jXfa+PG6HLiNd8Z4cLipuPI36zhHObz6VrrmOWF6fvrU+sQ9dDsNetf8yTyge+172j2/Pfl9pD7VvyTARsJ6/+cBO0QFg2QCP8KFw9qEoQNbg1lFiwMeROHEqgMCA5CDWkRORW/GccOcRJOINYmayDPG5okBi2bMmIpWSXFL7YufTAPMCgq5TPKNjgsDS6eN002VjixMuUnfTAvNTk52TesKXstljWuORs4ADtPObs2Jj5VQ8JBFkc8Pg89b0n1TR1SSEb9QY9NvlODUaJJekTNR0NJzkgpQvM9ZEMiRIdAUT3hOL05rEGUPgA8gEEURMhKqkphSvpIokh3S/pJ6kfIS71QWkqtQ7ZFuEggTMREFz3XQJ9DN0JUQRQ5LzUTN8Y81j7GOzg3lTRIOrpANDxWOcFAxTqYOU1BNT/HPiw8cTWyMwM1OzFBL4UyzS8HMOkuuCbeKJYqIClqKgckhieYLDojXyTrJAseWx0aHwsfnCjeJ6QcbBVrE2wV5hycG34O0BGXEwgZEBpTEcYMKRSDF2UVdw+VBJEKBRS8FHoJJABt/Q8BCgX5AKEBT/2D/g4Aufag8sD2rfqO9x71MO4N8JT2jvhY9Nfs6+jP6gzv0Oy95UDk2OEH54/ujuAz2xrXUNpL3/bXstSO1djWmNma3DnZsdHqz7rUaNPN0MXPFM0VwkHCEMfQyFnGc8Cgt1u+yr+tv7fEScT/wsvAZ8UXxqLGJMOYtgG69b2iuZ2yWrDWr4Wv6LSxrx6tRqg3p9ytUa1CreyjcqfzrsCvm677sByrPqeFro2vA7JxslGuAa9Iq8uptqsmr/OuDaroqcSpH7CysFCsBamkpYell6jBsG+vz6PhnjKfWKygq3CwBal6nUuwkLVAtSm0x66Nr7a2zrmutnu2IrQps5ay4LNHtQ22j7MZpQmv97Vktam5K7e+rKGs4LRdwajEmLXKtNy5E79TyKvIp8EAxKfO5NHjz/LQE9ej3unZGNSu2VrfTeFp3wHdxNlq4YfgJulG4nrjaOlq4jHkpuRJ53zyt/Py50rooPGj9j75e/z5ALb9k/8LB+4HOQrJEqkNLA05FnER1Bc0GhoTOBS2F+8ffidyH9sXuRvpIt0m1SS9Lbcv5CYXJfQoQjAVOhUvRyxTM9A0qDoXPQ89WDwGObA7AEjFURtPSkgPSEtLvVEKV0ZZ3lewU+5NGUwkUoxU/FjZTxZTz1aMVNJb51kpW+9atl3jXsFjLmKuXHdhsmOUYlxlk2BDYcRopmcAa+hnxl8EZVRwY3B+baBo4Wf2cVd1cnFycaNtr2lccWlve2jnZRdhjmMKY+9akl66Y6NhW2TmZElefmKtZkxjgGTdYLZoOGajYTNqc2ccaEBnymXrX+xV3VUwWmxciVuBTzBOSlS2UfhRc1DhUIlPq0sgTPVMmkgMQ/tLFFBFTCpEnkJXRrFJgkXKQw5G7iksO3VrnUGJLRkRcgeybphzwyvJBfD8Ky91X/JHtwxa99kURU30Sl8MTfmS/tYaUDvyGSf3rPlqEvkjDhjPBEn/DAl0FiYPfP6I+ncDNA72COH8CPRD9fX4A/lD9dPlqemX797r1OcQ6Zrnj+GY5R3nodsS1iHhNd6/3Q7bMNby3Ffbntfz0UrR2ddQ2vvTE8xVy1bNE8u1zSHKMcFjvo+/X8Rax5nD8riMusvAmMG4xovE170eubO9wcjGxXe8CLnTwr3BmcKwxQC4v7lXw6jEpcskw662SLe5vM3E8cM1uzG097UlxUTI3brMt1/D9MeaxUPG98HBvMjIGsqKwqbAnr/Uw6nFc8wLyqjE98FmwyPNpte2zuvFCshn0ALTvdlrzHbF+tL2153VudPV0JLPi9uN39beA+Gv2xjIm94c/fLcQdvo2JzrdOWW4oT0C+0n33frSObc5yrxUvYu9pDjrvDi5tgH9BCK8jHvNvfMC5YS8w6E87X8MBN8F8cPJwSNAywN8w+7EugUIgi7B6EBPA5KGRoTYxOqDwUUKR80JvQnUxypGWcl4iJnMf0q0hQ6Iwcw+iX1KVYsCSf/LWoqPCaXK2IpiSz0NFEwSjEQJzEtnUD+OLs29DNnMcQ4MUOLPGw5tzs4OFo/tELrPA05Oz1jQqE8+DqYOf43tDc5OVk+dDqxMto4HDlUNYsw5DFnPIQ7DDiNMnE0pDQSNTZARkISNjgrxzJTSwVPFDn+LN4z8DmEOwEx6S6nLsw5Tjg3HwAZziZcNkkweCgWJK8iLyn9KqMn7BppHJMlUSWXHx4aXBM3H3kqFCw3HtIUoBdVH/8iBB8rFlIOCBrvILgauQ8lDZwQSxB3EAwIvAmtCEkMpQYW/6D94//7DyQLfQLi8sP7UQ1UBmn3svZf/kQE9vrC7QHpSfMx/O33rO3E5Jzr4/MF/JP0OONG41nps+1b7BrjEeC53sfex92Q2JzUOdmy1GfQPsqhz8rW8tAkz7jFLsd+067ZsdGWyVvJxc4l0I7JVMrMwizEcMi1werEU73nvx3DALm4uXC8brkmuhu1urEYvBa5L6WdpeOsHq15sqirwKNFpf6pX6zBpUWlo6QpqGeua6ihoTuhUaLZqKmuOKlwmYyWtp8Xr4eyzJ94jhuGT5PjoGydFZSuhjqI95KplTmS1Yr3hhOEg4fqlK2RqovciYOHVI8PltaXa5FqjriKoYkmlxGZXZHciXuGfYqaigWSkJFPhnmE2I+9k96NRY74hw6J/I3fj36LnY6gkxKPFZMVoPKWm4sGk3uSw5wFnbuPQ5e3lTaZ6Z7vnM2hz6MKpsSpmqEdoD+o6Kh6qc+ka6jAr3ewfa4Qr0yx7K8drLOxGLt1uCK0Wa/wtozG68XZwGG74L+0ynvOeszkxcnJodDV0P7MYsmuzVLTitkM2IDWH9On2eDiauIr5pjkjuDh5HntKe+d7YTotO479EjxZO/p8CPxXfvdAtv9gfr9+Wb+rQgeDXMJVQjPD4kVyBB+D8QVNhzoIJ4f+xu7H30lDCB3G7odvCD+IHEp0ixgJisj1SXFLp01pDRzLL4vXDYpQgdHgjlbNa45j0JKSbBIDz11PPBFtE7cVDFQikZUTS1VGFawVBlNsku+UgRaNVa7TlJVAlavXR5IkUVPaL5qFGgzXzxVoF1SbXFwaGJvYJ5lUWwfbm1pVGRiZENt5m9IaP1lv2yeccR0ynLKZjJpI3THeTdxjmPvZqJsE3KpaxdgyWTzbK9pnmZDYYhajmRdZxtnFmscXdhYFGexYARaMVtoYX5hk2CEXyZVfWDjasxdzVNuU85UDVwUaJJeklJ/S/9Rl1r3XFJVW0wTTq1PIVmFVao+sUkSWXVT4kY9NN0xND20Qh0vgSvvN1o/J0AwN30xpDRYPAg9ZDh4NfQoMCqrM/Y2FCydKcYkJhoaKmko2B4XD90DtAirEBkR5waSAGz8lwhwEJYS7A6/AoH70foBA0/8DfwlAun8SgK//4j6KwBYAYj6Vvw89snsi/Mb79zn9ezr6FDnQOXq2ynjjetA5e3fpdac03rjCOhQ2grVYdOU03bdp9oVzsHU/tcEy7HSmdtn0HrMasm7vgjFgs2WyXzD78CNx+bJa8vazSfIHsXTwmm8QMFSxhXC6sRayK/Dd7sgyFHQecoywny3uLlayPbL77/lu/O6cr9PzXPMMMo7xU2/DsN+xnjIWcbVxQPJdc+6yTnBbsSJzdjKuMVZuvq6vcI4zBDe+tHUw27EN8rqzznZntYqzeHNDc4W0DbV0NQW0NTPTcoP0X3RK8+s1r/RfdCl1k/ZTNVA2ZPc+dzQ4GriEuIQ3tDgddyp3c7owest6Xni3d2Q5Gj2p/AI6JDjkeX064Lwce0L7sD1XfsD+fnzsPNP/Iv/6f2D/YH7Mv0q/EkAnQbWA//9xPwcCn8Q+g7kDmwKdQxbEu8UbRYjFXMUcR39Hm0X8BXGGBoeYBobFGQUiRWyHG0izCKYIZcf7h3EITIihx3GJAInPh0XJfAhYCUvKZwnyis2KSQvnDOjM8I1PTRvPnA/ZDdxNIc0qDrEOMI18S5vJkEu5zahPG89TDTxLgIzTjjFOi4zBSw+NVU3uzb4OaszQjCANfk7QTpdOIo6qDvUO5Y2FS5dLZQyezk4N88z4S32KnQutzA2NV0spCkcLkY2mjxkN3IqojGJONQ6VTcLKlQpLDBHOPgu2CqcKCkrUTEcLaAuLie8K/szHC5UKiYnryMVI9su4SzpIZghwx/jJLEm3x0kGM0YNRtOIEoauxJzFCUZ/R5RGW4YFxr3FdkTrBI0DgAN7xTUGDIWNQ+SC6kNUBj0G5AJ7gdLG1AY8BUXD2kE6w0NFqMP1QKB+yL7qgPN/p35Ivs09bcBGATQ+IP92vzQ+MYBFv+G9+z1e/yL/9X/pu/m7Jz3NPR+9XTxoujR4iLks+2R5SHi5uGA4q7l5+I94BTZO9wX3Q/dnN+v2uzSb9Ia1uXTV89lzn7Sm9IJ00PRysv52zLZBMqXzGPKIMhv0r7P5shHzM7FkcImuna6ZsSDwsPAf72pucC7k7nKv+rD78CVvLC4K7c9vYLBkbaSuPS7sLmwuUe1k66jr3q0SrmYtsKy37JrtD+077Mps6a037FgrpWwhrC3rCSsc7XptvSwy6kQo8+wHrmftDOsGaY7rgO9rrXOrqeq/6pSuqi3lrKjr7+t6rcavxa5Aa5Rrj291MMUwbi6hruQwK7BALkOt/S8+MNgxqW+s70GtxbEy8xMyQjG+rodxObJn8z/zVXL0cuL0DPb/tjB1KTUKtj732rhqdyR2gjdj+Is593qoOX94jzqHulC56Dl4uag5kfwjPU/703tRu5v9ff86v6A+RH3kwIx+3H5UwTCBrgOXgrgB2ANVhV/HNwYBhczGLgaiiJ7IoMj8SKnITMkgy+ZLp4qcyz0KJIvNTL3LFMzajXqL002WDABMdo5sDuaPMU66jvwOaM/y0R5QatMZENuO7lK2U5CVJ5OgULsSaJUGln6VWBUCljWVadcX1+3XxdhAmMcaOhnF2CLX2FiCmRfa0turGS+XrJiUGp+YjNfCmMYYrVzQWlnbP9/7HlJahlwS3qodSZ5H3oRbw51c3Pra7drD2y+df90KWYyadVskGdIaTppR1zoZzVtkV1nX7pYLWG2aQxyiGUKTINe2HDoZ1ZzWWDoT99k3WEHXvhdY2WeZcBVxVE+WcpaKlxHWzNTYEgiT/dP10xUTa1PD0i1RGVFLT3mQLlKXkbmQEk7IDQiRAJL70MAPJ84GTVJPLVDfDukNDkulyvjMLYuLSaHHsofyR7hIUUedxClEtQXghUpExYMFAkZElUU7RDoCMkFtAd9AccDxQDD+j/76fzB+CHupe7z6jTpge/C7TTpkORx4L3lJPIc8Rzmqt5n3ena5+JQ5rvhiNfe1AfbLtRs2IHXqM+Sz37SAdG50kvTddA3yljEAcYay5nPiMtjv3i9Jscwy1fOUsZ4vae2MsJUypTH7r5dtJS68sUQxwq8LboDvVfCi8NOwCG/Pr6QwJ/BqrusvpS7i8NgxmC6b7otugS/eb+fwA64DLXYvivCPb1pvfW+B8QKyavIuMXtyBzOgcviw5DA08EUzb7PPMbpwa7Bhsi6yDTG6sMzxMDHV8+RzrTLY8v9yu3UXdjw2EHb/9qg2T7VttlX2t3ekOMy2svMGNOO4FzjLd6l1onYcuPk6G/q7Oou6/DxHfPh7/bu/Pez+MzyMvHd9UH+vfwG/S/5OPtt/gD/mf0y/UL/UABbBf0GrgqyBNEGQApjBvoOJg53DxkRxw/RE1cXNRtuGbMR/xYgHGIdzSQ7JRMfKyLpIfolzyfLIK4hKyJlIkwofidHIU0eKB7yJA0imyZFKcAmoycEK38zQS9WLa4tPTOtN4A2lDJKMdA0WzTCNbY6ZDfvNzs8ejiEMIUxGjYiN0w0nTTdMiUx4DYfM3YxoS96K6oyTTYCM3g03TKxMj0zUjJlLbcwajXXNB8zeCiYIW0vHjzeM2ws2CpqKf4stCsGLbooXSGwJG8lrCoTK4UlBB4pHzojRyC8IJEhYx8eJeYo4yMRHCUZuRvEFmMfiyQuHMcagBIwE+QazxvKH/IZ0BE9Ec4a/R5oGlUUQw9/EAsSQgzNDHQKBQl+D3IIsgS8CNQAKQd0Ch0BK/2Z/ur+mv+VBSP9mvMc8sL5pvsE+mD0HfNe8d72vfDA6gnrlPUU/CnuLOjy55r0U/cZ7JjktOKV4OrmMfDK4yvbdNmc07TjveUh1sHUjtQF2I/iHdwE1hfS7dRU4TPnluEC02rWE9fO3a/b6s+oz9DULNAuyBLJ0cuvzlXL6cFTvK2/3MRvxhK+2rahuAXA7Mahw+q3P7QBuhm9HroZvc24XbVpvKa1ErKxunKz46w1sDOs1a2BtKuxoa3FqyCl7qYop0epw6g8o5uj0KUeovOjPaQIojWk8aD5oKqjzqLNoBeiwaT7mPeeh6V3o2qmPqb9p7iivZ93ox2gA6VCoUWl16U9mfSZnpvHl8Sdnpysm7WeAZeymHqdy50UnROc+ZWsmtOeGJhGm/qi4KiQqEedK5+Pp6SxYbDdo82g5qWVsNiyoax6qJ6oq6UqqhGx/qm/rQW13a+ksc65zrngv+6+574IxuTGDMt1xIe+UMS/xcXCYMXdxvnERckFzffNqtOfzXrMH9Iy2jfh1dyN33fee9mS2xfeaeAn4N/gAOfn7cLto+qw59LvG/xi+Lj0xPCA7Tb4SQC+AAv60fma/zUE1wSNA4UCAAAKBdwNyBAXD5ILsAx8F9Ad/BFZDnMUkhjnHgUgyBxPIaUqVCrsJtcoMCpYMI0yVy5PLfw1Ijj6MUcs3TEyOW47EjZTNJk6jkCZOs07pUIiQ+BCIkTqRxxGikWySl1QtU8vTdZKp0UYV4Nd4U+nUW1Ra0/vWtNdJFMcUZZYolXMXVRZF1UiWnlZnViOV8tbOFr+W5pf+V56W1RY5WK7ZY5j2GQhWVhUyGMhZaFfX14bXJdbaWMFZ/dnGWTbXixfqmLJb+ZvhWBHW+NeD188YpdbR1t2YMVemV0MWqFTNld4WIVVB1MFUEVNSki5S0VMcEs1SlpLmVFzRC9A0EznTdBMX0c/Q1hHq0tESzFEyUF+SeBDIUEsO8o33T3HPg056S7tKIYn8CxQLyIs7h4wH7Uh/SpHLPwd5Bp1JMwiWx3sG24YSRjqGLocABhXFgYXexY/E/INrgrhCbwJhwUuBN8F+wQ1A1EBp/wY9/jylPUn93f2yeyV7I/uzuln9FX66vJT7AfnEeuX+8n42e7K4kHaGuN88oz1kO+g2XDTveXd6jzpeOAA0OTS9eA55S3dtNYzz2jTn9jA05XU6NcJ0svMp86hz6HPENP2ywrIusny0ObU284SyYjLlsqvz7nTyMjWxv3KTcrmyVDDBcCy0zXTjbuJwfbLJsdOzLDFC74DyeDLRMhCxOPEIsAkxMzCHsZhx0LFcclfxJnC1cVDxsbERMhh047Uccm0vxbEytas1ZLPlchfwyvP+NlG1gvKocSAyc/SCNF5y+DL/csg1UDYINWq03TOh9VQ2ibTd9PX1D3UUdyw3PLcCd5v3nDftOOA4t3eNd5u3Encqt6Q4zDjTuMs6CPlT+WE53PwjPSV64XpNeuS81f+wvkh7gTu1/jcAQ8BXvIF7+34oQCa/9/5UvWO91D+nASIB0QEUACwAaUGLAyMDUIMfwSGBBsJvwJ/BUIMqAwQDuAIdAtYDIMLCRCjEF4KFw/OGQ0VZRWSGJQOAhDSFOEVZRWlE9sXaxS7Eo0PVhVbHeQZXRQgEW4MBRUvHX4bfBjrGU0eeiCBIPUd1hrKH/IYORUNIVElWSVQI7wgHydHIbcYWhzCHqgj+iXQHbcYVB0bIdMiyBuiGY8eQSKIK7cjmBUEHqonuCUCJ6EjlRyRIckptS2dKcAbgxZgGZMkYCaHHTwbMhbWG2cl/yFZGqMbux5dIS0lJSRZGtET+BeGG4wlax9HFLQTDBQYG4ceEBt5E7gNwxNxHvQcYxK+DMEQJBjyGJ0e1RmnFgMdHBYNFRUXWhvdGp4TIBGVEBkSrhUGF+ATZgxeCmQUdhqaDRsJwwgiCDsNcgjFAAEDigrrAnAEsQPN/0sDTQerBAf+pAW4Anv9uQMd/x3/jQMRBGoGg/7r9G701vbL/E77XfCr7NX03fXM8gzvE++S8hTwg/KC8GHqVe9e8rbxc+9b7ZXrMO717VzuUPIQ6avrF+rs6ivywews6Kndd96A4ubg1dwK1VjQLtOb3bbaqtNY0APVitpA2GjSxM182//ajtRU1S3RGNSO1bnTfdC8zFDDks+s1SrNi8910IfJGsu50onNTMinwjrDecutzHbG17xHwY7IjskqwU7AbcLowMfGNMUmx6DCZcL0xxbFssh1xLjF080Qx8vAFsUGwhvBUcUluQ63mcLMwxXCxLbIu1/Dcr8jwXrAp8JIwse68rgeuXbF3cYCvBvBr8M8xq/ODc63w4HAe8LvwBPL78vDy5HN2MpK0ePQltYp1yDURdXN0JDMqdGH1XPYLdJ20STaWNy/3N/gKtlg0WjSGN/r6S3pP+Pp2mHe4OKA7SrwHefN3CHhq+tg9JT1p/GU9aDx9PbR+XP74wF7/EL/pvuc98UAfgOsBwwJyAT3CaUGEAPYBqsRpxYhE6gXoRgcFswX0xalE2QUnBzpImkcLhunISkrDCyiJigpIiz6MYc1JTE1M1Q2ijl1PLNBdTzKNnc+R0QtSb88xjzHSY1Lb0koTUVNIExPUBtQ90QYShNPck63UzJRL0yoU8JZpVr3XIlb4VyjYaxkMGZ9YP9oJ278cDdwo2FWaKVxP3IJbXVq/2jPbWx07G3JZF9qz26MbBRnwmQdav9oZmpsZ6dpfm0NaKFrC3BUcCly8HRTbt1hxnalfN97+HUhcY1ub22beKp56HNfak5m72aTa1JtUWw6apJqZGb6YdRq4Wf/aU1lp11YXxdhUmFDYSVfB14EWZ9bt1/DWyFZeFjQVxJYSFFvSdpQe1yGVh5ISj3vQxZUTVmrTB076TnASV9TT0WPNmYvKDY+QWA91C+IK1kxfTAhNkAs/iBfI10tDS2RIm4ZDhdWIewmpiBUHrkbtxggHU0eVxY0DcwKPAMsDDUPvwFm/hP7gPkh+f770Pic9lr3EfeS8uDubPD17H7qPOqg5ozos+0P6BTk+9685IToDORw3+Xfjd+I4i3qq+B828Xax93X39TbatXK117adNq92hDSY8sTyxLJoM4I0QDFGMiuzZbJCshuxOrD28/myNnAfcWryCPOPchjvnK/R8GFxhrKNsjAx1/DrL57wgnHWshFyc7FXcFUvvHCfMN1w62/Cry8wFDDYr2NvJW8LLnvv7jF6MCRwkHCJ73xw/PGY8rz0XvOosZZxvfM2s1Gy57LyMiCzWDRg84C09rN+c9BzonN1tPk3QHentcaysDHs9WY2dDVMMvvzNbTxdpG1qTVf9TK18TlFOXQ4PfY29rY4p/kiOOV4MbcNuAw4iLvVe7E5Szov91s5FvsRe0X6hDpo+s+7dPx5eve65/wKe9E9372Be999Cn7gfuo8zf5GflF+aMEkv6C/FgBFgEKBT4GmQC+/ngFRhMQDy8GtfyHBU8WpxaiDX0BB/4aE9kfDhheCrf/Ega/DaYUiRT4C4kJFw5uDUoOsQ4GFxoe2RRvD7gOpBFqHRoeQxoNFQsTSBc0GXogWx4VFiIU5xKJFL0iVB3BEaoPgxZBIjwnux8BDjwOtRQKHO8gQRf0ELUUohrJHpQarRMoEooXxhk7GaIa/RIiFPMaHxupGWMSQBVYGGYYLhutE2sUZRbfEc4aDxkWDTMMfxHPEGIRmQtyB9oJ9RHiFlMRXQm8CUkMbBW1FawH/AUEE2MemhknEEELCRB0F+sZPhJ/BasFWA3RE4wNsP+1/DP+qQL1BS0Cxf53BDMB//14BRkFuQMnBT8IWAzRBkUFYAK3/+UDHgKu/G3+i/7i/VT5xPGn8Szz1/fE8YDt//EH8077/fkj8KDxe/Fy7gHqYOjH6rPtbPDG6JPoUOd+6krpHOZV71zjAOim41nd9+Sv28/e690/15DXp9or2l/bsdJPzjDKA8n5z+LOl8wizJ7KzM7w2K/aVtn32OvRRNQ70K7NMNdNyiPNk8UxwMPAwLt7wg7DgrZOtY+zGbIuvGOzLqSdpSq14rbOuWC5kqvPr9PCmMH9slOxua/9s9PCJLg+slKvVLJFsaOveLHQplqkSaDxn5uvVp0RpFGi056ksSytbKqOsTi1Y7P9p4Shb6PiqhGxlaXepA+iK583pwypuKIinGqajaO0s366664drJWxfa5vr42wNa/Wr8at5a9mrFisuqaspqaoS69DrsWrfa4+pxCvIL2pxR65/rTduq3Lysubusu13Li3wx7Gh74MtMi8QcIrwjfKAseCwVDD4c0Oz4LN080TzAXY49xf3OLaqdxW2RjT5NEU2efiIeEf32Ddj+II6E7k3+Gz7LHqdecW55nmHP1nAsruuOjD+gkENAIT++/uSvUgBTwDHQFl/NvyFv9nDfcV5QOj9oAGoRiJIPYTYQSHBTwb8ybgH/kYpRJ/HOMjVR+zHqUfSiXhLHE1jzaHNMI1gy/4LmI02DV/M20uJjJEM2EyBDaANSM5zEW2RWtDTkP+RBtEHUc2S3BLAkohTY5YsleXTvtLYFRqWRJZdVOiVUtW9Fe7WUBcw1snVxtbeVowWiReDl7sVc5VAld9XxVerVtgYHhkWmOdZJNf2110aQBrAWyMbAhs+mwOavFqx2w1bbxmT2hPdHlxxGicYhJkHmwVatdj62BEY45jv1/UXk1l22oQYphc0lthYftiLmM+ZCReFl/8ZLRlIVnBV7hgEmWBZlpWY07fTQFVkVykV1NMV0ZnSL9UqV9aV1VOPUzNU0JUg1KHTR5JB0fcR0JI5T/yO5Y2lzdvPbtBakE7PCI4UDstPYQ7mDknM644WT7GPNczmCyTMEQzKi3rJNMtmS5ZJmEn4yPtHMYkgyNyH1AjQxqrEI0QDRYTFNYPERHzD/oOkAntBXQLmAnxCwgNmv8DBWgOIgiVBaj+3QKRCgYLQwIj/IP+kwKiAp76IvtY87Xw3vam72Tv9Ovw5f3uivGL54/iZeWL2wLrWPQy5lrrY+3H6ULoTeIV5iznD+hF7PHa2s1a1FfmO9230DTRPsqByyXc4uaG1FHRv9BqynvaZttmz2rWO9GozzDXc82mzCDU7tWI13nWTMiExAfP1dE10ivPecqkyKrTYNFTyAfDv8Xbz1jEFMHvv+TFHdC8zPrF8sRox0bLy81yy0DNLsjtyJfMpMikyGTMaNMt0WDRcdW61XrYJtM3yrrJvMwB0WbPT80Oz9LMXMrAx73BBMsi1yDUn83lx7rJJtLF28/fzNkJ00fYzt373mPh99hs2MPjYuD032TjTuPZ4wfcddzX4O3fhNz42r7buN0W3JbVMOIY3+rbMeTX4KLoNuxj7dXp3elY53Dreu+d7KXt7++U9c/rVuXO6PL0rfuo8oDtPuHV6Vr3Qf23/ljzuuyV950FQwN/+Gns5+4mA3QLyPcx72zwYvdDA27/XvJo6vnzRgf5AKHzMPrs9skFAxJy+mvuPQR7CnwL0gmc9tf3oQyXE9gGcPbR+oEHiAciCSX/T/z5AGkFngcqCU0GJAAaCM4NqAvkDeAHi/+aDQcMHArzAwcAKQiKC4MLdwRX/vUGQQv6DnYOCgXgCCIUnhOMGeEUjgWCCcwKgAbMFi8d4AiO97P4fg5uGHYNNvcL+cwLGBz+FCoKogLwCWUV3hDsDiYOkQppEFQSKgodDMMIRgg8D1IPHg5+D6YJGwlBC9IJoAofDyEGOAhXC38F0AVrCEkMfxDbC08KnQU1AxMImQs6C8kFAwZkCEUFNQQVAJP/aAOo/sr68PEJ9r39aQTx/TT1sPRTBasExwMw+nb1Dfyf+zD6NAL9+Zz3DwLUAKT4gvA86jf6qP5E9wP4Wuuz7YP9r/1r7tji3erv73TxvfzL78Xmoumq6kXtpe604i7fJ+xL6jzqFOUc5UbjJehm8wHpyeBc7onv9dWL2xf1+uh13J3VeMg442byyeAz0ALHOMsf0yLkQdtGyt7HC8r+2N/gONeDzsDTgtg+1mLVwtZX2x/et9uQ2FPUx9FL3+LmY+G+z3/Ircvm1YDh4Na5xxnJGtb53FLewdSnzXfS4NZ72YjXM9Akz+zSF9Gw0NnME8tZ0ZbWJ9TKy+zGw8uj01bZcdUf0tXQ9cnd0knbJ+AT4yLYTsyi0WzYRN/J4MXbA+BM4JfXYd5f28rWodzj24LYU98J6ubg0OAk55/k4eR649HhruVr7zjvpuRq4ZLmGezM8jHvNeqH7L7z7vlE9tPxvvPQ+JIANvh29CT+m/VN+Qf/KfrGAdUBX/7q/jP+3QPbC3YCMQkoBngF9BA5FtIUGxSUGmIRQhkaHl8YLx2JILMeTR5MHQodLSaWKVEl9CeRId4cViyVNF8wQS7/Lc0wDjsXPWwtiCvlPwNBT0V4QNMtQS6gRV1PAEdFQA05hj8xUC1VvUW1RMtQdVIYV/JfzUfOSTNSt1KVVz1Xt1KcVvFep10DWApXRlkQYvNhXVutW4FbLF/WYpNf7lhSYWhi/GRwYldePGLqalRl0VmQZtJnplsNXEdbpGS9aQJjZVzPYV9qFmv2ZtVfsW3Nds9u9G6jYo1hq28Fc+hmz2LYZI1hDWhAZwJjT12NYUdnoWvMXR9irGUHX7VcDV3YZHtoTGORXK1aB1PRWcBhPlj3UBtcYWJBXj5YtlHmV9la9FZUWCNQQVJ4Vx9Wa06gRWNCezn+QzdOo0oVRkg6ZjvMRsRETkN9PJg4STsRP7E+ljVzLf8ujzY7MC8psCTVJN4osymmLE8i3hwxIcofYCVHLJwcfhq9ITYdmSKbGowNVxd8GDkV8RdNB7MGfxCLDNQLewqSALMGowQrAOQCHQHq/oH6OfxU+Hj30foY9oPyI/EW8zT0V/Lc9DjvHPFs8ULzmvSY8ejvleyW7Tft9e0t6bzje+WZ5lfmOeXf4FDb3Nwd26/bU+DG3IjXa9cl3IXdGN+/3OfWfdwl3K7YmNme15DYPtahz3rModCG1PrRdM7P0uDLBc0X0bTKoM44yxDHAMUUze/MyMcrznzDWshHzIvE1M9rzKLGXcyRwQvK9NNBzzrEs8lExybGTtjH0qW/d7xBwpXI1dCLxNLAB8RNypDX3tSMxevF+M5E1NfUB89Ny43SadThzJ/MgcvQ1Y3e0NVS0sDSG9gQ3prcYdN5yvnPNNHr0R3Qa8v7x1LTk9A/zLnSZNh13B3cu9YY0wPgQtwX6hbn3d2+59HhVNWQ4wXvfenB61DmDOPd6RvwNPRW8YXqJOfE8Iz1XvFA5NHiF/XJ+HjsS94l3DHvSQGoAO3sKOJ26H72+vXm9yb1k/Se+pLz/u8G8lX6j/m/9JT1tfsw+vz4uve69xT8IfkS+Rn5t/4A/6783/iX+nAE+QCC8Wz8owMdAX8Fzf7//Bn4l/rsA4UOKwtY9PXt+f8+EsQKq/eF9Uj9Bgv9Bo/6ffTD+7gCbwOoAHv9BwDtBbgO6f1y7qkBKvwu9xYB0/3e9/f8Jf9t/t/56PsUCQQIYwdC/+P+bAoKBev/r/4I9H72V/0H/8b/7/rI9gj1TPg5/SX/QwPcASj40vtpBOsBB/5V+l38WwUSBpr/MwFC/w8BlAOZ/rv5vf3//cv7evsm9mv62fvN/8j27+9e8hD1gfu7+Rj2hepj7bD0JP4U/P3tqehK9VkCHP3d6sTlee1a9rX7XO7S5KLpZO+i9UHyheqb6oTzqPLo5FDnvORZ6WrtjN2/3RHriONf54jjjd4S4tnj+98K4O/XL9WY2YXdud4W3NnX7NLx20nbldRR0VnS3tMG2uLaLtQ805PQ3dFX2r3a1dHMzk/OAND/zibTgcuqxvvHbc4K1JzHe8I4wGfFLtPc0Oy60bN1w+/MftMOxDm2UMN3x+/LD8UCu2+6c8FQz2DFu75OtV213MSsynm+trZSuwbCFsWsvjO41LgLvrO+A75avMe6YLkAuIS5Jbnfvd++Pr5cv/m4Eb2vwgXAscZ4yXvBcr9Su3m+rb/iwoe9rrYwvyC9pb95v0u7FcOow3m+gb9QxGLJfsbmyIPCEb1swcXDxcM6w7zAXsIKyQjFmMFTyDvRCdPPx6/D58t30rXYatbbzv/OZ9HS2NvaH9612M3Q0NX42fncDtvJ4BjfiOJg6c/fm96w6JDvu+3067nqEOn37wXv0e1J89TyGflT97n2nfkT+27z+PHe9tf3OfyDAM3+mf5X/iH5w/r2By0OYgX//RADPwjlDwYXghUtDlENLRrMFyAd/BxRDawdISq7Hz0c/B0SHhQsOi8aH5YdDCB7IjcqVizTLdwwxjBwKEMltzB/M1E9ZzwXMVIyYzYUOQtBDESXN3I3TEDSRPdE1j7mQFJKV1ETTg47XkZzT79UT1BlRWlMb1UhTplGyU0eVTdZr1KYUAVP6lIxWxNaflVzT7lWxV5QXuJdbFz/XMdgo1ZfUgVb8l/GXwxblllfX0ZmBmgjXTBZOl7uZJFoQ2AsVD5YwGJVZi1hD18yXbFhK2nIYv5b/13qXttd62B3YvFei14yXbVb4VsdX/xYTFeHWJ1Y3lbCWdxU9FZ9XzBZz1a7WkZaBl15WuRUkVFmUxtbrFnpUS9MvUUpTqJUKFiGSuU+/EwDTd5L60jIP1o/T0U3QVM/Qz6vOjU/Fz5VN1Y56EQfP/kwbDnmQOg4njbmNacuhSVaJ2UtiS00Jq4hRBy8IBwuDCylH6IZhhzKH0Mm3ijQHPQcDCCdHWYYgB78HXAbKB2ZF7sTfg+5EFMRIRPtEPQECwd2DvELUAyrBff8Yfa3AEUGAwWZ/Uf7SgJu/40DAAGb9TP/3QLI9tX0ufYrAHwANPQP6GL3HgJ78Tv04uYL7s0ACd926DH8c+Ql6CfgrtmQ42zkqegB3sTYKOI34aPqd+ts5FXjyuOo8tTyfNtK3U7kZOPQ4ODXwtWl4rPgwdQczojKC9aY2OjMCshgxb/Q1tL2yzDL3NCCzcXOrtmb0nTOQc+Py+zSkOP730/NotGi3aXhTdZbyW3PhdGb0fbLJscw1yjWvs85zSXQqtNIzlnSI87xzq7NW8nKyiTPpdabxnDHLdJPzqXWl9dT1NnMPdQk2jvc8OSD2mTX09lG10Hah+EH3LzjftPwwSva9eCW4enZt8TV0JveO9xM1RrL69FT4GLsHt3T2kXg49wu64/ubORO4zLmqekR6zXqpuSO4HLiNOkD7OrnfOdu6NHiLOfI9s3nVuTn7dXpuepX5vXh2uUs6C3qoum53//l6uaV4Irmkucj5S7ruuwc5YvntvJI8o/5Sf4c8kb6q/fx8u0E9/xg9Z35OvIP9O343+2n5QPsQuh96a/yoPIN8RPuI/DJ+CD4Nfav8vr0nfmZ/dP8A/jk9H/4Of1n/zL9pfq9/RcCgQj7BDfuNOmb9ZX3kAhYDFsGkwJN+U36h/g++KjzbPHC+doKmg2GBM0Apvu9/e/6nPc09KT4NA5kFE0TdArdAmMHGQaS/gECYQRICpoNjgUECEQEY/qy9jrzMfBz/DMBMfxZA6MDhgRGB5oBMv33/In8Mv3tBPUR5xJvDlAAA/kx+34DzwOR/DP+FQB3A1kPAQ7D+mTvzPJp9//8AQI/+lcAMwC+/jv/ZfG18OryUfQS+Vv43PN/99n61vbI9rby1uqk7A7yYPR49+T1x/Wm+1/+HfON6hPu8PF/99fs2vCy9sXyKfrp8QvthekB6mjqQOWu5Q/om+ox8HHsguS74eze3ekh7hzml+Ni4HboWfU89ZP0q+wv4ebhF+pl5UPeU+tW5bXk7evu4nDf1+BI5dTncuKH4IPmEOnK7nHsUOfI30/ZYd7f4XHg693a2T7iDeV02irZUdzF22XZMNdL0pDYI+XO6YLlA+CW4n/gOtvK1kbXgddd2PHa+dug2p7XBNcr2zPbutWx0Y3THdtM4IvnoumV3/zgst8k2hngBtkc2dDg8dpa32LgodzQ4I3fVtly19DUutTj27fbMdjg4zrmMOOE5z7hfejc6JDjk+ia6FfyuPVd76np2eM06J3thuut7kzs4e8b8DjvC+0R7A7y2frD+kb60PhU+Jf6df8O/uD64fuB+uf6xwO7B/D8I/zp/dwB9QVpBf8KWA1DDr0K1AviC+cHrgrfBuILwA4pE9cQDw13EMkRNA4kDIUO+xBrE3AbdhraFuYccR5cHw8kPRzKH0woHC09Mzgs2CqCLFEwjjRMNIUxsDBZMaMznTTKNzsxgix1MMUuSjHJNbcwcTRTP/M9Xjp6OAg8E0PpRSFBP0MeSapKlErjR3RFxkhxTGZGn0NtRs9L5UsnTFJJgU8eSV5RW00gQFVD/1ADWIdYeFhMTHFYhWGhXo5YrlyXWmJXNGCJXIZWcFZoVbtZPGETW6FTTlodXvhdNGDdVVtYPGFDYDdZrFk4WkRXe10jXINdu1lSVc1e6Vy7WftWmVLkVVZcElnBVw1c51lsXK1aEFXpUfFS7lghWSRSl055TdlPoVITT5xK+kjfTNFN3kvOSIVJiE4vTKpKh0zeSwhJCEkASHRG3Eh0RXA/Oz1uOx07oTsAO/oxKy/VMYc0UzMxLTcqdzJ+MhEzszQAMPYqhTJkLEQnCTIBMWUtLyktGkYrhBhDJRUuiRQQG4QYSBeAHYEUjRB7FocSCxLiFmcNXguFGvYT1Q15B+4HLwZKGssVc/sXAgIE/wovEXsKR/sVAEcJzAoyChb/Hf5rB+v/wfg2+FDzSPE++DX20e0D7R7o+OZH8P7wR/Cs7brsNuzX63rv1vXE8cjrKvFP8avroecw4zXf2OLF5vnn9+Sc37He49wR3wvWutXf4BnhjdOF0ZjZjdOY2cDSRNMT18/S48+wxYPOONdc1zrabM1cy1rUdNmV1KfO0Mk80inXqdBZxsDGkMxlztnMm8abxinLIswpy2rJSsa3xP/NV8+30O7JEMZ90EbWV9sS1rHS3tO82ATXaNOW1j3U4trD12XNOs/J1V/brtjg1uzTv9G22sfdl9fO0bLUSdt23VDaUNqi3fPeWd222ZfXLNwD4CbenN/f4K7kOubK4r7msOgS7bnrleC84+nxv/SW7dffadTN57bysuvQ4LbZaevA9uHwEesQ6gXwqPLy6I3rcu5H8BzyvO/A6mzwwfe1/KP2Cev17Y/5t/8f9rrsMO4g+OP+UP6Z8j3s5vhq+cPvof7T8Mru1/f48QD/hP+z4BrjAwWLAGH24wAk5zfW9+/9+aT4kfxI8SnvjwbHA6D9DQor/tTzjveICA0KHwTmBWr4Mv2OBTH8Qv8HAMD16fCTAdP8VPnb/XPw0Pd+A+MAGfkm9uH8dQEsDFUHU/f69Pf81wQaCDn8ofOL82kEvw0ECBEFE/u+/rUJYwa+/jn9Hf+z+QL2JPNe8Rj2dPET79z0HfMx7+LyOPt0/UX50fp1/4QBJwVDAoP9gfvt+If5c/tG+gX7ePjn7Xzz7PVH8JP0te+x6e/vb/XI9uftt+cu6+T01P7u+Sjts+xO70fvWutE3xbc2+Yy8cj2QPF153fqyu4n64Xp9+SL3Mfex97L2HDfbdoi5EjxpuTw5b3lst9Q5mrtPuGA1lXXcNQ21OfWjtV41d3d+duL20Xhld9Y3InYlNMD1fbXltZp1B7FxsVjykHO9eAK4GvLgtmY8OvpPuFSxmy2S8de2v3WB8Ohw5HBPcj01FPUPciMxYfJO9EJ0yrNqMPFwznCbsQayvnEwMdox2XCYMbSzO/MBNYX0hXOV88vyUW+ubsdw0nQocTBvB7G3MRn0djKfrsMzLXM1MOXwKe2iLMmu5TGqcV/vCa6JcWO1cXaENIvyaTJudJ304HMaMeHvULFocSzvtfIB8SIvzbJysp7zhjHkcFwyCrNddAwy2jHUselygTLn82R2nrY+9Ni1T3U5dP701HRPsoP0VnRR83vzLPJ5dOm12HSyNQV2pDkbugx5NTbh9U94OXeLd0D4b/dVuRg6FnqNN1z2A7mifCo8szmSNqT3cjrq/c689Pl4tpu50j9Sf+P7UrpEffVAoT/lfjN82j28f0j/TH7YvdN+vn/AADN/iv9AQLqC2wJWQMpCIMLdw/vE8MUAQ62CmUK9hMuG24Y9hMXDpQbzhq9FqYg7A89HJAsCx+1FNMiwCdoJw0tZyXVJJMxFTo2NKkwVCnQKco270JvPXEpKy50LrVP8VFsLR0v50LXTOBDxjysKqw24EMOR3FM0y0rOj1L90/yVOFPc1AkR3NQD2AYV2ZTi0fSREtWz2HKWtpQyEpvSTNeSmAkXodMm0laV1VbAWAEWZxKZFuwX7JW1V8tYI5jhm4tbDNfX15jWVdeymV9YBNmA2R7XUFSIlsLcHNz4FpMWPFd01wnb/ZmalhDYMNaClfXY0FemVFuVItfCWHLXNFZqV+PWu5Nb2BqZZRVjlhrTpNUr10DWIJQ/U14TA5Tm1UaTi1JaElFTJxL5El5Qe9CrlAxUP1Odj1yNjw+RFbdVfMxNjW0N1ZEj0KWQZMxHzMuS6cuLj+KOSkrmS/zMu00TivPM1Y4kDevL68jMCqFMtosnSnZIGYjdydtIxIdGRJhD68LGh4qIegJPgaAEp8glx85FesNbBW7HwcYTRNBFpkLnwlDDpEKpRKTDc8DBgugC4v+FQA7/0kBrBJ6CCv9Sf8N/IEHyxT//fHy5PV0/RP69PZP8ADzFPCW4urz3vYv7FzjQebi5lvtHfPk6UXsj+3H6gbx0Oyw6KflF92F3ZfjweAW3Gje2tm74c7pnN9y1yDVstS74STm7N7/2WLVcteJ5HXcENM62vjZkdot3gLUeNWd4HrYEtU21SrNVtgJ3rHSUdFo0snV6dpU1b/R6NcW3NPZM9xW2P7YeteZz+PQlNNm2zHY7NJIzgTWm91L0xXPStH60QTW8dui3SDUQNjx2hLWk9Am0+3ftOMB3oHXDdkP3U/lq9+P1l7a8c6W1ebgJ9+K2qzWvtsS4U/ZKOEB3ofVlN6h3IXd8+lB5ofhjN1H2Abm8udc4ivbr9pq4iPZSNki4/zh+96b3gjdP+N/7DLmxOV854Ll8uiV66XuuPTZ74vbJd1J59jtQ+ps5SHiQ96p6F3vheqb6frpkOQ16mnsm+nE5aDlZ+hs8Mf1J+vY7dz0L/mQ79PlU+st9br3+PHe6/Dkeu+w9PjyqPIj8Cb2LvZU+Kr1Ie6/9JT2ovXt+NX00e337yPx0fnE/Hzzh/ir9/X5X/4rAEH9vPua81XvvvIp+nj3HPL38PT3mf309kHyq/jM/R/2ify9/OLxefnb/rn2qvYP9GD0kPuX+vH9g/6z+LH1PvhuATQCJQIp+3D3c/uL/hUAAQMU/P35/vv9+gb9Zfy6+J76/fq69wL36fyv/Wv7tPqd+e/7pPc99zz1BfsM+2D1H/YZ+Nr8Rvpa92f0oPLk9br3Nvdg9K/y6O999FL1aPWE9KbvKPhD9aDyyvqa9MTld+tu80T2i/Nm53niOuez4RPjhvaM9KXuE+Oq3sLtyfmX+9/sMeSQ46Prf/dJ8/7vxOT24/3tIu/q81Pr5d7P35fjEOl26L3l7+N33/zhiO6B7hfqs+DN3JXgy+/W9tfgNdPd0b7n4fuz7H3QPsrK4gzvAOjl3u3U7tZk11ThpeGA4oLkF9282JTe4+cZ7Ennqt4a467lb+rU5xbnSdtG18HfyuNf5/PduNFc18HfweDa2c7Rm9ER39znwuIB3V/bi9sW5+bswN685KLoqt4h4Uvf4Nfp5Xbp5uA934LZ3d4q5KvfRdXhzaHcN+FY3NfUC8rUz3TZRuPm4FLSysv91rDnOuax3XXbjd7B7Pfw+uhx4Sjidukx77Do3Oi+5mriZfAS7YPmoOWI4k7vp+Xu4QvhwN4R65fuLekO5rzj0uO18Czzd/bR+eT0SPIY933/zQEV/kD8ZPu9/Pz3L/lM93XzJP7V/yP95/ky/Sv+YQSuCtUC5QQmDuAH8QvXETwPBwxKDrEOlA4JDzQNrRN7Fq8X9xSQFFYV0Bx9JWgnxiR2GQIc2iFRMV8vASZnJOcqjTNVK04rQCHQKFQ2nDOcJ4wlTisUOLNA9DPTLj83STwxQ7BIVUIPPX09YkCQRBJNHz8sOyQ7Uz9xTWtOb0m8RKBFRU1BUpZN10xtRr5Hm1WNVt9M5056T9pQ91sYVylPkE+oU7pYEllfUv1Ol09bWDhaI11BXTZXI112YEhov2vQYwNkqWxeaNNodGlDYXNcmV4DZBpl+mBbWHZV11fFXS1g4l0IVX5W0FeIWoRfDl5WXFlg+WrbarpjHmCqYqxYFV4HatBjR1tEV75SoF2rYxVeqlYdUvFSjFTkVFBSOVG4SVRNqFKXT79I2UN2SIRTd1ZoSdlCHEUZTZBPKE3sSWxEBkUYSmRP8kc/QyRH4UTpRTBC30CkNQw4qDroLLM1nTRRMe0zuinbL8cx5in9Nlw2giyjJ3siRCdBL8wukCCwGFYhuzY+Nvwo4BM3EpslqicIGfAW9yFnJMAaMhZCGAQTshDsDpEVNA4DBrEC9wnuEvwRLQJH+33/4goHDFD+Ov75APn/VQdLA0T2bPEk8xr6SwP89xPvZfD48R71A/je99nuIu+a9Azv3uuf5D7hs+3p8LDnDOQD4Tvod+oq5O7h\" type=\"audio/wav\" />\n",
              "                    Your browser does not support the audio element.\n",
              "                </audio>\n",
              "              "
            ]
          },
          "metadata": {}
        },
        {
          "output_type": "stream",
          "name": "stdout",
          "text": [
            "🔊 Denoised output:\n"
          ]
        },
        {
          "output_type": "display_data",
          "data": {
            "text/plain": [
              "<IPython.lib.display.Audio object>"
            ],
            "text/html": [
              "\n",
              "                <audio  controls=\"controls\" >\n",
              "                    <source src=\"data:audio/wav;base64,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\" type=\"audio/wav\" />\n",
              "                    Your browser does not support the audio element.\n",
              "                </audio>\n",
              "              "
            ]
          },
          "metadata": {}
        }
      ]
    },
    {
      "cell_type": "code",
      "source": [
        "print(torch.max(torch.abs(denoised - noisy)))\n"
      ],
      "metadata": {
        "id": "T87eD9pWSJ1m",
        "outputId": "13f9b890-22b0-492a-a6bc-5f5667ac9ae3",
        "colab": {
          "base_uri": "https://localhost:8080/"
        }
      },
      "id": "T87eD9pWSJ1m",
      "execution_count": 46,
      "outputs": [
        {
          "output_type": "stream",
          "name": "stdout",
          "text": [
            "tensor(0.0367, device='cuda:0', grad_fn=<MaxBackward1>)\n"
          ]
        }
      ]
    },
    {
      "cell_type": "markdown",
      "source": [
        "# Check that model output is a good measure of whaliness"
      ],
      "metadata": {
        "id": "Ney3gBnoL_je"
      },
      "id": "Ney3gBnoL_je"
    },
    {
      "cell_type": "code",
      "source": [
        "import numpy as np\n",
        "import torchaudio\n",
        "from tqdm import tqdm\n",
        "import matplotlib.pyplot as plt\n",
        "\n",
        "def load_and_prepare(path, target_len=39124):\n",
        "    waveform, sr = torchaudio.load(path)\n",
        "    waveform = waveform.squeeze(0).numpy()\n",
        "    waveform = waveform[:target_len] if len(waveform) > target_len else np.pad(waveform, (0, target_len - len(waveform)))\n",
        "    waveform = waveform.astype(np.float32)[np.newaxis, :, np.newaxis]  # shape (1, T, 1)\n",
        "    return waveform\n",
        "\n",
        "# Run model on clean and noisy sets\n",
        "clean_scores = []\n",
        "print(\"Processing clean files...\")\n",
        "for path in tqdm(clean_paths):\n",
        "    audio = load_and_prepare(path)\n",
        "    score = embedding_model.model(audio, False, None).numpy().item()\n",
        "    clean_scores.append(score)\n",
        "\n",
        "noisy_scores = []\n",
        "print(\"Processing noisy files...\")\n",
        "for path in tqdm(noisy_paths):\n",
        "    audio = load_and_prepare(path)\n",
        "    score = embedding_model.model(audio, False, None).numpy().item()\n",
        "    noisy_scores.append(score)\n",
        "\n",
        "# Print means\n",
        "print(f\"\\n✅ Clean mean score: {np.mean(clean_scores):.4f}\")\n",
        "print(f\"✅ Noisy mean score: {np.mean(noisy_scores):.4f}\")\n",
        "\n",
        "# Optional: histogram plot\n",
        "plt.hist(clean_scores, bins=30, alpha=0.7, label='Clean', color='blue')\n",
        "plt.hist(noisy_scores, bins=30, alpha=0.7, label='Noisy', color='orange')\n",
        "plt.xlabel(\"Whale classifier output\")\n",
        "plt.ylabel(\"Count\")\n",
        "plt.title(\"Distribution of Whale Scores\")\n",
        "plt.legend()\n",
        "plt.grid(True)\n",
        "plt.show()\n"
      ],
      "metadata": {
        "colab": {
          "base_uri": "https://localhost:8080/",
          "height": 601
        },
        "id": "UXtlhOJyGwCS",
        "outputId": "2e4bfc79-5fe5-415f-b100-ae501c1750a3"
      },
      "id": "UXtlhOJyGwCS",
      "execution_count": 30,
      "outputs": [
        {
          "output_type": "stream",
          "name": "stdout",
          "text": [
            "Processing clean files...\n"
          ]
        },
        {
          "output_type": "stream",
          "name": "stderr",
          "text": [
            "100%|██████████| 550/550 [00:30<00:00, 18.08it/s]\n"
          ]
        },
        {
          "output_type": "stream",
          "name": "stdout",
          "text": [
            "Processing noisy files...\n"
          ]
        },
        {
          "output_type": "stream",
          "name": "stderr",
          "text": [
            "100%|██████████| 923/923 [08:18<00:00,  1.85it/s]\n"
          ]
        },
        {
          "output_type": "stream",
          "name": "stdout",
          "text": [
            "\n",
            "✅ Clean mean score: 4.1279\n",
            "✅ Noisy mean score: -0.8687\n"
          ]
        },
        {
          "output_type": "display_data",
          "data": {
            "text/plain": [
              "<Figure size 640x480 with 1 Axes>"
            ],
            "image/png": "[encoded data removed]"
          },
          "metadata": {}
        }
      ]
    }
  ],
  "metadata": {
    "language_info": {
      "name": "python"
    },
    "colab": {
      "provenance": [],
      "gpuType": "T4"
    },
    "kernelspec": {
      "name": "python3",
      "display_name": "Python 3"
    },
    "accelerator": "GPU"
  },
  "nbformat": 4,
  "nbformat_minor": 5
}